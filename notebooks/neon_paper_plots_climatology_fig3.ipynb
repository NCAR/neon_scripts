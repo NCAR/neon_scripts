{
 "cells": [
  {
   "cell_type": "markdown",
   "id": "a1542d31-3794-4108-8544-2becd146ba72",
   "metadata": {
    "tags": []
   },
   "source": [
    "# NEON Paper Plots (Climatology) -- Figure 3 + Figure 3 Alternative (boxplot)\n",
    "##### Author : Negin Sobhani negins@ucar.edu [@negin513](https://github.com/negin513)\n",
    "\n",
    "##### Last revised: 2022-09-29\n",
    "_______\n",
    "\n",
    "## Creating Climatology Plots for NEON sites\n",
    "\n",
    "This notebooks have the scripts for:\n",
    "\n",
    "1. Reading Evaluation (NEON) and model (CTSM) data for all neon sites\n",
    "2. Making climatology figures\n",
    "* time-series with standard deviation as shaded regions \n",
    "* boxplots \n",
    "\n",
    "\n",
    "Creating plots for all sites using 16 dask workers will take ~45 minutes. "
   ]
  },
  {
   "cell_type": "markdown",
   "id": "10ab2a31-cbf5-4178-88a4-dc35d7707136",
   "metadata": {},
   "source": [
    "# Imports:"
   ]
  },
  {
   "cell_type": "code",
   "execution_count": 1,
   "id": "68ce59c2-2769-431d-b565-880c82cf34f1",
   "metadata": {},
   "outputs": [],
   "source": [
    "import os\n",
    "import time\n",
    "import datetime\n",
    "\n",
    "import numpy as np\n",
    "import pandas as pd\n",
    "import xarray as xr\n",
    "\n",
    "from glob import glob\n",
    "from os.path import join\n",
    "\n",
    "import matplotlib\n",
    "import matplotlib.pyplot as plt\n",
    "import matplotlib.dates as mdates\n",
    "\n",
    "import calendar\n",
    "\n",
    "import tqdm\n",
    "import cftime\n",
    "from neon_utils import download_eval_files\n",
    "\n",
    "import seaborn as sns ## -- seaborn only needed for boxplots:\n"
   ]
  },
  {
   "cell_type": "code",
   "execution_count": 2,
   "id": "d75ba391-9350-4daf-8550-38af54eb26df",
   "metadata": {},
   "outputs": [
    {
     "name": "stdout",
     "output_type": "stream",
     "text": [
      "xarray 0.20.2\n"
     ]
    }
   ],
   "source": [
    "print('xarray '+xr.__version__) ##-- was working with 0.20.0"
   ]
  },
  {
   "cell_type": "markdown",
   "id": "ac337a11-b9e7-43de-b9b7-d095a070fb2f",
   "metadata": {},
   "source": [
    "## Dask Cluster\n",
    "The following will spin up a dask cluster,  only works on NCAR machines. \n",
    "16 workers worked best for NEON."
   ]
  },
  {
   "cell_type": "code",
   "execution_count": 3,
   "id": "b4e6d2af-35a3-4931-8f3a-a0a9c144b4cd",
   "metadata": {},
   "outputs": [
    {
     "name": "stderr",
     "output_type": "stream",
     "text": [
      "/glade/u/apps/opt/conda/envs/npl/lib/python3.7/site-packages/dask_jobqueue/core.py:20: FutureWarning: tmpfile is deprecated and will be removed in a future release. Please use dask.utils.tmpfile instead.\n",
      "  from distributed.utils import tmpfile\n",
      "/glade/u/apps/opt/conda/envs/npl/lib/python3.7/site-packages/distributed/node.py:182: UserWarning: Port 8787 is already in use.\n",
      "Perhaps you already have a cluster running?\n",
      "Hosting the HTTP server on port 44467 instead\n",
      "  f\"Port {expected} is already in use.\\n\"\n"
     ]
    },
    {
     "data": {
      "text/html": [
       "<div>\n",
       "    <div style=\"width: 24px; height: 24px; background-color: #e1e1e1; border: 3px solid #9D9D9D; border-radius: 5px; position: absolute;\"> </div>\n",
       "    <div style=\"margin-left: 48px;\">\n",
       "        <h3 style=\"margin-bottom: 0px;\">Client</h3>\n",
       "        <p style=\"color: #9D9D9D; margin-bottom: 0px;\">Client-002ff4a8-4aba-11ed-9877-20001117fe80</p>\n",
       "        <table style=\"width: 100%; text-align: left;\">\n",
       "\n",
       "        <tr>\n",
       "        \n",
       "            <td style=\"text-align: left;\"><strong>Connection method:</strong> Cluster object</td>\n",
       "            <td style=\"text-align: left;\"><strong>Cluster type:</strong> dask_jobqueue.PBSCluster</td>\n",
       "        \n",
       "        </tr>\n",
       "\n",
       "        \n",
       "            <tr>\n",
       "                <td style=\"text-align: left;\">\n",
       "                    <strong>Dashboard: </strong> <a href=\"https://jupyterhub.hpc.ucar.edu/stable/user/negins/proxy/44467/status\" target=\"_blank\">https://jupyterhub.hpc.ucar.edu/stable/user/negins/proxy/44467/status</a>\n",
       "                </td>\n",
       "                <td style=\"text-align: left;\"></td>\n",
       "            </tr>\n",
       "        \n",
       "\n",
       "        </table>\n",
       "\n",
       "        \n",
       "            <details>\n",
       "            <summary style=\"margin-bottom: 20px;\"><h3 style=\"display: inline;\">Cluster Info</h3></summary>\n",
       "            <div class=\"jp-RenderedHTMLCommon jp-RenderedHTML jp-mod-trusted jp-OutputArea-output\">\n",
       "    <div style=\"width: 24px; height: 24px; background-color: #e1e1e1; border: 3px solid #9D9D9D; border-radius: 5px; position: absolute;\">\n",
       "    </div>\n",
       "    <div style=\"margin-left: 48px;\">\n",
       "        <h3 style=\"margin-bottom: 0px; margin-top: 0px;\">PBSCluster</h3>\n",
       "        <p style=\"color: #9D9D9D; margin-bottom: 0px;\">26ec987e</p>\n",
       "        <table style=\"width: 100%; text-align: left;\">\n",
       "            <tr>\n",
       "                <td style=\"text-align: left;\">\n",
       "                    <strong>Dashboard:</strong> <a href=\"https://jupyterhub.hpc.ucar.edu/stable/user/negins/proxy/44467/status\" target=\"_blank\">https://jupyterhub.hpc.ucar.edu/stable/user/negins/proxy/44467/status</a>\n",
       "                </td>\n",
       "                <td style=\"text-align: left;\">\n",
       "                    <strong>Workers:</strong> 0\n",
       "                </td>\n",
       "            </tr>\n",
       "            <tr>\n",
       "                <td style=\"text-align: left;\">\n",
       "                    <strong>Total threads:</strong> 0\n",
       "                </td>\n",
       "                <td style=\"text-align: left;\">\n",
       "                    <strong>Total memory:</strong> 0 B\n",
       "                </td>\n",
       "            </tr>\n",
       "            \n",
       "        </table>\n",
       "\n",
       "        <details>\n",
       "            <summary style=\"margin-bottom: 20px;\">\n",
       "                <h3 style=\"display: inline;\">Scheduler Info</h3>\n",
       "            </summary>\n",
       "\n",
       "            <div style=\"\">\n",
       "    <div>\n",
       "        <div style=\"width: 24px; height: 24px; background-color: #FFF7E5; border: 3px solid #FF6132; border-radius: 5px; position: absolute;\"> </div>\n",
       "        <div style=\"margin-left: 48px;\">\n",
       "            <h3 style=\"margin-bottom: 0px;\">Scheduler</h3>\n",
       "            <p style=\"color: #9D9D9D; margin-bottom: 0px;\">Scheduler-d335de0c-3da6-4278-b780-000cc01abd15</p>\n",
       "            <table style=\"width: 100%; text-align: left;\">\n",
       "                <tr>\n",
       "                    <td style=\"text-align: left;\">\n",
       "                        <strong>Comm:</strong> tcp://10.148.10.17:35573\n",
       "                    </td>\n",
       "                    <td style=\"text-align: left;\">\n",
       "                        <strong>Workers:</strong> 0\n",
       "                    </td>\n",
       "                </tr>\n",
       "                <tr>\n",
       "                    <td style=\"text-align: left;\">\n",
       "                        <strong>Dashboard:</strong> <a href=\"https://jupyterhub.hpc.ucar.edu/stable/user/negins/proxy/44467/status\" target=\"_blank\">https://jupyterhub.hpc.ucar.edu/stable/user/negins/proxy/44467/status</a>\n",
       "                    </td>\n",
       "                    <td style=\"text-align: left;\">\n",
       "                        <strong>Total threads:</strong> 0\n",
       "                    </td>\n",
       "                </tr>\n",
       "                <tr>\n",
       "                    <td style=\"text-align: left;\">\n",
       "                        <strong>Started:</strong> Just now\n",
       "                    </td>\n",
       "                    <td style=\"text-align: left;\">\n",
       "                        <strong>Total memory:</strong> 0 B\n",
       "                    </td>\n",
       "                </tr>\n",
       "            </table>\n",
       "        </div>\n",
       "    </div>\n",
       "\n",
       "    <details style=\"margin-left: 48px;\">\n",
       "        <summary style=\"margin-bottom: 20px;\">\n",
       "            <h3 style=\"display: inline;\">Workers</h3>\n",
       "        </summary>\n",
       "\n",
       "        \n",
       "\n",
       "    </details>\n",
       "</div>\n",
       "\n",
       "        </details>\n",
       "    </div>\n",
       "</div>\n",
       "            </details>\n",
       "        \n",
       "\n",
       "    </div>\n",
       "</div>"
      ],
      "text/plain": [
       "<Client: 'tcp://10.148.10.17:35573' processes=0 threads=0, memory=0 B>"
      ]
     },
     "execution_count": 3,
     "metadata": {},
     "output_type": "execute_result"
    }
   ],
   "source": [
    "from distributed import Client\n",
    "from ncar_jobqueue import NCARCluster\n",
    "\n",
    "cluster = NCARCluster()\n",
    "cluster.scale(16)\n",
    "client = Client(cluster)\n",
    "client"
   ]
  },
  {
   "cell_type": "markdown",
   "id": "90ec7dbb-609d-4033-905b-00ab54bd9db4",
   "metadata": {},
   "source": [
    "## Useful Functions and Objects"
   ]
  },
  {
   "cell_type": "code",
   "execution_count": 4,
   "id": "4ce9d25f-ffcd-45c8-988b-63a7ea60d83e",
   "metadata": {},
   "outputs": [],
   "source": [
    "def shaded_tseries( df_daily, df_daily_std, var, ax, color1= '#e28743',color2='#1d657e'):\n",
    "    \n",
    "    plot_var = var.obs_var\n",
    "    sim_var = var.sim_var\n",
    "    plot_var_desc = var.long_name\n",
    "    plot_var_unit = var.unit\n",
    "    \n",
    "    ax.plot ( df_daily.time, df_daily[sim_var], marker = 'o' , linestyle ='dashed', color = color2,label=\"CTSM\", alpha = 0.9)\n",
    "    ax.plot ( df_daily.time, df_daily[plot_var], marker = 'o' , color = color1,label=\"NEON\", alpha = 0.9)\n",
    "    \n",
    "    ax.fill_between(df_daily.time, df_daily[plot_var]-df_daily_std[plot_var], df_daily[plot_var]+df_daily_std[plot_var] ,alpha=0.15, color = color1)\n",
    "    ax.fill_between(df_daily.time, df_daily[sim_var]-df_daily_std[sim_var], df_daily[sim_var]+df_daily_std[sim_var] ,alpha=0.15, color = color2)\n",
    "\n",
    "    ax.set_xlabel('Time', fontsize=17)\n",
    "    ax.set_ylabel(plot_var_desc+\" [\"+plot_var_unit+\"]\", fontsize=17)\n",
    "    \n",
    "    \n",
    "def climatology_tseries_allvars_fig3 (fig,  df_daily, df_daily_std, all_vars, plot_dir, color1= '#e28743',color2='#1d657e' , save_switch=False):\n",
    "        panel_labels = [\"(a)\", \"(b)\", \"(c)\", \"(d)\", \"(e)\"]\n",
    "\n",
    "        axes = fig.subplots(nrows=5, ncols=1)\n",
    "        axe = axes.ravel()\n",
    "\n",
    "        for index, var in enumerate(all_vars):\n",
    "            ax = axe[index]\n",
    "            \n",
    "            shaded_tseries ( df_daily, df_daily_std, var, ax,color1,color2)\n",
    "            \n",
    "            ax.text(.025,0.90,panel_labels[index],\n",
    "                horizontalalignment='left',\n",
    "                transform=ax.transAxes, fontweight='bold',fontsize=19)\n",
    "\n",
    "\n",
    "            # Set the locator for boxplots\n",
    "            locator = mdates.MonthLocator()  # every month\n",
    "            \n",
    "            # Specify the format - %b gives us Jan, Feb...\n",
    "            fmt = mdates.DateFormatter('%b')            \n",
    "\n",
    "            if index == 0:\n",
    "                ax.text(.5,1.03,'NEON site : '+neon_site + ' [2018-2021]',\n",
    "                horizontalalignment='center',\n",
    "                transform=ax.transAxes, fontweight='bold',fontsize=19)\n",
    "                ax.legend(fontsize = 17)\n",
    "\n",
    "\n",
    "            ax.tick_params(axis='both', which='both', labelsize=17,width=1,length=7)\n",
    "            ax.tick_params(axis='x',direction=\"in\", length = 7)\n",
    "            ax.yaxis.set_ticks_position('both')\n",
    "            ax.tick_params(axis='y',direction=\"out\", length = 7)\n",
    "            \n",
    "            X=ax.xaxis\n",
    "            X.set_major_locator(locator)\n",
    "            X.set_major_formatter(fmt)\n",
    "            \n",
    "            ax.get_yaxis().set_label_coords(-0.05,0.5)\n",
    "\n",
    "            if index == 5:\n",
    "                X = plt.gca().xaxis\n",
    "                X.set_major_locator(locator)\n",
    "                X.set_major_formatter(fmt)\n",
    "\n",
    "        ax.set_xlabel('Month', fontsize=17)\n",
    "        fig.subplots_adjust(wspace=0, hspace=0)\n",
    "\n",
    "        if save_switch:\n",
    "            \n",
    "            plot_name = neon_site+'_'+'climatology_tseries'+'_'+'allvars.png'\n",
    "            plot_dir = os.path.join(plot_dir, 'climatology_tseries_final', 'png')\n",
    "            if not os.path.isdir(plot_dir):\n",
    "                os.makedirs(plot_dir, exist_ok=True)            \n",
    "            \n",
    "            print ('Saving '+ os.path.join(plot_dir,plot_name))\n",
    "            plt.savefig (os.path.join(plot_dir,plot_name), dpi=600,bbox_inches='tight') \n",
    "            \n",
    "            \n",
    "            \n",
    "            #plot_name = neon_site+'_'+'climatology_tseries'+'_'+'allvars.eps'\n",
    "            #plot_dir = \"/glade/work/negins/neon_vis_plots/paper_plots/climatology_tseries_final/eps/\"\n",
    "            #if not os.path.isdir(plot_dir):\n",
    "            #    os.mkdir(plot_dir)            \n",
    "\n",
    "            \n",
    "            #print ('Saving '+ os.path.join(plot_dir,plot_name))\n",
    "            #plt.savefig (os.path.join(plot_dir,plot_name), dpi=600,bbox_inches='tight', format = 'eps') \n",
    "            \n",
    "            \n",
    "            plot_name = neon_site+'_'+'climatology_tseries'+'_'+'allvars.pdf'\n",
    "            plot_dir = os.path.join(plot_dir, 'climatology_tseries_final', 'pdf')\n",
    "            if not os.path.isdir(plot_dir):\n",
    "                os.makedirs(plot_dir, exist_ok=True)            \n",
    "\n",
    "            \n",
    "            print ('Saving '+ os.path.join(plot_dir,plot_name))\n",
    "            plt.savefig (os.path.join(plot_dir,plot_name), dpi=600,bbox_inches='tight', format = 'pdf')  \n",
    "        else:\n",
    "            plt.show()\n",
    "            \n",
    "def climatology_boxplots_allvars_alt_fig3(fig,  df_daily, df_daily_std, all_vars,plot_dir,  color1 = \"darkorange\",color2= \"steelblue\", save_switch=False):\n",
    "        axes = fig.subplots(nrows=5, ncols=1)\n",
    "        axe = axes.ravel()\n",
    "\n",
    "        index = 0\n",
    "        for var in all_vars:\n",
    "            plot_var = var.obs_var\n",
    "            sim_var = var.sim_var\n",
    "            plot_var_desc = var.long_name\n",
    "            plot_var_unit = var.unit\n",
    "\n",
    "            df_plot = df_daily.melt(id_vars='month', value_vars=[plot_var, sim_var])\n",
    "            df_plot['month'] = df_plot['month'].apply(lambda x: calendar.month_abbr[x])\n",
    "\n",
    "            ax = axe[index]\n",
    "\n",
    "            my_pal = {plot_var: color1, sim_var: color2}\n",
    "\n",
    "            ax = sns.boxplot(x='month', y='value', hue='variable', data=df_plot,ax=ax,width =0.513,linewidth=3,showfliers = False,palette=my_pal, showmeans= True,\n",
    "                            meanprops=dict(marker='o', markeredgecolor='black',markerfacecolor='white',markersize=7.5),)\n",
    "            legend_labels, _= ax.get_legend_handles_labels()\n",
    "\n",
    "\n",
    "\n",
    "            index = index+1\n",
    "\n",
    "            #-- Set the locator for box plots\n",
    "            locator = mdates.MonthLocator()  # every month\n",
    "            #-- Specify the format - %b gives us Jan, Feb...\n",
    "            fmt = mdates.DateFormatter('%b')\n",
    "\n",
    "            if index == 1:\n",
    "\n",
    "                ax.text(.5,1.03,'NEON site : '+neon_site + ' [2018-2021]',\n",
    "                horizontalalignment='center',\n",
    "                transform=ax.transAxes, fontweight='bold',fontsize=19)\n",
    "                ax.legend(legend_labels, ['NEON','CTSM'],fontsize=19)\n",
    "\n",
    "            else:\n",
    "                ax.get_legend().remove()\n",
    "\n",
    "\n",
    "            ax.tick_params(axis='both', which='both', labelsize=17,width=1,length=7)\n",
    "            ax.tick_params(axis='x',direction=\"in\", length = 7)\n",
    "            ax.yaxis.set_ticks_position('both')\n",
    "            ax.tick_params(axis='y',direction=\"out\", length = 7)\n",
    "            \n",
    "            \n",
    "            ax.get_yaxis().set_label_coords(-0.035,0.5)\n",
    "            ax.set_ylabel(plot_var_desc+\" [\"+plot_var_unit+\"]\", fontsize=17)\n",
    "\n",
    "\n",
    "        ax.set_xlabel('Month', fontsize=17)\n",
    "\n",
    "        fig.subplots_adjust(wspace=0, hspace=0)\n",
    "\n",
    "\n",
    "        if save_switch:\n",
    "            plot_name = neon_site+'_'+'climatology_boxplots'+'_'+'allvars.png'\n",
    "            plot_dir = os.path.join(plot_dir, 'climatology_boxplots_final', 'png')\n",
    "            \n",
    "            if not os.path.isdir(plot_dir):\n",
    "                os.makedirs(plot_dir, exist_ok=True)            \n",
    "            \n",
    "            print ('Saving '+ os.path.join(plot_dir,plot_name))\n",
    "            plt.savefig (os.path.join(plot_dir,plot_name), dpi=300,bbox_inches='tight')     \n",
    "        else:\n",
    "            plt.show()\n",
    "            \n"
   ]
  },
  {
   "cell_type": "code",
   "execution_count": 5,
   "id": "167472fe-4915-4790-bc9e-c17fa6bc0e85",
   "metadata": {},
   "outputs": [],
   "source": [
    "class PlotVariable ():\n",
    "  def __init__(self, short_name, long_name, unit):\n",
    "    self.short_name = short_name\n",
    "    self.long_name = long_name\n",
    "    self.unit = unit\n",
    "    self.obs_var = short_name\n",
    "    self.sim_var = 'sim_'+short_name\n"
   ]
  },
  {
   "cell_type": "markdown",
   "id": "de6fa84e-b33a-44a1-aed3-c4c44e9d81c1",
   "metadata": {},
   "source": [
    "## Variables to create plots\n",
    "\n",
    "Create a list of variables instances for the plots. "
   ]
  },
  {
   "cell_type": "code",
   "execution_count": 6,
   "id": "c51ea8d8-6d00-49a9-9594-83d52410ed95",
   "metadata": {},
   "outputs": [],
   "source": [
    "all_vars= [] \n",
    "\n",
    "plot_var = 'Rnet'\n",
    "sim_var = 'sim_'+plot_var\n",
    "plot_var_desc = \"Net Radiation\"\n",
    "plot_var_unit= \"Wm⁻²\"\n",
    "this_var = PlotVariable(plot_var, plot_var_desc, plot_var_unit)\n",
    "all_vars.append(this_var)\n",
    "\n",
    "plot_var = 'FSH'\n",
    "sim_var = 'sim_'+plot_var\n",
    "plot_var_desc = 'Sensible Heat Flux'\n",
    "plot_var_unit= \"Wm⁻²\"\n",
    "this_var = PlotVariable(plot_var, plot_var_desc, plot_var_unit)\n",
    "all_vars.append(this_var)\n",
    "\n",
    "plot_var = 'EFLX_LH_TOT'\n",
    "sim_var = 'sim_'+plot_var\n",
    "plot_var_desc = \"Latent Heat Flux\"\n",
    "plot_var_unit= \"Wm⁻²\"\n",
    "this_var = PlotVariable(plot_var, plot_var_desc, plot_var_unit)\n",
    "all_vars.append(this_var)\n",
    "\n",
    "\n",
    "\n",
    "plot_var = 'GPP'\n",
    "sim_var = 'sim_'+plot_var\n",
    "plot_var_desc = \"Gross Primary Production\"\n",
    "plot_var_unit= \"gCm⁻²day⁻¹\"\n",
    "this_var = PlotVariable(plot_var, plot_var_desc, plot_var_unit)\n",
    "all_vars.append(this_var)\n",
    "\n",
    "\n",
    "plot_var = 'NEE'\n",
    "sim_var = 'sim_'+plot_var\n",
    "plot_var_desc = \"Net Ecosystem Exchange\"\n",
    "plot_var_unit= \"gCm⁻²day⁻¹\"\n",
    "this_var = PlotVariable(plot_var, plot_var_desc, plot_var_unit)\n",
    "all_vars.append(this_var)"
   ]
  },
  {
   "cell_type": "markdown",
   "id": "fbe596ba-3fd7-46f1-b1ca-e3ab79709354",
   "metadata": {},
   "source": [
    "---------------------------\n",
    "## Make Climatology Figure"
   ]
  },
  {
   "cell_type": "code",
   "execution_count": 7,
   "id": "577778cf-ea6b-413b-bf28-5ed1866bf474",
   "metadata": {},
   "outputs": [],
   "source": [
    "# -- read list of sites:\n",
    "neon_sites_pft = pd.read_csv('/glade/scratch/negins/preprocessed_neon_csv_data/neon_sites_dompft.csv')\n",
    "neon_sites = neon_sites_pft['Site'].to_list()\n",
    "\n",
    "failed_sites = [] # -- list for saving failed sites"
   ]
  },
  {
   "cell_type": "code",
   "execution_count": 8,
   "id": "c913bb51-ab6d-4f78-8a10-2792dd5575aa",
   "metadata": {},
   "outputs": [],
   "source": [
    "# -- read only these variables from the whole netcdf files\n",
    "def preprocess (ds):\n",
    "    variables = ['FCEV', 'FCTR', 'FGEV','FSH','GPP','FSA','FIRA','AR','HR','ELAI']\n",
    "\n",
    "    ds_new= ds[variables]\n",
    "    return ds_new"
   ]
  },
  {
   "cell_type": "code",
   "execution_count": 9,
   "id": "71724745-9019-40d4-b7bd-81b1f0a749f7",
   "metadata": {},
   "outputs": [],
   "source": [
    "# -- fix timestamp on CTSM files so they can be matched with eval files\n",
    "def fix_time (ds):\n",
    "    '''\n",
    "    fix time formatting with reading multiple cesm files.\n",
    "    '''\n",
    "    nsteps = len(ds.time)\n",
    "    yr0 = ds['time.year'][0].values\n",
    "    month0 = ds['time.month'][0].values\n",
    "    day0 = ds['time.day'][0].values\n",
    "\n",
    "    date = cftime.datetime(yr0,month0,day0).isoformat() \n",
    "    ds['time'] = xr.cftime_range(date, periods=nsteps, freq='30min')\n",
    "    ds['time']= ds['time'].dt.strftime(\"%Y-%m-%d %H:%M:%S\")\n",
    "    return ds"
   ]
  },
  {
   "cell_type": "code",
   "execution_count": 10,
   "id": "8240cb3b-bce8-485a-a5bd-441d34f12de4",
   "metadata": {},
   "outputs": [],
   "source": [
    "plot_dir = \"/glade/work/negins/neon_vis_plots/paper_plots_final/\"\n",
    "\n",
    "if not os.path.exists (plot_dir):\n",
    "    print (\"plot directory does not exist... creating it now!\")\n",
    "    os.mkdir(plot_dir)"
   ]
  },
  {
   "cell_type": "code",
   "execution_count": 11,
   "id": "d206a7cf-895b-4269-9008-e2c644e9a932",
   "metadata": {},
   "outputs": [],
   "source": [
    "## -- Setting some defaults for our figures:\n",
    "plt.rcParams[\"font.weight\"] = \"bold\"    \n",
    "plt.rcParams[\"axes.labelweight\"] = \"bold\"\n",
    "font = {'weight' : 'bold',\n",
    "        'size'   : 15} \n",
    "matplotlib.rc('font', **font)"
   ]
  },
  {
   "cell_type": "markdown",
   "id": "0dd6342a-689f-4385-90e8-4a96f6e30056",
   "metadata": {},
   "source": [
    "Going Through the list of sites and make plots for all of them.\n",
    "If you want to save your plots change `save_switch = True`. "
   ]
  },
  {
   "cell_type": "code",
   "execution_count": null,
   "id": "543a4bc6-9bac-4485-a9bf-063bf93a80b2",
   "metadata": {},
   "outputs": [
    {
     "name": "stdout",
     "output_type": "stream",
     "text": [
      "---------------------------\n",
      "Making plots for BART\n",
      "All simulation files for all years: [ 1461 files]\n",
      "Reading all simulation files took: 55.59032130241394 s.\n",
      "All evaluation files for all years: [ 48 files]\n",
      "Reading all observation files took: 1.712266445159912 s.\n",
      "Processing data...\n"
     ]
    },
    {
     "name": "stderr",
     "output_type": "stream",
     "text": [
      "100%|██████████| 10/10 [00:23<00:00,  2.30s/it]\n"
     ]
    },
    {
     "name": "stdout",
     "output_type": "stream",
     "text": [
      "Making climatology plots...\n",
      "Saving /glade/work/negins/neon_vis_plots/paper_plots_final/climatology_tseries_final/png/BART_climatology_tseries_allvars.png\n",
      "Saving /glade/work/negins/neon_vis_plots/paper_plots_final/climatology_tseries_final/png/climatology_tseries_final/pdf/BART_climatology_tseries_allvars.pdf\n",
      "Saving /glade/work/negins/neon_vis_plots/paper_plots_final/climatology_boxplots_final/png/BART_climatology_boxplots_allvars.png\n",
      "Making these plots for BART took :  110.1662814617157 s.\n",
      "---------------------------\n",
      "Making plots for HARV\n",
      "All simulation files for all years: [ 1461 files]\n",
      "Reading all simulation files took: 16.48396587371826 s.\n",
      "All evaluation files for all years: [ 48 files]\n",
      "Reading all observation files took: 2.3698410987854004 s.\n",
      "Processing data...\n"
     ]
    },
    {
     "name": "stderr",
     "output_type": "stream",
     "text": [
      "100%|██████████| 10/10 [00:22<00:00,  2.28s/it]\n"
     ]
    },
    {
     "name": "stdout",
     "output_type": "stream",
     "text": [
      "Making climatology plots...\n",
      "Saving /glade/work/negins/neon_vis_plots/paper_plots_final/climatology_tseries_final/png/HARV_climatology_tseries_allvars.png\n",
      "Saving /glade/work/negins/neon_vis_plots/paper_plots_final/climatology_tseries_final/png/climatology_tseries_final/pdf/HARV_climatology_tseries_allvars.pdf\n",
      "Saving /glade/work/negins/neon_vis_plots/paper_plots_final/climatology_boxplots_final/png/HARV_climatology_boxplots_allvars.png\n",
      "Making these plots for HARV took :  70.696697473526 s.\n",
      "---------------------------\n",
      "Making plots for BLAN\n",
      "All simulation files for all years: [ 1461 files]\n",
      "Reading all simulation files took: 17.06930422782898 s.\n",
      "All evaluation files for all years: [ 48 files]\n",
      "Reading all observation files took: 2.302212715148926 s.\n",
      "Processing data...\n"
     ]
    },
    {
     "name": "stderr",
     "output_type": "stream",
     "text": [
      "100%|██████████| 10/10 [00:23<00:00,  2.38s/it]\n"
     ]
    },
    {
     "name": "stdout",
     "output_type": "stream",
     "text": [
      "Making climatology plots...\n",
      "Saving /glade/work/negins/neon_vis_plots/paper_plots_final/climatology_tseries_final/png/BLAN_climatology_tseries_allvars.png\n",
      "Saving /glade/work/negins/neon_vis_plots/paper_plots_final/climatology_tseries_final/png/climatology_tseries_final/pdf/BLAN_climatology_tseries_allvars.pdf\n",
      "Saving /glade/work/negins/neon_vis_plots/paper_plots_final/climatology_boxplots_final/png/BLAN_climatology_boxplots_allvars.png\n",
      "Making these plots for BLAN took :  71.96930646896362 s.\n",
      "---------------------------\n",
      "Making plots for SCBI\n",
      "All simulation files for all years: [ 1461 files]\n",
      "Reading all simulation files took: 16.0431809425354 s.\n",
      "All evaluation files for all years: [ 48 files]\n",
      "Reading all observation files took: 2.986211061477661 s.\n",
      "Processing data...\n"
     ]
    },
    {
     "name": "stderr",
     "output_type": "stream",
     "text": [
      "100%|██████████| 10/10 [00:22<00:00,  2.23s/it]\n"
     ]
    },
    {
     "name": "stdout",
     "output_type": "stream",
     "text": [
      "Making climatology plots...\n",
      "Saving /glade/work/negins/neon_vis_plots/paper_plots_final/climatology_tseries_final/png/SCBI_climatology_tseries_allvars.png\n",
      "Saving /glade/work/negins/neon_vis_plots/paper_plots_final/climatology_tseries_final/png/climatology_tseries_final/pdf/SCBI_climatology_tseries_allvars.pdf\n",
      "Saving /glade/work/negins/neon_vis_plots/paper_plots_final/climatology_boxplots_final/png/SCBI_climatology_boxplots_allvars.png\n",
      "Making these plots for SCBI took :  68.96422004699707 s.\n",
      "---------------------------\n",
      "Making plots for SERC\n",
      "All simulation files for all years: [ 1461 files]\n",
      "Reading all simulation files took: 17.166373014450073 s.\n",
      "All evaluation files for all years: [ 48 files]\n",
      "Reading all observation files took: 2.412733793258667 s.\n",
      "Processing data...\n"
     ]
    },
    {
     "name": "stderr",
     "output_type": "stream",
     "text": [
      "100%|██████████| 10/10 [00:22<00:00,  2.28s/it]\n"
     ]
    },
    {
     "name": "stdout",
     "output_type": "stream",
     "text": [
      "Making climatology plots...\n",
      "Saving /glade/work/negins/neon_vis_plots/paper_plots_final/climatology_tseries_final/png/SERC_climatology_tseries_allvars.png\n",
      "Saving /glade/work/negins/neon_vis_plots/paper_plots_final/climatology_tseries_final/png/climatology_tseries_final/pdf/SERC_climatology_tseries_allvars.pdf\n",
      "Saving /glade/work/negins/neon_vis_plots/paper_plots_final/climatology_boxplots_final/png/SERC_climatology_boxplots_allvars.png\n",
      "Making these plots for SERC took :  71.49143576622009 s.\n",
      "---------------------------\n",
      "Making plots for DSNY\n",
      "All simulation files for all years: [ 1461 files]\n",
      "Reading all simulation files took: 17.00999617576599 s.\n",
      "All evaluation files for all years: [ 48 files]\n",
      "Reading all observation files took: 2.3686273097991943 s.\n",
      "Processing data...\n"
     ]
    },
    {
     "name": "stderr",
     "output_type": "stream",
     "text": [
      "100%|██████████| 10/10 [00:23<00:00,  2.30s/it]\n"
     ]
    },
    {
     "name": "stdout",
     "output_type": "stream",
     "text": [
      "Making climatology plots...\n",
      "Saving /glade/work/negins/neon_vis_plots/paper_plots_final/climatology_tseries_final/png/DSNY_climatology_tseries_allvars.png\n",
      "Saving /glade/work/negins/neon_vis_plots/paper_plots_final/climatology_tseries_final/png/climatology_tseries_final/pdf/DSNY_climatology_tseries_allvars.pdf\n",
      "Saving /glade/work/negins/neon_vis_plots/paper_plots_final/climatology_boxplots_final/png/DSNY_climatology_boxplots_allvars.png\n",
      "Making these plots for DSNY took :  72.48893404006958 s.\n",
      "---------------------------\n",
      "Making plots for JERC\n",
      "All simulation files for all years: [ 1461 files]\n",
      "Reading all simulation files took: 17.949631452560425 s.\n",
      "All evaluation files for all years: [ 48 files]\n",
      "Reading all observation files took: 2.213240623474121 s.\n",
      "Processing data...\n"
     ]
    },
    {
     "name": "stderr",
     "output_type": "stream",
     "text": [
      "100%|██████████| 10/10 [00:22<00:00,  2.25s/it]\n"
     ]
    },
    {
     "name": "stdout",
     "output_type": "stream",
     "text": [
      "Making climatology plots...\n",
      "Saving /glade/work/negins/neon_vis_plots/paper_plots_final/climatology_tseries_final/png/JERC_climatology_tseries_allvars.png\n",
      "Saving /glade/work/negins/neon_vis_plots/paper_plots_final/climatology_tseries_final/png/climatology_tseries_final/pdf/JERC_climatology_tseries_allvars.pdf\n",
      "Saving /glade/work/negins/neon_vis_plots/paper_plots_final/climatology_boxplots_final/png/JERC_climatology_boxplots_allvars.png\n",
      "Making these plots for JERC took :  71.25638270378113 s.\n",
      "---------------------------\n",
      "Making plots for OSBS\n",
      "All simulation files for all years: [ 1461 files]\n",
      "Reading all simulation files took: 16.277559757232666 s.\n",
      "All evaluation files for all years: [ 48 files]\n",
      "Reading all observation files took: 1.998046875 s.\n",
      "Processing data...\n"
     ]
    },
    {
     "name": "stderr",
     "output_type": "stream",
     "text": [
      "100%|██████████| 10/10 [00:21<00:00,  2.17s/it]\n"
     ]
    },
    {
     "name": "stdout",
     "output_type": "stream",
     "text": [
      "Making climatology plots...\n",
      "Saving /glade/work/negins/neon_vis_plots/paper_plots_final/climatology_tseries_final/png/OSBS_climatology_tseries_allvars.png\n",
      "Saving /glade/work/negins/neon_vis_plots/paper_plots_final/climatology_tseries_final/png/climatology_tseries_final/pdf/OSBS_climatology_tseries_allvars.pdf\n",
      "Saving /glade/work/negins/neon_vis_plots/paper_plots_final/climatology_boxplots_final/png/OSBS_climatology_boxplots_allvars.png\n",
      "Making these plots for OSBS took :  70.28339982032776 s.\n",
      "---------------------------\n",
      "Making plots for GUAN\n",
      "All simulation files for all years: [ 1280 files]\n",
      "Reading all simulation files took: 12.81027865409851 s.\n",
      "All evaluation files for all years: [ 42 files]\n",
      "Reading all observation files took: 2.167586326599121 s.\n",
      "Processing data...\n"
     ]
    },
    {
     "name": "stderr",
     "output_type": "stream",
     "text": [
      "100%|██████████| 10/10 [00:19<00:00,  1.95s/it]\n"
     ]
    },
    {
     "name": "stdout",
     "output_type": "stream",
     "text": [
      "Making climatology plots...\n",
      "Saving /glade/work/negins/neon_vis_plots/paper_plots_final/climatology_tseries_final/png/GUAN_climatology_tseries_allvars.png\n",
      "Saving /glade/work/negins/neon_vis_plots/paper_plots_final/climatology_tseries_final/png/climatology_tseries_final/pdf/GUAN_climatology_tseries_allvars.pdf\n",
      "Saving /glade/work/negins/neon_vis_plots/paper_plots_final/climatology_boxplots_final/png/GUAN_climatology_boxplots_allvars.png\n",
      "Making these plots for GUAN took :  61.61390972137451 s.\n",
      "---------------------------\n",
      "Making plots for LAJA\n",
      "All simulation files for all years: [ 1096 files]\n",
      "Reading all simulation files took: 11.35798954963684 s.\n",
      "All evaluation files for all years: [ 44 files]\n",
      "Reading all observation files took: 2.018705129623413 s.\n",
      "Processing data...\n"
     ]
    },
    {
     "name": "stderr",
     "output_type": "stream",
     "text": [
      "100%|██████████| 10/10 [00:17<00:00,  1.72s/it]\n"
     ]
    },
    {
     "name": "stdout",
     "output_type": "stream",
     "text": [
      "Making climatology plots...\n",
      "Saving /glade/work/negins/neon_vis_plots/paper_plots_final/climatology_tseries_final/png/LAJA_climatology_tseries_allvars.png\n",
      "Saving /glade/work/negins/neon_vis_plots/paper_plots_final/climatology_tseries_final/png/climatology_tseries_final/pdf/LAJA_climatology_tseries_allvars.pdf\n",
      "Saving /glade/work/negins/neon_vis_plots/paper_plots_final/climatology_boxplots_final/png/LAJA_climatology_boxplots_allvars.png\n",
      "Making these plots for LAJA took :  58.18025064468384 s.\n",
      "---------------------------\n",
      "Making plots for STEI\n",
      "All simulation files for all years: [ 1461 files]\n",
      "Reading all simulation files took: 16.988436222076416 s.\n",
      "All evaluation files for all years: [ 48 files]\n",
      "Reading all observation files took: 2.1155073642730713 s.\n",
      "Processing data...\n"
     ]
    },
    {
     "name": "stderr",
     "output_type": "stream",
     "text": [
      "100%|██████████| 10/10 [00:25<00:00,  2.51s/it]\n"
     ]
    },
    {
     "name": "stdout",
     "output_type": "stream",
     "text": [
      "Making climatology plots...\n",
      "Saving /glade/work/negins/neon_vis_plots/paper_plots_final/climatology_tseries_final/png/STEI_climatology_tseries_allvars.png\n"
     ]
    },
    {
     "name": "stderr",
     "output_type": "stream",
     "text": [
      "/glade/u/apps/opt/conda/envs/npl/lib/python3.7/site-packages/ipykernel_launcher.py:134: RuntimeWarning: More than 20 figures have been opened. Figures created through the pyplot interface (`matplotlib.pyplot.figure`) are retained until explicitly closed and may consume too much memory. (To control this warning, see the rcParam `figure.max_open_warning`).\n"
     ]
    },
    {
     "name": "stdout",
     "output_type": "stream",
     "text": [
      "Saving /glade/work/negins/neon_vis_plots/paper_plots_final/climatology_tseries_final/png/climatology_tseries_final/pdf/STEI_climatology_tseries_allvars.pdf\n",
      "Saving /glade/work/negins/neon_vis_plots/paper_plots_final/climatology_boxplots_final/png/STEI_climatology_boxplots_allvars.png\n",
      "Making these plots for STEI took :  72.37050008773804 s.\n",
      "---------------------------\n",
      "Making plots for TREE\n",
      "All simulation files for all years: [ 1461 files]\n",
      "Reading all simulation files took: 16.099208116531372 s.\n",
      "All evaluation files for all years: [ 48 files]\n",
      "Reading all observation files took: 2.191131353378296 s.\n",
      "Processing data...\n"
     ]
    },
    {
     "name": "stderr",
     "output_type": "stream",
     "text": [
      "100%|██████████| 10/10 [00:22<00:00,  2.27s/it]\n"
     ]
    },
    {
     "name": "stdout",
     "output_type": "stream",
     "text": [
      "Making climatology plots...\n",
      "Saving /glade/work/negins/neon_vis_plots/paper_plots_final/climatology_tseries_final/png/TREE_climatology_tseries_allvars.png\n",
      "Saving /glade/work/negins/neon_vis_plots/paper_plots_final/climatology_tseries_final/png/climatology_tseries_final/pdf/TREE_climatology_tseries_allvars.pdf\n",
      "Saving /glade/work/negins/neon_vis_plots/paper_plots_final/climatology_boxplots_final/png/TREE_climatology_boxplots_allvars.png\n",
      "Making these plots for TREE took :  69.31372261047363 s.\n",
      "---------------------------\n",
      "Making plots for UNDE\n",
      "All simulation files for all years: [ 1461 files]\n",
      "Reading all simulation files took: 16.360254287719727 s.\n",
      "All evaluation files for all years: [ 48 files]\n",
      "Reading all observation files took: 2.074568510055542 s.\n",
      "Processing data...\n"
     ]
    },
    {
     "name": "stderr",
     "output_type": "stream",
     "text": [
      "100%|██████████| 10/10 [00:23<00:00,  2.38s/it]\n"
     ]
    },
    {
     "name": "stdout",
     "output_type": "stream",
     "text": [
      "Making climatology plots...\n",
      "Saving /glade/work/negins/neon_vis_plots/paper_plots_final/climatology_tseries_final/png/UNDE_climatology_tseries_allvars.png\n",
      "Saving /glade/work/negins/neon_vis_plots/paper_plots_final/climatology_tseries_final/png/climatology_tseries_final/pdf/UNDE_climatology_tseries_allvars.pdf\n",
      "Saving /glade/work/negins/neon_vis_plots/paper_plots_final/climatology_boxplots_final/png/UNDE_climatology_boxplots_allvars.png\n",
      "Making these plots for UNDE took :  70.51074385643005 s.\n",
      "---------------------------\n",
      "Making plots for KONA\n",
      "All simulation files for all years: [ 1461 files]\n",
      "Reading all simulation files took: 16.2114999294281 s.\n",
      "All evaluation files for all years: [ 48 files]\n",
      "Reading all observation files took: 2.3501086235046387 s.\n",
      "Processing data...\n"
     ]
    },
    {
     "name": "stderr",
     "output_type": "stream",
     "text": [
      "100%|██████████| 10/10 [00:26<00:00,  2.62s/it]\n"
     ]
    },
    {
     "name": "stdout",
     "output_type": "stream",
     "text": [
      "Making climatology plots...\n",
      "Saving /glade/work/negins/neon_vis_plots/paper_plots_final/climatology_tseries_final/png/KONA_climatology_tseries_allvars.png\n",
      "Saving /glade/work/negins/neon_vis_plots/paper_plots_final/climatology_tseries_final/png/climatology_tseries_final/pdf/KONA_climatology_tseries_allvars.pdf\n",
      "Saving /glade/work/negins/neon_vis_plots/paper_plots_final/climatology_boxplots_final/png/KONA_climatology_boxplots_allvars.png\n",
      "Making these plots for KONA took :  74.17727208137512 s.\n",
      "---------------------------\n",
      "Making plots for KONZ\n",
      "All simulation files for all years: [ 1461 files]\n",
      "Reading all simulation files took: 16.650171279907227 s.\n",
      "All evaluation files for all years: [ 48 files]\n",
      "Reading all observation files took: 2.19685959815979 s.\n",
      "Processing data...\n"
     ]
    },
    {
     "name": "stderr",
     "output_type": "stream",
     "text": [
      "100%|██████████| 10/10 [00:25<00:00,  2.55s/it]\n"
     ]
    },
    {
     "name": "stdout",
     "output_type": "stream",
     "text": [
      "Making climatology plots...\n",
      "Saving /glade/work/negins/neon_vis_plots/paper_plots_final/climatology_tseries_final/png/KONZ_climatology_tseries_allvars.png\n",
      "Saving /glade/work/negins/neon_vis_plots/paper_plots_final/climatology_tseries_final/png/climatology_tseries_final/pdf/KONZ_climatology_tseries_allvars.pdf\n",
      "Saving /glade/work/negins/neon_vis_plots/paper_plots_final/climatology_boxplots_final/png/KONZ_climatology_boxplots_allvars.png\n",
      "Making these plots for KONZ took :  73.2345519065857 s.\n",
      "---------------------------\n",
      "Making plots for UKFS\n",
      "All simulation files for all years: [ 1461 files]\n",
      "Reading all simulation files took: 16.95416021347046 s.\n",
      "All evaluation files for all years: [ 48 files]\n",
      "Reading all observation files took: 2.8450894355773926 s.\n",
      "Processing data...\n"
     ]
    },
    {
     "name": "stderr",
     "output_type": "stream",
     "text": [
      "100%|██████████| 10/10 [00:25<00:00,  2.59s/it]\n"
     ]
    },
    {
     "name": "stdout",
     "output_type": "stream",
     "text": [
      "Making climatology plots...\n",
      "Saving /glade/work/negins/neon_vis_plots/paper_plots_final/climatology_tseries_final/png/UKFS_climatology_tseries_allvars.png\n",
      "Saving /glade/work/negins/neon_vis_plots/paper_plots_final/climatology_tseries_final/png/climatology_tseries_final/pdf/UKFS_climatology_tseries_allvars.pdf\n",
      "Saving /glade/work/negins/neon_vis_plots/paper_plots_final/climatology_boxplots_final/png/UKFS_climatology_boxplots_allvars.png\n",
      "Making these plots for UKFS took :  74.25790071487427 s.\n",
      "---------------------------\n",
      "Making plots for GRSM\n",
      "All simulation files for all years: [ 1461 files]\n",
      "Reading all simulation files took: 15.679336786270142 s.\n",
      "All evaluation files for all years: [ 48 files]\n",
      "Reading all observation files took: 2.844609022140503 s.\n",
      "Processing data...\n"
     ]
    },
    {
     "name": "stderr",
     "output_type": "stream",
     "text": [
      "100%|██████████| 10/10 [00:23<00:00,  2.35s/it]\n"
     ]
    },
    {
     "name": "stdout",
     "output_type": "stream",
     "text": [
      "Making climatology plots...\n",
      "Saving /glade/work/negins/neon_vis_plots/paper_plots_final/climatology_tseries_final/png/GRSM_climatology_tseries_allvars.png\n",
      "Saving /glade/work/negins/neon_vis_plots/paper_plots_final/climatology_tseries_final/png/climatology_tseries_final/pdf/GRSM_climatology_tseries_allvars.pdf\n",
      "Saving /glade/work/negins/neon_vis_plots/paper_plots_final/climatology_boxplots_final/png/GRSM_climatology_boxplots_allvars.png\n",
      "Making these plots for GRSM took :  70.76150965690613 s.\n",
      "---------------------------\n",
      "Making plots for MLBS\n",
      "All simulation files for all years: [ 1062 files]\n",
      "zero-size array to reduction operation minimum which has no identity\n",
      "THIS SITE FAILED: MLBS\n",
      "---------------------------\n",
      "Making plots for ORNL\n",
      "All simulation files for all years: [ 1461 files]\n",
      "Reading all simulation files took: 15.774394750595093 s.\n",
      "All evaluation files for all years: [ 48 files]\n",
      "Reading all observation files took: 2.4551026821136475 s.\n",
      "Processing data...\n"
     ]
    },
    {
     "name": "stderr",
     "output_type": "stream",
     "text": [
      "100%|██████████| 10/10 [00:24<00:00,  2.42s/it]\n"
     ]
    },
    {
     "name": "stdout",
     "output_type": "stream",
     "text": [
      "Making climatology plots...\n",
      "Saving /glade/work/negins/neon_vis_plots/paper_plots_final/climatology_tseries_final/png/ORNL_climatology_tseries_allvars.png\n",
      "Saving /glade/work/negins/neon_vis_plots/paper_plots_final/climatology_tseries_final/png/climatology_tseries_final/pdf/ORNL_climatology_tseries_allvars.pdf\n",
      "Saving /glade/work/negins/neon_vis_plots/paper_plots_final/climatology_boxplots_final/png/ORNL_climatology_boxplots_allvars.png\n",
      "Making these plots for ORNL took :  72.90891218185425 s.\n",
      "---------------------------\n",
      "Making plots for DELA\n",
      "All simulation files for all years: [ 1461 files]\n",
      "Reading all simulation files took: 14.227803468704224 s.\n",
      "All evaluation files for all years: [ 48 files]\n",
      "Reading all observation files took: 2.379361391067505 s.\n",
      "Processing data...\n"
     ]
    },
    {
     "name": "stderr",
     "output_type": "stream",
     "text": [
      "100%|██████████| 10/10 [00:25<00:00,  2.56s/it]\n"
     ]
    },
    {
     "name": "stdout",
     "output_type": "stream",
     "text": [
      "Making climatology plots...\n",
      "Saving /glade/work/negins/neon_vis_plots/paper_plots_final/climatology_tseries_final/png/DELA_climatology_tseries_allvars.png\n",
      "Saving /glade/work/negins/neon_vis_plots/paper_plots_final/climatology_tseries_final/png/climatology_tseries_final/pdf/DELA_climatology_tseries_allvars.pdf\n",
      "Saving /glade/work/negins/neon_vis_plots/paper_plots_final/climatology_boxplots_final/png/DELA_climatology_boxplots_allvars.png\n",
      "Making these plots for DELA took :  72.77847814559937 s.\n",
      "---------------------------\n",
      "Making plots for LENO\n",
      "All simulation files for all years: [ 1138 files]\n",
      "zero-size array to reduction operation minimum which has no identity\n",
      "THIS SITE FAILED: LENO\n",
      "---------------------------\n",
      "Making plots for TALL\n",
      "All simulation files for all years: [ 1461 files]\n",
      "Reading all simulation files took: 17.744348526000977 s.\n",
      "All evaluation files for all years: [ 48 files]\n",
      "Reading all observation files took: 2.3308446407318115 s.\n",
      "Processing data...\n"
     ]
    },
    {
     "name": "stderr",
     "output_type": "stream",
     "text": [
      "100%|██████████| 10/10 [00:23<00:00,  2.38s/it]\n"
     ]
    },
    {
     "name": "stdout",
     "output_type": "stream",
     "text": [
      "Making climatology plots...\n",
      "Saving /glade/work/negins/neon_vis_plots/paper_plots_final/climatology_tseries_final/png/TALL_climatology_tseries_allvars.png\n",
      "Saving /glade/work/negins/neon_vis_plots/paper_plots_final/climatology_tseries_final/png/climatology_tseries_final/pdf/TALL_climatology_tseries_allvars.pdf\n",
      "Saving /glade/work/negins/neon_vis_plots/paper_plots_final/climatology_boxplots_final/png/TALL_climatology_boxplots_allvars.png\n",
      "Making these plots for TALL took :  76.03863072395325 s.\n",
      "---------------------------\n",
      "Making plots for DCFS\n",
      "All simulation files for all years: [ 1461 files]\n",
      "Reading all simulation files took: 17.944292306900024 s.\n",
      "All evaluation files for all years: [ 48 files]\n",
      "Reading all observation files took: 2.0935418605804443 s.\n",
      "Processing data...\n"
     ]
    },
    {
     "name": "stderr",
     "output_type": "stream",
     "text": [
      "100%|██████████| 10/10 [00:26<00:00,  2.63s/it]\n"
     ]
    },
    {
     "name": "stdout",
     "output_type": "stream",
     "text": [
      "Making climatology plots...\n",
      "Saving /glade/work/negins/neon_vis_plots/paper_plots_final/climatology_tseries_final/png/DCFS_climatology_tseries_allvars.png\n",
      "Saving /glade/work/negins/neon_vis_plots/paper_plots_final/climatology_tseries_final/png/climatology_tseries_final/pdf/DCFS_climatology_tseries_allvars.pdf\n",
      "Saving /glade/work/negins/neon_vis_plots/paper_plots_final/climatology_boxplots_final/png/DCFS_climatology_boxplots_allvars.png\n",
      "Making these plots for DCFS took :  76.34003138542175 s.\n",
      "---------------------------\n",
      "Making plots for NOGP\n",
      "All simulation files for all years: [ 1461 files]\n",
      "Reading all simulation files took: 17.014989614486694 s.\n",
      "All evaluation files for all years: [ 48 files]\n",
      "Reading all observation files took: 2.3825466632843018 s.\n",
      "Processing data...\n"
     ]
    },
    {
     "name": "stderr",
     "output_type": "stream",
     "text": [
      " 80%|████████  | 8/10 [00:21<00:05,  2.78s/it]"
     ]
    }
   ],
   "source": [
    "save_switch = True\n",
    "years = [\"2018\",\"2019\",\"2020\",\"2021\"]\n",
    "\n",
    "for neon_site in neon_sites:\n",
    "    try: \n",
    "        start_site = time.time()\n",
    "\n",
    "        print ('---------------------------')\n",
    "        print (\"Making plots for \"+neon_site)\n",
    "        sim_files =[]\n",
    "        for year in years:\n",
    "            sim_path = \"/glade/scratch/wwieder/run_NEON_v2/tools/site_and_regional/archive/\"+neon_site+\".transient/lnd/hist/\"\n",
    "            #sim_path = \"/glade/scratch/negins/neon_v2/tools/site_and_regional/archive/\"+neon_site+\".transient/lnd/hist/\"\n",
    "            sim_files.extend(sorted(glob(join(sim_path,neon_site+\".transient.clm2.h1.\"+year+\"*.nc\"))))\n",
    "\n",
    "        print(\"All simulation files for all years: [\", len(sim_files), \"files]\")\n",
    "        start = time.time()\n",
    "\n",
    "        ds_ctsm = xr.open_mfdataset(sim_files, decode_times=True, combine='by_coords',parallel=True,preprocess=preprocess)\n",
    "        ds_ctsm = fix_time (ds_ctsm)\n",
    "\n",
    "        end = time.time()\n",
    "        print(\"Reading all simulation files took:\", end-start, \"s.\")\n",
    "\n",
    "        eval_files = []\n",
    "        for year in years:\n",
    "            eval_dir = \"/glade/work/negins/neon_scripts/notebooks/evaluation_files_2/\"+neon_site\n",
    "            eval_files.extend(sorted(glob(join(eval_dir,neon_site+\"_eval_\"+year+\"*.nc\"))))\n",
    "\n",
    "        print (\"All evaluation files for all years: [\", len(eval_files), \"files]\")\n",
    "\n",
    "        start = time.time()\n",
    "\n",
    "        ds_eval = xr.open_mfdataset(eval_files, decode_times=True, combine='by_coords')\n",
    "\n",
    "        end = time.time()\n",
    "        print(\"Reading all observation files took:\", end-start, \"s.\")\n",
    "\n",
    "        print (\"Processing data...\")\n",
    "        #Convert CTSM data to a Pandas Dataframe for easier handling:\n",
    "        ctsm_vars = ['FCEV', 'FCTR', 'FGEV','FSH','GPP','FSA','FIRA','AR','HR','ELAI']\n",
    "\n",
    "        df_ctsm = pd.DataFrame({'time':ds_ctsm.time})\n",
    "        df_ctsm['time'] = pd.to_datetime(df_ctsm['time'],format= '%Y-%m-%d %H:%M:%S' )\n",
    "\n",
    "        for var in tqdm.tqdm(ctsm_vars):\n",
    "            sim_var_name = \"sim_\"+var\n",
    "            field = np.ravel ( ds_ctsm[var])     \n",
    "            df_ctsm[sim_var_name]=field\n",
    "            #-- shift simulation data by one\n",
    "            df_ctsm[sim_var_name]=df_ctsm[sim_var_name].shift(-1).values\n",
    "\n",
    "        #Convert NEON data to a Pandas Dataframe for easier handling:\n",
    "        eval_vars = ['NEE','FSH','EFLX_LH_TOT','GPP','Rnet']\n",
    "\n",
    "        df_all = pd.DataFrame({'time':ds_eval.time})\n",
    "\n",
    "        for var in eval_vars:\n",
    "            field = np.ravel (ds_eval[var])\n",
    "            df_all[var]=field\n",
    "            \n",
    "            \n",
    "        # -- merge two pandas dataframe on time\n",
    "        df_all=df_all.merge(df_ctsm.set_index('time'), on='time', how='left')\n",
    "\n",
    "\n",
    "        clm_var = 'sim_EFLX_LH_TOT'\n",
    "        # -- Latent Heat Flux:\n",
    "        # -- EFLX_LH_TOT = FCEV + FCTR +FGEV\n",
    "        df_all [clm_var] = df_all['sim_FCEV']+ df_all['sim_FCTR']+ df_all['sim_FGEV']\n",
    "\n",
    "        clm_var = 'sim_Rnet'\n",
    "        # -- Net Radiation:\n",
    "        # -- Rnet = FSA-FIRA\n",
    "        df_all [clm_var] = df_all ['sim_FSA']-df_all['sim_FIRA']\n",
    "\n",
    "        clm_var = 'sim_NEE'\n",
    "        # -- Net Ecosystem Exchange\n",
    "        # -- NEE = GPP- (AR+HR)\n",
    "        # -- It seems like the sign are opposite so we calculated negative NEE\n",
    "        df_all [clm_var] = -(df_all ['sim_GPP']-(df_all['sim_AR']+df_all['sim_HR']))\n",
    "\n",
    "        # convert NEE units from  umolm-2s-1 to gc/m2/s\n",
    "        df_all ['NEE']= df_all ['NEE']*(12.01/1000000)\n",
    "        df_all ['GPP']= df_all ['GPP']*(12.01/1000000)\n",
    "        \n",
    "        # -- convert gc/m2/s to gc/m2/day\n",
    "        df_all ['NEE']= df_all['NEE']*60*60*24\n",
    "        df_all ['sim_NEE']= df_all['sim_NEE']*60*60*24\n",
    "\n",
    "        df_all ['GPP']= df_all['GPP']*60*60*24\n",
    "        df_all ['sim_GPP']= df_all['sim_GPP']*60*60*24\n",
    "\n",
    "        #-- extract year, month, day, hour information from time\n",
    "        df_all['year'] = df_all['time'].dt.year\n",
    "        df_all['month'] = df_all['time'].dt.month\n",
    "        df_all['day'] = df_all['time'].dt.day\n",
    "        df_all['hour'] = df_all['time'].dt.hour\n",
    "\n",
    "        #-- Calculate daily average for every day \n",
    "        df_daily_allyears = df_all.groupby(['year','month','day']).mean().reset_index()\n",
    "        df_daily_allyears['time']=pd.to_datetime(df_daily_allyears[[\"year\",\"month\", \"day\"]])\n",
    "        \n",
    "        #-- Calculate average of daily averages for all years\n",
    "        df_daily = df_daily_allyears.groupby(['month','day']).mean().reset_index()\n",
    "        df_daily['year']='2020'\n",
    "        df_daily['time']=pd.to_datetime(df_daily[[\"year\",\"month\", \"day\"]])\n",
    "\n",
    "        #-- Calculate Standard Deviation for daily average\n",
    "        #df_daily_std = df_all.groupby(['year','month','day']).std().reset_index()\n",
    "        #df_daily_std['time'] = pd.to_datetime(df_daily_std[[\"year\", \"month\", \"day\"]])\n",
    "        \n",
    "        #-- Calculate Standard Deviation of daily averages over years\n",
    "        df_daily_std = df_daily_allyears.groupby(['month','day']).std().reset_index()\n",
    "        df_daily_std['time'] = df_daily['time']\n",
    "\n",
    "        #-- convert to local time\n",
    "        tzone_shift = ds_eval.TimeDiffUtcLt\n",
    "        df_all['local_time']= df_all['time'] + datetime.timedelta(hours=int(tzone_shift))\n",
    "        df_all['local_hour'] = df_all['local_time'].dt.hour\n",
    "\n",
    "        #-- Calculate annual average diel cycle and bias\n",
    "        diel_df_mean = df_all.groupby('local_hour').mean().reset_index()\n",
    "        diel_df_std = df_all.groupby('local_hour').std().reset_index()\n",
    "        diel_df_mean['local_hour_dt']= pd.to_datetime(diel_df_mean['local_hour'], format='%H')\n",
    "\n",
    "        df_daily['site']=neon_site\n",
    "\n",
    "        print (\"Making climatology plots...\")\n",
    "        color1 = '#e28743'\n",
    "        #color1 = '#f7aa15'\n",
    "        color2 = '#1d657e'\n",
    "        #========================================================================\n",
    "        fig = plt.figure(num=None, figsize=(27, 37),  facecolor='w', edgecolor='k')\n",
    "        climatology_tseries_allvars_fig3( fig, df_daily, df_daily_std, all_vars, plot_dir, color1,color2, save_switch)\n",
    "        \n",
    "        fig = plt.figure(num=None, figsize=(27, 37),  facecolor='w', edgecolor='k')\n",
    "        climatology_boxplots_allvars_alt_fig3 ( fig, df_daily, df_daily_std, all_vars, plot_dir, color1,color2, save_switch)\n",
    "        \n",
    "        \n",
    "        end_site = time.time()\n",
    "        print(\"Making these plots for \"+neon_site+\" took : \", end_site-start_site, \"s.\")\n",
    "        #plt.close('all')\n",
    "\n",
    "    except Exception as e: \n",
    "        print (e)\n",
    "        print ('THIS SITE FAILED:', neon_site)\n",
    "        failed_sites.append(neon_site)\n",
    "        pass\n",
    "\n",
    "print (\"Making plots for \", len(failed_sites), \"sites failed : \")\n",
    "print (*failed_sites, sep=\" \\n\")"
   ]
  },
  {
   "cell_type": "code",
   "execution_count": null,
   "id": "34186561-dbd6-4097-a613-cb4a6d13deb0",
   "metadata": {},
   "outputs": [],
   "source": []
  }
 ],
 "metadata": {
  "kernelspec": {
   "display_name": "NPL (conda)",
   "language": "python",
   "name": "npl-conda"
  },
  "language_info": {
   "codemirror_mode": {
    "name": "ipython",
    "version": 3
   },
   "file_extension": ".py",
   "mimetype": "text/x-python",
   "name": "python",
   "nbconvert_exporter": "python",
   "pygments_lexer": "ipython3",
   "version": "3.7.12"
  }
 },
 "nbformat": 4,
 "nbformat_minor": 5
}
