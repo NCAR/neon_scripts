{
 "cells": [
  {
   "cell_type": "markdown",
   "id": "a1542d31-3794-4108-8544-2becd146ba72",
   "metadata": {},
   "source": [
    "# NEON pre-processor notebook\n",
    "\n",
    "##### Author : Negin Sobhani negins@ucar.edu [@negin513](https://github.com/negin513)\n",
    "\n",
    "##### Last revised: 2022-10-11\n",
    "_______\n",
    "\n",
    "This is a notebook for reading neon simulation and evaluation files and save them as csv files. This would be next used for creating statistics and spatial plots. "
   ]
  },
  {
   "cell_type": "code",
   "execution_count": 1,
   "id": "68ce59c2-2769-431d-b565-880c82cf34f1",
   "metadata": {},
   "outputs": [],
   "source": [
    "import os\n",
    "import time\n",
    "import datetime\n",
    "\n",
    "import numpy as np\n",
    "import pandas as pd\n",
    "import xarray as xr\n",
    "\n",
    "from glob import glob\n",
    "from os.path import join\n",
    "\n",
    "import tqdm\n",
    "import cftime\n",
    "import neon_utils as nu"
   ]
  },
  {
   "cell_type": "code",
   "execution_count": 2,
   "id": "2948f6a8-92c3-462c-9f8b-b36773994f7e",
   "metadata": {},
   "outputs": [
    {
     "name": "stdout",
     "output_type": "stream",
     "text": [
      "xarray 2023.6.0\n"
     ]
    }
   ],
   "source": [
    "print('xarray '+xr.__version__) ##-- was working with 0.20.0"
   ]
  },
  {
   "cell_type": "markdown",
   "id": "3ad6569a-a9c8-433e-952a-d4fe66182cb0",
   "metadata": {},
   "source": [
    "## Dask Cluster\n",
    "The following will spin up a dask cluster,  only works on NCAR machines. \n",
    "16 workers worked best for NEON."
   ]
  },
  {
   "cell_type": "code",
   "execution_count": 3,
   "id": "1e4d4aba-4712-48c3-ab45-14e3f3890b9c",
   "metadata": {},
   "outputs": [
    {
     "name": "stderr",
     "output_type": "stream",
     "text": [
      "/glade/u/apps/opt/conda/envs/npl-2023b/lib/python3.10/site-packages/dask_jobqueue/core.py:255: FutureWarning: job_extra has been renamed to job_extra_directives. You are still using it (even if only set to []; please also check config files). If you did not set job_extra_directives yet, job_extra will be respected for now, but it will be removed in a future release. If you already set job_extra_directives, job_extra is ignored and you can remove it.\n",
      "  warnings.warn(warn, FutureWarning)\n",
      "/glade/u/apps/opt/conda/envs/npl-2023b/lib/python3.10/site-packages/dask_jobqueue/core.py:274: FutureWarning: env_extra has been renamed to job_script_prologue. You are still using it (even if only set to []; please also check config files). If you did not set job_script_prologue yet, env_extra will be respected for now, but it will be removed in a future release. If you already set job_script_prologue, env_extra is ignored and you can remove it.\n",
      "  warnings.warn(warn, FutureWarning)\n",
      "/glade/u/apps/opt/conda/envs/npl-2023b/lib/python3.10/site-packages/dask_jobqueue/pbs.py:82: FutureWarning: project has been renamed to account as this kwarg was used wit -A option. You are still using it (please also check config files). If you did not set account yet, project will be respected for now, but it will be removed in a future release. If you already set account, project is ignored and you can remove it.\n",
      "  warnings.warn(warn, FutureWarning)\n",
      "/glade/u/apps/opt/conda/envs/npl-2023b/lib/python3.10/site-packages/dask_jobqueue/core.py:255: FutureWarning: job_extra has been renamed to job_extra_directives. You are still using it (even if only set to []; please also check config files). If you did not set job_extra_directives yet, job_extra will be respected for now, but it will be removed in a future release. If you already set job_extra_directives, job_extra is ignored and you can remove it.\n",
      "  warnings.warn(warn, FutureWarning)\n",
      "/glade/u/apps/opt/conda/envs/npl-2023b/lib/python3.10/site-packages/dask_jobqueue/core.py:274: FutureWarning: env_extra has been renamed to job_script_prologue. You are still using it (even if only set to []; please also check config files). If you did not set job_script_prologue yet, env_extra will be respected for now, but it will be removed in a future release. If you already set job_script_prologue, env_extra is ignored and you can remove it.\n",
      "  warnings.warn(warn, FutureWarning)\n",
      "/glade/u/apps/opt/conda/envs/npl-2023b/lib/python3.10/site-packages/dask_jobqueue/pbs.py:82: FutureWarning: project has been renamed to account as this kwarg was used wit -A option. You are still using it (please also check config files). If you did not set account yet, project will be respected for now, but it will be removed in a future release. If you already set account, project is ignored and you can remove it.\n",
      "  warnings.warn(warn, FutureWarning)\n"
     ]
    },
    {
     "data": {
      "text/html": [
       "<div>\n",
       "    <div style=\"width: 24px; height: 24px; background-color: #e1e1e1; border: 3px solid #9D9D9D; border-radius: 5px; position: absolute;\"> </div>\n",
       "    <div style=\"margin-left: 48px;\">\n",
       "        <h3 style=\"margin-bottom: 0px;\">Client</h3>\n",
       "        <p style=\"color: #9D9D9D; margin-bottom: 0px;\">Client-a63bb84f-2cc4-11ee-ba91-3cecef1b11e8</p>\n",
       "        <table style=\"width: 100%; text-align: left;\">\n",
       "\n",
       "        <tr>\n",
       "        \n",
       "            <td style=\"text-align: left;\"><strong>Connection method:</strong> Cluster object</td>\n",
       "            <td style=\"text-align: left;\"><strong>Cluster type:</strong> dask_jobqueue.PBSCluster</td>\n",
       "        \n",
       "        </tr>\n",
       "\n",
       "        \n",
       "            <tr>\n",
       "                <td style=\"text-align: left;\">\n",
       "                    <strong>Dashboard: </strong> <a href=\"https://jupyterhub.hpc.ucar.edu/stable/user/wwieder/proxy/8787/status\" target=\"_blank\">https://jupyterhub.hpc.ucar.edu/stable/user/wwieder/proxy/8787/status</a>\n",
       "                </td>\n",
       "                <td style=\"text-align: left;\"></td>\n",
       "            </tr>\n",
       "        \n",
       "\n",
       "        </table>\n",
       "\n",
       "        \n",
       "            <button style=\"margin-bottom: 12px;\" data-commandlinker-command=\"dask:populate-and-launch-layout\" data-commandlinker-args='{\"url\": \"https://jupyterhub.hpc.ucar.edu/stable/user/wwieder/proxy/8787/status\" }'>\n",
       "                Launch dashboard in JupyterLab\n",
       "            </button>\n",
       "        \n",
       "\n",
       "        \n",
       "            <details>\n",
       "            <summary style=\"margin-bottom: 20px;\"><h3 style=\"display: inline;\">Cluster Info</h3></summary>\n",
       "            <div class=\"jp-RenderedHTMLCommon jp-RenderedHTML jp-mod-trusted jp-OutputArea-output\">\n",
       "    <div style=\"width: 24px; height: 24px; background-color: #e1e1e1; border: 3px solid #9D9D9D; border-radius: 5px; position: absolute;\">\n",
       "    </div>\n",
       "    <div style=\"margin-left: 48px;\">\n",
       "        <h3 style=\"margin-bottom: 0px; margin-top: 0px;\">PBSCluster</h3>\n",
       "        <p style=\"color: #9D9D9D; margin-bottom: 0px;\">b12da41d</p>\n",
       "        <table style=\"width: 100%; text-align: left;\">\n",
       "            <tr>\n",
       "                <td style=\"text-align: left;\">\n",
       "                    <strong>Dashboard:</strong> <a href=\"https://jupyterhub.hpc.ucar.edu/stable/user/wwieder/proxy/8787/status\" target=\"_blank\">https://jupyterhub.hpc.ucar.edu/stable/user/wwieder/proxy/8787/status</a>\n",
       "                </td>\n",
       "                <td style=\"text-align: left;\">\n",
       "                    <strong>Workers:</strong> 0\n",
       "                </td>\n",
       "            </tr>\n",
       "            <tr>\n",
       "                <td style=\"text-align: left;\">\n",
       "                    <strong>Total threads:</strong> 0\n",
       "                </td>\n",
       "                <td style=\"text-align: left;\">\n",
       "                    <strong>Total memory:</strong> 0 B\n",
       "                </td>\n",
       "            </tr>\n",
       "            \n",
       "        </table>\n",
       "\n",
       "        <details>\n",
       "            <summary style=\"margin-bottom: 20px;\">\n",
       "                <h3 style=\"display: inline;\">Scheduler Info</h3>\n",
       "            </summary>\n",
       "\n",
       "            <div style=\"\">\n",
       "    <div>\n",
       "        <div style=\"width: 24px; height: 24px; background-color: #FFF7E5; border: 3px solid #FF6132; border-radius: 5px; position: absolute;\"> </div>\n",
       "        <div style=\"margin-left: 48px;\">\n",
       "            <h3 style=\"margin-bottom: 0px;\">Scheduler</h3>\n",
       "            <p style=\"color: #9D9D9D; margin-bottom: 0px;\">Scheduler-d8bc498d-136a-4172-9327-a47ce28693ce</p>\n",
       "            <table style=\"width: 100%; text-align: left;\">\n",
       "                <tr>\n",
       "                    <td style=\"text-align: left;\">\n",
       "                        <strong>Comm:</strong> tcp://10.12.206.49:42962\n",
       "                    </td>\n",
       "                    <td style=\"text-align: left;\">\n",
       "                        <strong>Workers:</strong> 0\n",
       "                    </td>\n",
       "                </tr>\n",
       "                <tr>\n",
       "                    <td style=\"text-align: left;\">\n",
       "                        <strong>Dashboard:</strong> <a href=\"https://jupyterhub.hpc.ucar.edu/stable/user/wwieder/proxy/8787/status\" target=\"_blank\">https://jupyterhub.hpc.ucar.edu/stable/user/wwieder/proxy/8787/status</a>\n",
       "                    </td>\n",
       "                    <td style=\"text-align: left;\">\n",
       "                        <strong>Total threads:</strong> 0\n",
       "                    </td>\n",
       "                </tr>\n",
       "                <tr>\n",
       "                    <td style=\"text-align: left;\">\n",
       "                        <strong>Started:</strong> Just now\n",
       "                    </td>\n",
       "                    <td style=\"text-align: left;\">\n",
       "                        <strong>Total memory:</strong> 0 B\n",
       "                    </td>\n",
       "                </tr>\n",
       "            </table>\n",
       "        </div>\n",
       "    </div>\n",
       "\n",
       "    <details style=\"margin-left: 48px;\">\n",
       "        <summary style=\"margin-bottom: 20px;\">\n",
       "            <h3 style=\"display: inline;\">Workers</h3>\n",
       "        </summary>\n",
       "\n",
       "        \n",
       "\n",
       "    </details>\n",
       "</div>\n",
       "\n",
       "        </details>\n",
       "    </div>\n",
       "</div>\n",
       "            </details>\n",
       "        \n",
       "\n",
       "    </div>\n",
       "</div>"
      ],
      "text/plain": [
       "<Client: 'tcp://10.12.206.49:42962' processes=0 threads=0, memory=0 B>"
      ]
     },
     "execution_count": 3,
     "metadata": {},
     "output_type": "execute_result"
    }
   ],
   "source": [
    "from distributed import Client\n",
    "from ncar_jobqueue import NCARCluster\n",
    "\n",
    "cluster = NCARCluster()\n",
    "cluster.scale(16)\n",
    "client = Client(cluster)\n",
    "client"
   ]
  },
  {
   "cell_type": "markdown",
   "id": "fbe596ba-3fd7-46f1-b1ca-e3ab79709354",
   "metadata": {},
   "source": [
    "---------------------------"
   ]
  },
  {
   "cell_type": "code",
   "execution_count": 4,
   "id": "f4b724be-d8f9-47a1-960d-728eb57b28dc",
   "metadata": {},
   "outputs": [],
   "source": [
    "# -- read list of sites:\n",
    "#neon_sites_pft = pd.read_csv('/glade/scratch/wwieder/run_NEON_v2/tools/site_and_regional/neon_sites_dompft.csv')\n",
    "neon_sites_pft = pd.read_csv('/glade/u/home/wwieder/CTSM/tools/site_and_regional/neon_sites_dompft.csv')\n",
    "neon_sites = neon_sites_pft['Site'].to_list()\n",
    "\n",
    "failed_sites = [] # -- list for saving failed sites"
   ]
  },
  {
   "cell_type": "markdown",
   "id": "a4479624-ad9f-4610-95ae-8731a3c5725b",
   "metadata": {},
   "source": [
    "### Download evaluation data\n",
    "This is slow and only has to be done once!"
   ]
  },
  {
   "cell_type": "code",
   "execution_count": 5,
   "id": "3274d5a5-b87d-4db4-87e9-c84a0f5bd6e4",
   "metadata": {},
   "outputs": [
    {
     "data": {
      "text/plain": [
       "'\\nneon_dir = \\'/glade/work/wwieder/neon/\\'\\nif not os.path.exists (neon_dir):\\n    print (\"neon directory does not exist... creating it now!\")\\n    os.mkdir(neon_dir)\\n\\neval_dir = \\'/glade/work/wwieder/neon/eval_files/\\'\\nif not os.path.exists (eval_dir):\\n    print (\"eval directory does not exist... creating it now!\")\\n    os.mkdir(eval_dir)\\n    \\nfor neon_site in neon_sites[1:]:\\n    nu.download_eval_files(neon_site,eval_dir)\\n'"
      ]
     },
     "execution_count": 5,
     "metadata": {},
     "output_type": "execute_result"
    }
   ],
   "source": [
    "'''\n",
    "neon_dir = '/glade/work/wwieder/neon/'\n",
    "if not os.path.exists (neon_dir):\n",
    "    print (\"neon directory does not exist... creating it now!\")\n",
    "    os.mkdir(neon_dir)\n",
    "\n",
    "eval_dir = '/glade/work/wwieder/neon/eval_files/'\n",
    "if not os.path.exists (eval_dir):\n",
    "    print (\"eval directory does not exist... creating it now!\")\n",
    "    os.mkdir(eval_dir)\n",
    "    \n",
    "for neon_site in neon_sites[1:]:\n",
    "    nu.download_eval_files(neon_site,eval_dir)\n",
    "'''"
   ]
  },
  {
   "cell_type": "code",
   "execution_count": 6,
   "id": "d9d4a39b-737c-4394-9a6e-8567fd04aa5a",
   "metadata": {},
   "outputs": [
    {
     "data": {
      "text/plain": [
       "\"\\n# Download datm data\\n\\natm_dir = '/glade/work/wwieder/neon/atm_files/'\\n    \\nfor neon_site in neon_sites[1:]:\\n    nu.download_atm_files(neon_site,atm_dir)\\n\""
      ]
     },
     "execution_count": 6,
     "metadata": {},
     "output_type": "execute_result"
    }
   ],
   "source": [
    "'''\n",
    "# Download datm data\n",
    "\n",
    "atm_dir = '/glade/work/wwieder/neon/atm_files/'\n",
    "    \n",
    "for neon_site in neon_sites[1:]:\n",
    "    nu.download_atm_files(neon_site,atm_dir)\n",
    "'''"
   ]
  },
  {
   "cell_type": "code",
   "execution_count": 7,
   "id": "bd113d87-6a08-400f-97c9-5d85f5c7e72b",
   "metadata": {},
   "outputs": [
    {
     "data": {
      "text/plain": [
       "\"\\n# Download CLM history output\\nhist_dir = '/glade/work/wwieder/neon/hist_files/'\\n    \\n#for neon_site in neon_sites[1:]:\\n#   nu.download_atm_files(neon_site,hist_dir)\\n\""
      ]
     },
     "execution_count": 7,
     "metadata": {},
     "output_type": "execute_result"
    }
   ],
   "source": [
    "'''\n",
    "# Download CLM history output\n",
    "hist_dir = '/glade/work/wwieder/neon/hist_files/'\n",
    "    \n",
    "#for neon_site in neon_sites[1:]:\n",
    "#   nu.download_atm_files(neon_site,hist_dir)\n",
    "'''"
   ]
  },
  {
   "cell_type": "code",
   "execution_count": 8,
   "id": "c913bb51-ab6d-4f78-8a10-2792dd5575aa",
   "metadata": {},
   "outputs": [],
   "source": [
    "# -- read only these variables from the whole netcdf files\n",
    "\n",
    "def preprocess (ds):\n",
    "    '''\n",
    "    reading selected variables from ctsm outputs\n",
    "    '''\n",
    "    variables = ['FCEV', 'FCTR', 'FGEV','FSH','GPP','FSA','FIRA','AR','HR','ELAI']\n",
    "\n",
    "    ds_new= ds[variables]\n",
    "    return ds_new"
   ]
  },
  {
   "cell_type": "code",
   "execution_count": 9,
   "id": "d0e96e82-e2f1-459e-8a09-390f2906c6aa",
   "metadata": {},
   "outputs": [],
   "source": [
    "# -- fix timestamp on CTSM files so they can be matched with eval files\n",
    "\n",
    "def fix_time (ds):\n",
    "    '''\n",
    "    fix time formatting with reading multiple cesm files.\n",
    "    '''\n",
    "    nsteps = len(ds.time)\n",
    "    yr0 = ds['time.year'][0].values\n",
    "    month0 = ds['time.month'][0].values\n",
    "    day0 = ds['time.day'][0].values\n",
    "\n",
    "    date = cftime.datetime(yr0,month0,day0).isoformat() \n",
    "    ds['time'] = xr.cftime_range(date, periods=nsteps, freq='30min')\n",
    "    ds['time']= ds['time'].dt.strftime(\"%Y-%m-%d %H:%M:%S\")\n",
    "    return ds"
   ]
  },
  {
   "cell_type": "code",
   "execution_count": 10,
   "id": "82c6a3d8-d821-4e2a-a304-ec87a329b483",
   "metadata": {},
   "outputs": [],
   "source": [
    "#-- path to save the csv files:\n",
    "csv_dir = \"/glade/scratch/wwieder/preprocessed_neon_v2/\"\n",
    "\n",
    "#create the directory if it does not exist:\n",
    "if not os.path.isdir(csv_dir):\n",
    "    os.mkdir(csv_dir)"
   ]
  },
  {
   "cell_type": "code",
   "execution_count": 12,
   "id": "543a4bc6-9bac-4485-a9bf-063bf93a80b2",
   "metadata": {},
   "outputs": [
    {
     "name": "stdout",
     "output_type": "stream",
     "text": [
      "---------------------------\n",
      "Extracting data for BART\n",
      "All simulation files for all years: [ 1461 files]\n"
     ]
    },
    {
     "name": "stderr",
     "output_type": "stream",
     "text": [
      "Exception ignored in: <bound method GCDiagnosis._gc_callback of <distributed.utils_perf.GCDiagnosis object at 0x2af2d127ed10>>\n",
      "Traceback (most recent call last):\n",
      "  File \"/glade/u/apps/opt/conda/envs/npl-2023b/lib/python3.10/site-packages/distributed/utils_perf.py\", line 183, in _gc_callback\n",
      "    self._fractional_timer.start_timing()\n",
      "  File \"/glade/u/apps/opt/conda/envs/npl-2023b/lib/python3.10/site-packages/distributed/utils_perf.py\", line 118, in start_timing\n",
      "    assert self._cur_start is None\n",
      "AssertionError: \n"
     ]
    },
    {
     "name": "stdout",
     "output_type": "stream",
     "text": [
      "Reading all simulation files took: 10.842947721481323 s.\n",
      "All evaluation files for all years: [ 48 files]\n",
      "Reading all observation files took: 3.4494359493255615 s.\n"
     ]
    },
    {
     "name": "stderr",
     "output_type": "stream",
     "text": [
      "100%|██████████| 10/10 [00:29<00:00,  2.92s/it]\n"
     ]
    },
    {
     "name": "stdout",
     "output_type": "stream",
     "text": [
      "Extracting data for BART took :  45.34335160255432 s.\n",
      "Preprocessed file is saved as :  /glade/scratch/wwieder/preprocessed_neon_v2/preprocessed_BART_2021.csv\n",
      "---------------------------\n",
      "Extracting data for HARV\n",
      "All simulation files for all years: [ 1461 files]\n",
      "Reading all simulation files took: 11.81951642036438 s.\n",
      "All evaluation files for all years: [ 48 files]\n",
      "Reading all observation files took: 3.1807057857513428 s.\n"
     ]
    },
    {
     "name": "stderr",
     "output_type": "stream",
     "text": [
      "100%|██████████| 10/10 [00:31<00:00,  3.11s/it]\n"
     ]
    },
    {
     "name": "stdout",
     "output_type": "stream",
     "text": [
      "Extracting data for HARV took :  47.90443682670593 s.\n",
      "Preprocessed file is saved as :  /glade/scratch/wwieder/preprocessed_neon_v2/preprocessed_HARV_2021.csv\n",
      "---------------------------\n",
      "Extracting data for BLAN\n",
      "All simulation files for all years: [ 1461 files]\n",
      "Reading all simulation files took: 10.82915711402893 s.\n",
      "All evaluation files for all years: [ 48 files]\n",
      "Reading all observation files took: 2.08426570892334 s.\n"
     ]
    },
    {
     "name": "stderr",
     "output_type": "stream",
     "text": [
      "100%|██████████| 10/10 [00:33<00:00,  3.37s/it]\n"
     ]
    },
    {
     "name": "stdout",
     "output_type": "stream",
     "text": [
      "Extracting data for BLAN took :  48.44691491127014 s.\n",
      "Preprocessed file is saved as :  /glade/scratch/wwieder/preprocessed_neon_v2/preprocessed_BLAN_2021.csv\n",
      "---------------------------\n",
      "Extracting data for SCBI\n",
      "All simulation files for all years: [ 1461 files]\n",
      "Reading all simulation files took: 14.854319095611572 s.\n",
      "All evaluation files for all years: [ 48 files]\n",
      "Reading all observation files took: 1.8653814792633057 s.\n"
     ]
    },
    {
     "name": "stderr",
     "output_type": "stream",
     "text": [
      "100%|██████████| 10/10 [00:30<00:00,  3.02s/it]\n"
     ]
    },
    {
     "name": "stdout",
     "output_type": "stream",
     "text": [
      "Extracting data for SCBI took :  48.643757343292236 s.\n",
      "Preprocessed file is saved as :  /glade/scratch/wwieder/preprocessed_neon_v2/preprocessed_SCBI_2021.csv\n",
      "---------------------------\n",
      "Extracting data for SERC\n",
      "All simulation files for all years: [ 1461 files]\n",
      "Reading all simulation files took: 15.08844518661499 s.\n",
      "All evaluation files for all years: [ 48 files]\n",
      "Reading all observation files took: 2.960796594619751 s.\n"
     ]
    },
    {
     "name": "stderr",
     "output_type": "stream",
     "text": [
      "100%|██████████| 10/10 [00:30<00:00,  3.06s/it]\n"
     ]
    },
    {
     "name": "stdout",
     "output_type": "stream",
     "text": [
      "Extracting data for SERC took :  50.46363043785095 s.\n",
      "Preprocessed file is saved as :  /glade/scratch/wwieder/preprocessed_neon_v2/preprocessed_SERC_2021.csv\n",
      "---------------------------\n",
      "Extracting data for DSNY\n",
      "All simulation files for all years: [ 1461 files]\n",
      "Reading all simulation files took: 18.218015432357788 s.\n",
      "All evaluation files for all years: [ 48 files]\n",
      "Reading all observation files took: 2.0887532234191895 s.\n"
     ]
    },
    {
     "name": "stderr",
     "output_type": "stream",
     "text": [
      "100%|██████████| 10/10 [00:31<00:00,  3.14s/it]\n"
     ]
    },
    {
     "name": "stdout",
     "output_type": "stream",
     "text": [
      "Extracting data for DSNY took :  53.87675905227661 s.\n",
      "Preprocessed file is saved as :  /glade/scratch/wwieder/preprocessed_neon_v2/preprocessed_DSNY_2021.csv\n",
      "---------------------------\n",
      "Extracting data for JERC\n",
      "All simulation files for all years: [ 1461 files]\n",
      "Reading all simulation files took: 20.792141675949097 s.\n",
      "All evaluation files for all years: [ 48 files]\n",
      "Reading all observation files took: 3.0623819828033447 s.\n"
     ]
    },
    {
     "name": "stderr",
     "output_type": "stream",
     "text": [
      "100%|██████████| 10/10 [00:32<00:00,  3.22s/it]\n"
     ]
    },
    {
     "name": "stdout",
     "output_type": "stream",
     "text": [
      "Extracting data for JERC took :  62.00697898864746 s.\n",
      "Preprocessed file is saved as :  /glade/scratch/wwieder/preprocessed_neon_v2/preprocessed_JERC_2021.csv\n",
      "---------------------------\n",
      "Extracting data for OSBS\n",
      "All simulation files for all years: [ 1461 files]\n",
      "Reading all simulation files took: 10.811100006103516 s.\n",
      "All evaluation files for all years: [ 48 files]\n",
      "Reading all observation files took: 2.6418731212615967 s.\n"
     ]
    },
    {
     "name": "stderr",
     "output_type": "stream",
     "text": [
      "100%|██████████| 10/10 [00:32<00:00,  3.22s/it]\n"
     ]
    },
    {
     "name": "stdout",
     "output_type": "stream",
     "text": [
      "Extracting data for OSBS took :  47.66895341873169 s.\n",
      "Preprocessed file is saved as :  /glade/scratch/wwieder/preprocessed_neon_v2/preprocessed_OSBS_2021.csv\n",
      "---------------------------\n",
      "Extracting data for GUAN\n",
      "All simulation files for all years: [ 1096 files]\n",
      "Reading all simulation files took: 8.989821910858154 s.\n",
      "All evaluation files for all years: [ 42 files]\n",
      "Reading all observation files took: 1.6327872276306152 s.\n"
     ]
    },
    {
     "name": "stderr",
     "output_type": "stream",
     "text": [
      "100%|██████████| 10/10 [00:22<00:00,  2.24s/it]\n"
     ]
    },
    {
     "name": "stdout",
     "output_type": "stream",
     "text": [
      "Extracting data for GUAN took :  34.42816925048828 s.\n",
      "Preprocessed file is saved as :  /glade/scratch/wwieder/preprocessed_neon_v2/preprocessed_GUAN_2021.csv\n",
      "---------------------------\n",
      "Extracting data for LAJA\n",
      "All simulation files for all years: [ 1096 files]\n",
      "Reading all simulation files took: 9.471833944320679 s.\n",
      "All evaluation files for all years: [ 44 files]\n",
      "Reading all observation files took: 1.7602155208587646 s.\n"
     ]
    },
    {
     "name": "stderr",
     "output_type": "stream",
     "text": [
      "100%|██████████| 10/10 [00:24<00:00,  2.45s/it]\n"
     ]
    },
    {
     "name": "stdout",
     "output_type": "stream",
     "text": [
      "Extracting data for LAJA took :  37.24855041503906 s.\n",
      "Preprocessed file is saved as :  /glade/scratch/wwieder/preprocessed_neon_v2/preprocessed_LAJA_2021.csv\n",
      "---------------------------\n",
      "Extracting data for STEI\n",
      "All simulation files for all years: [ 1461 files]\n",
      "Reading all simulation files took: 12.238287210464478 s.\n",
      "All evaluation files for all years: [ 48 files]\n",
      "Reading all observation files took: 1.9225430488586426 s.\n"
     ]
    },
    {
     "name": "stderr",
     "output_type": "stream",
     "text": [
      "100%|██████████| 10/10 [00:30<00:00,  3.08s/it]\n"
     ]
    },
    {
     "name": "stdout",
     "output_type": "stream",
     "text": [
      "Extracting data for STEI took :  46.88856911659241 s.\n",
      "Preprocessed file is saved as :  /glade/scratch/wwieder/preprocessed_neon_v2/preprocessed_STEI_2021.csv\n",
      "---------------------------\n",
      "Extracting data for TREE\n",
      "All simulation files for all years: [ 1461 files]\n",
      "Reading all simulation files took: 12.713073968887329 s.\n",
      "All evaluation files for all years: [ 48 files]\n",
      "Reading all observation files took: 2.007678270339966 s.\n"
     ]
    },
    {
     "name": "stderr",
     "output_type": "stream",
     "text": [
      "100%|██████████| 10/10 [00:31<00:00,  3.16s/it]\n"
     ]
    },
    {
     "name": "stdout",
     "output_type": "stream",
     "text": [
      "Extracting data for TREE took :  48.15924644470215 s.\n",
      "Preprocessed file is saved as :  /glade/scratch/wwieder/preprocessed_neon_v2/preprocessed_TREE_2021.csv\n",
      "---------------------------\n",
      "Extracting data for UNDE\n",
      "All simulation files for all years: [ 1461 files]\n",
      "Reading all simulation files took: 12.485604047775269 s.\n",
      "All evaluation files for all years: [ 48 files]\n",
      "Reading all observation files took: 2.3055267333984375 s.\n"
     ]
    },
    {
     "name": "stderr",
     "output_type": "stream",
     "text": [
      "100%|██████████| 10/10 [00:31<00:00,  3.13s/it]\n"
     ]
    },
    {
     "name": "stdout",
     "output_type": "stream",
     "text": [
      "Extracting data for UNDE took :  48.09374117851257 s.\n",
      "Preprocessed file is saved as :  /glade/scratch/wwieder/preprocessed_neon_v2/preprocessed_UNDE_2021.csv\n",
      "---------------------------\n",
      "Extracting data for KONA\n",
      "All simulation files for all years: [ 1461 files]\n",
      "Reading all simulation files took: 12.006386995315552 s.\n",
      "All evaluation files for all years: [ 48 files]\n",
      "Reading all observation files took: 1.8795642852783203 s.\n"
     ]
    },
    {
     "name": "stderr",
     "output_type": "stream",
     "text": [
      "100%|██████████| 10/10 [00:30<00:00,  3.07s/it]\n"
     ]
    },
    {
     "name": "stdout",
     "output_type": "stream",
     "text": [
      "Extracting data for KONA took :  46.58428502082825 s.\n",
      "Preprocessed file is saved as :  /glade/scratch/wwieder/preprocessed_neon_v2/preprocessed_KONA_2021.csv\n",
      "---------------------------\n",
      "Extracting data for KONZ\n",
      "All simulation files for all years: [ 1461 files]\n",
      "Reading all simulation files took: 13.616581916809082 s.\n",
      "All evaluation files for all years: [ 48 files]\n",
      "Reading all observation files took: 1.7501797676086426 s.\n"
     ]
    },
    {
     "name": "stderr",
     "output_type": "stream",
     "text": [
      "100%|██████████| 10/10 [00:32<00:00,  3.24s/it]\n"
     ]
    },
    {
     "name": "stdout",
     "output_type": "stream",
     "text": [
      "Extracting data for KONZ took :  49.78182601928711 s.\n",
      "Preprocessed file is saved as :  /glade/scratch/wwieder/preprocessed_neon_v2/preprocessed_KONZ_2021.csv\n",
      "---------------------------\n",
      "Extracting data for UKFS\n",
      "All simulation files for all years: [ 1461 files]\n",
      "Reading all simulation files took: 13.935356855392456 s.\n",
      "All evaluation files for all years: [ 48 files]\n",
      "Reading all observation files took: 2.076085329055786 s.\n"
     ]
    },
    {
     "name": "stderr",
     "output_type": "stream",
     "text": [
      "100%|██████████| 10/10 [00:29<00:00,  2.98s/it]\n"
     ]
    },
    {
     "name": "stdout",
     "output_type": "stream",
     "text": [
      "Extracting data for UKFS took :  47.64539623260498 s.\n",
      "Preprocessed file is saved as :  /glade/scratch/wwieder/preprocessed_neon_v2/preprocessed_UKFS_2021.csv\n",
      "---------------------------\n",
      "Extracting data for GRSM\n",
      "All simulation files for all years: [ 1461 files]\n",
      "Reading all simulation files took: 12.926957130432129 s.\n",
      "All evaluation files for all years: [ 48 files]\n",
      "Reading all observation files took: 1.834850549697876 s.\n"
     ]
    },
    {
     "name": "stderr",
     "output_type": "stream",
     "text": [
      "100%|██████████| 10/10 [00:32<00:00,  3.21s/it]\n"
     ]
    },
    {
     "name": "stdout",
     "output_type": "stream",
     "text": [
      "Extracting data for GRSM took :  48.855304479599 s.\n",
      "Preprocessed file is saved as :  /glade/scratch/wwieder/preprocessed_neon_v2/preprocessed_GRSM_2021.csv\n",
      "---------------------------\n",
      "Extracting data for MLBS\n",
      "All simulation files for all years: [ 731 files]\n",
      "Reading all simulation files took: 6.747167587280273 s.\n",
      "All evaluation files for all years: [ 48 files]\n",
      "Reading all observation files took: 3.4771411418914795 s.\n"
     ]
    },
    {
     "name": "stderr",
     "output_type": "stream",
     "text": [
      "100%|██████████| 10/10 [00:15<00:00,  1.58s/it]\n"
     ]
    },
    {
     "name": "stdout",
     "output_type": "stream",
     "text": [
      "Extracting data for MLBS took :  27.526150226593018 s.\n",
      "Preprocessed file is saved as :  /glade/scratch/wwieder/preprocessed_neon_v2/preprocessed_MLBS_2021.csv\n",
      "---------------------------\n",
      "Extracting data for ORNL\n",
      "All simulation files for all years: [ 1461 files]\n",
      "Reading all simulation files took: 12.90756106376648 s.\n",
      "All evaluation files for all years: [ 48 files]\n",
      "Reading all observation files took: 1.7883780002593994 s.\n"
     ]
    },
    {
     "name": "stderr",
     "output_type": "stream",
     "text": [
      "100%|██████████| 10/10 [00:31<00:00,  3.17s/it]\n"
     ]
    },
    {
     "name": "stdout",
     "output_type": "stream",
     "text": [
      "Extracting data for ORNL took :  48.22679924964905 s.\n",
      "Preprocessed file is saved as :  /glade/scratch/wwieder/preprocessed_neon_v2/preprocessed_ORNL_2021.csv\n",
      "---------------------------\n",
      "Extracting data for DELA\n",
      "All simulation files for all years: [ 1461 files]\n",
      "Reading all simulation files took: 11.119867086410522 s.\n",
      "All evaluation files for all years: [ 48 files]\n",
      "Reading all observation files took: 3.0364978313446045 s.\n"
     ]
    },
    {
     "name": "stderr",
     "output_type": "stream",
     "text": [
      "100%|██████████| 10/10 [00:31<00:00,  3.19s/it]\n"
     ]
    },
    {
     "name": "stdout",
     "output_type": "stream",
     "text": [
      "Extracting data for DELA took :  47.93111062049866 s.\n",
      "Preprocessed file is saved as :  /glade/scratch/wwieder/preprocessed_neon_v2/preprocessed_DELA_2021.csv\n",
      "---------------------------\n",
      "Extracting data for LENO\n",
      "All simulation files for all years: [ 365 files]\n",
      "Reading all simulation files took: 2.4591269493103027 s.\n",
      "All evaluation files for all years: [ 48 files]\n",
      "Reading all observation files took: 2.9014272689819336 s.\n"
     ]
    },
    {
     "name": "stderr",
     "output_type": "stream",
     "text": [
      "100%|██████████| 10/10 [00:07<00:00,  1.37it/s]\n"
     ]
    },
    {
     "name": "stdout",
     "output_type": "stream",
     "text": [
      "Extracting data for LENO took :  14.104328393936157 s.\n",
      "Preprocessed file is saved as :  /glade/scratch/wwieder/preprocessed_neon_v2/preprocessed_LENO_2021.csv\n",
      "---------------------------\n",
      "Extracting data for TALL\n",
      "All simulation files for all years: [ 1461 files]\n",
      "Reading all simulation files took: 11.078365087509155 s.\n",
      "All evaluation files for all years: [ 48 files]\n",
      "Reading all observation files took: 1.7837517261505127 s.\n"
     ]
    },
    {
     "name": "stderr",
     "output_type": "stream",
     "text": [
      "100%|██████████| 10/10 [00:31<00:00,  3.12s/it]\n"
     ]
    },
    {
     "name": "stdout",
     "output_type": "stream",
     "text": [
      "Extracting data for TALL took :  46.253254652023315 s.\n",
      "Preprocessed file is saved as :  /glade/scratch/wwieder/preprocessed_neon_v2/preprocessed_TALL_2021.csv\n",
      "---------------------------\n",
      "Extracting data for DCFS\n",
      "All simulation files for all years: [ 1461 files]\n",
      "Reading all simulation files took: 13.191089630126953 s.\n",
      "All evaluation files for all years: [ 48 files]\n",
      "Reading all observation files took: 1.9081454277038574 s.\n"
     ]
    },
    {
     "name": "stderr",
     "output_type": "stream",
     "text": [
      "100%|██████████| 10/10 [00:31<00:00,  3.11s/it]\n"
     ]
    },
    {
     "name": "stdout",
     "output_type": "stream",
     "text": [
      "Extracting data for DCFS took :  48.1668758392334 s.\n",
      "Preprocessed file is saved as :  /glade/scratch/wwieder/preprocessed_neon_v2/preprocessed_DCFS_2021.csv\n",
      "---------------------------\n",
      "Extracting data for NOGP\n",
      "All simulation files for all years: [ 1461 files]\n",
      "Reading all simulation files took: 11.725496053695679 s.\n",
      "All evaluation files for all years: [ 48 files]\n",
      "Reading all observation files took: 3.0394973754882812 s.\n"
     ]
    },
    {
     "name": "stderr",
     "output_type": "stream",
     "text": [
      "100%|██████████| 10/10 [00:31<00:00,  3.17s/it]\n"
     ]
    },
    {
     "name": "stdout",
     "output_type": "stream",
     "text": [
      "Extracting data for NOGP took :  48.46040654182434 s.\n",
      "Preprocessed file is saved as :  /glade/scratch/wwieder/preprocessed_neon_v2/preprocessed_NOGP_2021.csv\n",
      "---------------------------\n",
      "Extracting data for WOOD\n",
      "All simulation files for all years: [ 1461 files]\n",
      "Reading all simulation files took: 11.146230220794678 s.\n",
      "All evaluation files for all years: [ 48 files]\n",
      "Reading all observation files took: 1.9876465797424316 s.\n"
     ]
    },
    {
     "name": "stderr",
     "output_type": "stream",
     "text": [
      "100%|██████████| 10/10 [00:30<00:00,  3.09s/it]\n"
     ]
    },
    {
     "name": "stdout",
     "output_type": "stream",
     "text": [
      "Extracting data for WOOD took :  47.32139801979065 s.\n",
      "Preprocessed file is saved as :  /glade/scratch/wwieder/preprocessed_neon_v2/preprocessed_WOOD_2021.csv\n",
      "---------------------------\n",
      "Extracting data for CPER\n",
      "All simulation files for all years: [ 1461 files]\n",
      "Reading all simulation files took: 11.68851923942566 s.\n",
      "All evaluation files for all years: [ 48 files]\n",
      "Reading all observation files took: 1.7936420440673828 s.\n"
     ]
    },
    {
     "name": "stderr",
     "output_type": "stream",
     "text": [
      "100%|██████████| 10/10 [00:31<00:00,  3.13s/it]\n"
     ]
    },
    {
     "name": "stdout",
     "output_type": "stream",
     "text": [
      "Extracting data for CPER took :  46.654006004333496 s.\n",
      "Preprocessed file is saved as :  /glade/scratch/wwieder/preprocessed_neon_v2/preprocessed_CPER_2021.csv\n",
      "---------------------------\n",
      "Extracting data for RMNP\n",
      "All simulation files for all years: [ 1461 files]\n",
      "Reading all simulation files took: 13.29206109046936 s.\n",
      "All evaluation files for all years: [ 48 files]\n",
      "Reading all observation files took: 1.9842298030853271 s.\n"
     ]
    },
    {
     "name": "stderr",
     "output_type": "stream",
     "text": [
      "100%|██████████| 10/10 [00:31<00:00,  3.12s/it]\n"
     ]
    },
    {
     "name": "stdout",
     "output_type": "stream",
     "text": [
      "Extracting data for RMNP took :  48.313586711883545 s.\n",
      "Preprocessed file is saved as :  /glade/scratch/wwieder/preprocessed_neon_v2/preprocessed_RMNP_2021.csv\n",
      "---------------------------\n",
      "Extracting data for STER\n",
      "All simulation files for all years: [ 1461 files]\n",
      "Reading all simulation files took: 12.190836906433105 s.\n",
      "All evaluation files for all years: [ 48 files]\n",
      "Reading all observation files took: 1.9203734397888184 s.\n"
     ]
    },
    {
     "name": "stderr",
     "output_type": "stream",
     "text": [
      "100%|██████████| 10/10 [00:31<00:00,  3.20s/it]\n"
     ]
    },
    {
     "name": "stdout",
     "output_type": "stream",
     "text": [
      "Extracting data for STER took :  47.931875705718994 s.\n",
      "Preprocessed file is saved as :  /glade/scratch/wwieder/preprocessed_neon_v2/preprocessed_STER_2021.csv\n",
      "---------------------------\n",
      "Extracting data for CLBJ\n",
      "All simulation files for all years: [ 1461 files]\n",
      "Reading all simulation files took: 12.256828308105469 s.\n",
      "All evaluation files for all years: [ 48 files]\n",
      "Reading all observation files took: 3.167689085006714 s.\n"
     ]
    },
    {
     "name": "stderr",
     "output_type": "stream",
     "text": [
      "100%|██████████| 10/10 [00:32<00:00,  3.20s/it]\n"
     ]
    },
    {
     "name": "stdout",
     "output_type": "stream",
     "text": [
      "Extracting data for CLBJ took :  49.531872272491455 s.\n",
      "Preprocessed file is saved as :  /glade/scratch/wwieder/preprocessed_neon_v2/preprocessed_CLBJ_2021.csv\n",
      "---------------------------\n",
      "Extracting data for OAES\n",
      "All simulation files for all years: [ 1461 files]\n",
      "Reading all simulation files took: 11.151547908782959 s.\n",
      "All evaluation files for all years: [ 48 files]\n",
      "Reading all observation files took: 1.8269016742706299 s.\n"
     ]
    },
    {
     "name": "stderr",
     "output_type": "stream",
     "text": [
      "100%|██████████| 10/10 [00:30<00:00,  3.10s/it]\n"
     ]
    },
    {
     "name": "stdout",
     "output_type": "stream",
     "text": [
      "Extracting data for OAES took :  45.759888887405396 s.\n",
      "Preprocessed file is saved as :  /glade/scratch/wwieder/preprocessed_neon_v2/preprocessed_OAES_2021.csv\n",
      "---------------------------\n",
      "Extracting data for YELL\n",
      "All simulation files for all years: [ 1096 files]\n",
      "Reading all simulation files took: 9.103583335876465 s.\n",
      "All evaluation files for all years: [ 41 files]\n",
      "Reading all observation files took: 5.501469135284424 s.\n"
     ]
    },
    {
     "name": "stderr",
     "output_type": "stream",
     "text": [
      "100%|██████████| 10/10 [00:24<00:00,  2.46s/it]\n"
     ]
    },
    {
     "name": "stdout",
     "output_type": "stream",
     "text": [
      "Extracting data for YELL took :  40.747946977615356 s.\n",
      "Preprocessed file is saved as :  /glade/scratch/wwieder/preprocessed_neon_v2/preprocessed_YELL_2021.csv\n",
      "---------------------------\n",
      "Extracting data for MOAB\n",
      "All simulation files for all years: [ 1097 files]\n",
      "Reading all simulation files took: 8.987111806869507 s.\n",
      "All evaluation files for all years: [ 48 files]\n",
      "Reading all observation files took: 1.9386847019195557 s.\n"
     ]
    },
    {
     "name": "stderr",
     "output_type": "stream",
     "text": [
      "100%|██████████| 10/10 [00:22<00:00,  2.29s/it]\n"
     ]
    },
    {
     "name": "stdout",
     "output_type": "stream",
     "text": [
      "Extracting data for MOAB took :  35.47336220741272 s.\n",
      "Preprocessed file is saved as :  /glade/scratch/wwieder/preprocessed_neon_v2/preprocessed_MOAB_2021.csv\n",
      "---------------------------\n",
      "Extracting data for NIWO\n",
      "All simulation files for all years: [ 0 files]\n",
      "no files to open\n",
      "THIS SITE FAILED: NIWO\n",
      "---------------------------\n",
      "Extracting data for JORN\n",
      "All simulation files for all years: [ 1461 files]\n",
      "Reading all simulation files took: 13.353726625442505 s.\n",
      "All evaluation files for all years: [ 48 files]\n",
      "Reading all observation files took: 1.7931759357452393 s.\n"
     ]
    },
    {
     "name": "stderr",
     "output_type": "stream",
     "text": [
      "100%|██████████| 10/10 [00:31<00:00,  3.11s/it]\n"
     ]
    },
    {
     "name": "stdout",
     "output_type": "stream",
     "text": [
      "Extracting data for JORN took :  48.180832624435425 s.\n",
      "Preprocessed file is saved as :  /glade/scratch/wwieder/preprocessed_neon_v2/preprocessed_JORN_2021.csv\n",
      "---------------------------\n",
      "Extracting data for SRER\n",
      "All simulation files for all years: [ 1461 files]\n",
      "Reading all simulation files took: 12.829790115356445 s.\n",
      "All evaluation files for all years: [ 48 files]\n",
      "Reading all observation files took: 1.853947401046753 s.\n"
     ]
    },
    {
     "name": "stderr",
     "output_type": "stream",
     "text": [
      "100%|██████████| 10/10 [00:31<00:00,  3.13s/it]\n"
     ]
    },
    {
     "name": "stdout",
     "output_type": "stream",
     "text": [
      "Extracting data for SRER took :  47.88121199607849 s.\n",
      "Preprocessed file is saved as :  /glade/scratch/wwieder/preprocessed_neon_v2/preprocessed_SRER_2021.csv\n",
      "---------------------------\n",
      "Extracting data for ONAQ\n",
      "All simulation files for all years: [ 731 files]\n",
      "Reading all simulation files took: 5.843972444534302 s.\n",
      "All evaluation files for all years: [ 48 files]\n",
      "Reading all observation files took: 2.7229576110839844 s.\n"
     ]
    },
    {
     "name": "stderr",
     "output_type": "stream",
     "text": [
      "100%|██████████| 10/10 [00:13<00:00,  1.39s/it]\n"
     ]
    },
    {
     "name": "stdout",
     "output_type": "stream",
     "text": [
      "Extracting data for ONAQ took :  23.98004412651062 s.\n",
      "Preprocessed file is saved as :  /glade/scratch/wwieder/preprocessed_neon_v2/preprocessed_ONAQ_2021.csv\n",
      "---------------------------\n",
      "Extracting data for ABBY\n",
      "All simulation files for all years: [ 1461 files]\n",
      "Reading all simulation files took: 13.780383348464966 s.\n",
      "All evaluation files for all years: [ 48 files]\n",
      "Reading all observation files took: 1.755253791809082 s.\n"
     ]
    },
    {
     "name": "stderr",
     "output_type": "stream",
     "text": [
      "100%|██████████| 10/10 [00:30<00:00,  3.08s/it]\n"
     ]
    },
    {
     "name": "stdout",
     "output_type": "stream",
     "text": [
      "Extracting data for ABBY took :  48.265864849090576 s.\n",
      "Preprocessed file is saved as :  /glade/scratch/wwieder/preprocessed_neon_v2/preprocessed_ABBY_2021.csv\n",
      "---------------------------\n",
      "Extracting data for WREF\n",
      "All simulation files for all years: [ 1096 files]\n",
      "Reading all simulation files took: 9.397027969360352 s.\n",
      "All evaluation files for all years: [ 48 files]\n",
      "Reading all observation files took: 5.051649332046509 s.\n"
     ]
    },
    {
     "name": "stderr",
     "output_type": "stream",
     "text": [
      "100%|██████████| 10/10 [00:23<00:00,  2.38s/it]\n"
     ]
    },
    {
     "name": "stdout",
     "output_type": "stream",
     "text": [
      "Extracting data for WREF took :  39.82185125350952 s.\n",
      "Preprocessed file is saved as :  /glade/scratch/wwieder/preprocessed_neon_v2/preprocessed_WREF_2021.csv\n",
      "---------------------------\n",
      "Extracting data for SJER\n",
      "All simulation files for all years: [ 1096 files]\n",
      "Reading all simulation files took: 8.827131271362305 s.\n",
      "All evaluation files for all years: [ 40 files]\n",
      "Reading all observation files took: 1.4903249740600586 s.\n"
     ]
    },
    {
     "name": "stderr",
     "output_type": "stream",
     "text": [
      "100%|██████████| 10/10 [00:22<00:00,  2.27s/it]\n"
     ]
    },
    {
     "name": "stdout",
     "output_type": "stream",
     "text": [
      "Extracting data for SJER took :  34.787625551223755 s.\n",
      "Preprocessed file is saved as :  /glade/scratch/wwieder/preprocessed_neon_v2/preprocessed_SJER_2021.csv\n",
      "---------------------------\n",
      "Extracting data for SOAP\n",
      "All simulation files for all years: [ 1461 files]\n",
      "Reading all simulation files took: 12.631192207336426 s.\n",
      "All evaluation files for all years: [ 48 files]\n",
      "Reading all observation files took: 1.9282410144805908 s.\n"
     ]
    },
    {
     "name": "stderr",
     "output_type": "stream",
     "text": [
      "100%|██████████| 10/10 [00:31<00:00,  3.15s/it]\n"
     ]
    },
    {
     "name": "stdout",
     "output_type": "stream",
     "text": [
      "Extracting data for SOAP took :  47.86734199523926 s.\n",
      "Preprocessed file is saved as :  /glade/scratch/wwieder/preprocessed_neon_v2/preprocessed_SOAP_2021.csv\n",
      "---------------------------\n",
      "Extracting data for TEAK\n",
      "All simulation files for all years: [ 1096 files]\n",
      "Reading all simulation files took: 8.685373544692993 s.\n",
      "All evaluation files for all years: [ 43 files]\n",
      "Reading all observation files took: 1.532656192779541 s.\n"
     ]
    },
    {
     "name": "stderr",
     "output_type": "stream",
     "text": [
      "100%|██████████| 10/10 [00:24<00:00,  2.42s/it]\n"
     ]
    },
    {
     "name": "stdout",
     "output_type": "stream",
     "text": [
      "Extracting data for TEAK took :  36.102564096450806 s.\n",
      "Preprocessed file is saved as :  /glade/scratch/wwieder/preprocessed_neon_v2/preprocessed_TEAK_2021.csv\n",
      "---------------------------\n",
      "Extracting data for TOOL\n",
      "All simulation files for all years: [ 731 files]\n",
      "Reading all simulation files took: 6.072417974472046 s.\n",
      "All evaluation files for all years: [ 48 files]\n",
      "Reading all observation files took: 2.8766674995422363 s.\n"
     ]
    },
    {
     "name": "stderr",
     "output_type": "stream",
     "text": [
      "100%|██████████| 10/10 [00:16<00:00,  1.61s/it]\n"
     ]
    },
    {
     "name": "stdout",
     "output_type": "stream",
     "text": [
      "Extracting data for TOOL took :  26.792502880096436 s.\n",
      "Preprocessed file is saved as :  /glade/scratch/wwieder/preprocessed_neon_v2/preprocessed_TOOL_2021.csv\n",
      "---------------------------\n",
      "Extracting data for BARR\n",
      "All simulation files for all years: [ 1096 files]\n",
      "Reading all simulation files took: 9.326916456222534 s.\n",
      "All evaluation files for all years: [ 48 files]\n",
      "Reading all observation files took: 1.8251566886901855 s.\n"
     ]
    },
    {
     "name": "stderr",
     "output_type": "stream",
     "text": [
      "100%|██████████| 10/10 [00:23<00:00,  2.35s/it]\n"
     ]
    },
    {
     "name": "stdout",
     "output_type": "stream",
     "text": [
      "Extracting data for BARR took :  36.26036024093628 s.\n",
      "Preprocessed file is saved as :  /glade/scratch/wwieder/preprocessed_neon_v2/preprocessed_BARR_2021.csv\n",
      "---------------------------\n",
      "Extracting data for BONA\n",
      "All simulation files for all years: [ 1461 files]\n",
      "Reading all simulation files took: 12.622227907180786 s.\n",
      "All evaluation files for all years: [ 48 files]\n",
      "Reading all observation files took: 1.8392601013183594 s.\n"
     ]
    },
    {
     "name": "stderr",
     "output_type": "stream",
     "text": [
      "100%|██████████| 10/10 [00:32<00:00,  3.22s/it]\n"
     ]
    },
    {
     "name": "stdout",
     "output_type": "stream",
     "text": [
      "Extracting data for BONA took :  48.90095663070679 s.\n",
      "Preprocessed file is saved as :  /glade/scratch/wwieder/preprocessed_neon_v2/preprocessed_BONA_2021.csv\n",
      "---------------------------\n",
      "Extracting data for DEJU\n",
      "All simulation files for all years: [ 1461 files]\n",
      "Reading all simulation files took: 13.175875425338745 s.\n",
      "All evaluation files for all years: [ 48 files]\n",
      "Reading all observation files took: 1.8336660861968994 s.\n"
     ]
    },
    {
     "name": "stderr",
     "output_type": "stream",
     "text": [
      "100%|██████████| 10/10 [00:33<00:00,  3.38s/it]\n"
     ]
    },
    {
     "name": "stdout",
     "output_type": "stream",
     "text": [
      "Extracting data for DEJU took :  50.97748684883118 s.\n",
      "Preprocessed file is saved as :  /glade/scratch/wwieder/preprocessed_neon_v2/preprocessed_DEJU_2021.csv\n",
      "---------------------------\n",
      "Extracting data for HEAL\n",
      "All simulation files for all years: [ 1461 files]\n",
      "Reading all simulation files took: 14.005837202072144 s.\n",
      "All evaluation files for all years: [ 48 files]\n",
      "Reading all observation files took: 1.752248764038086 s.\n"
     ]
    },
    {
     "name": "stderr",
     "output_type": "stream",
     "text": [
      "100%|██████████| 10/10 [00:32<00:00,  3.21s/it]\n"
     ]
    },
    {
     "name": "stdout",
     "output_type": "stream",
     "text": [
      "Extracting data for HEAL took :  49.67314147949219 s.\n",
      "Preprocessed file is saved as :  /glade/scratch/wwieder/preprocessed_neon_v2/preprocessed_HEAL_2021.csv\n",
      "---------------------------\n",
      "Extracting data for PUUM\n",
      "All simulation files for all years: [ 0 files]\n",
      "no files to open\n",
      "THIS SITE FAILED: PUUM\n"
     ]
    }
   ],
   "source": [
    "years = [\"2018\",\"2019\",\"2020\",\"2021\"]\n",
    "\n",
    "for neon_site in neon_sites:\n",
    "    try: \n",
    "\n",
    "        start_site = time.time()\n",
    "\n",
    "        print ('---------------------------')\n",
    "        print (\"Extracting data for \"+neon_site)\n",
    "        sim_files =[]\n",
    "        for year in years:\n",
    "            sim_path = \"/glade/campaign/cgd/tss/wwieder/NEON_v2/hist/\"+neon_site+\".transient/lnd/hist/\"\n",
    "            #sim_path = \"/glade/scratch/wwieder/NEON_testV2/archive/\"+neon_site+\".transient/lnd/hist/\"\n",
    "            #sim_path = \"/glade/scratch/negins/neon_v2/tools/site_and_regional/archive/\"+neon_site+\".transient/lnd/hist/\"\n",
    "            sim_files.extend(sorted(glob(join(sim_path,neon_site+\".transient.clm2.h1.\"+year+\"*.nc\"))))\n",
    "\n",
    "        print(\"All simulation files for all years: [\", len(sim_files), \"files]\")\n",
    "\n",
    "        start = time.time()\n",
    "\n",
    "        ds_ctsm = xr.open_mfdataset(sim_files, decode_times=True, combine='by_coords',parallel=True,preprocess=preprocess)\n",
    "        ds_ctsm = fix_time (ds_ctsm)\n",
    "\n",
    "        end = time.time()\n",
    "        print(\"Reading all simulation files took:\", end-start, \"s.\")\n",
    "\n",
    "        eval_files = []\n",
    "        for year in years:\n",
    "            eval_dir = \"/glade/campaign/cgd/tss/wwieder/NEON_v2/eval/\"+neon_site\n",
    "            #eval_dir = \"/glade/work/wwieder/neon/eval_files/\"+neon_site\n",
    "            #eval_dir = \"/glade/work/negins/neon_scripts/notebooks/evaluation_files_2/\"+neon_site\n",
    "            eval_files.extend(sorted(glob(join(eval_dir,neon_site+\"_eval_\"+year+\"*.nc\"))))\n",
    "\n",
    "\n",
    "        print (\"All evaluation files for all years: [\", len(eval_files), \"files]\")\n",
    "\n",
    "        start = time.time()\n",
    "\n",
    "        ds_eval = xr.open_mfdataset(eval_files, decode_times=True, combine='by_coords')\n",
    "\n",
    "        end = time.time()\n",
    "        print(\"Reading all observation files took:\", end-start, \"s.\")\n",
    "        \n",
    "        #Convert CTSM data to a Pandas Dataframe for easier handling:\n",
    "        ctsm_vars = ['FCEV', 'FCTR', 'FGEV','FSH','GPP','FSA','FIRA','AR','HR','ELAI']\n",
    "\n",
    "        df_ctsm = pd.DataFrame({'time':ds_ctsm.time})\n",
    "        df_ctsm['time'] = pd.to_datetime(df_ctsm['time'],format= '%Y-%m-%d %H:%M:%S' )\n",
    "\n",
    "        for var in tqdm.tqdm(ctsm_vars):\n",
    "            sim_var_name = \"sim_\"+var\n",
    "            field = np.ravel ( ds_ctsm[var])     \n",
    "            df_ctsm[sim_var_name]=field\n",
    "            #-- shift simulation data by one\n",
    "            df_ctsm[sim_var_name]=df_ctsm[sim_var_name].shift(-1).values\n",
    "\n",
    "\n",
    "        #Convert NEON data to a Pandas Dataframe for easier handling:\n",
    "        eval_vars = ['NEE','FSH','EFLX_LH_TOT','GPP','Rnet']\n",
    "\n",
    "        df_all = pd.DataFrame({'time':ds_eval.time})\n",
    "\n",
    "        for var in eval_vars:\n",
    "            field = np.ravel (ds_eval[var])\n",
    "            df_all[var]=field\n",
    "        \n",
    "        # -- merge two pandas dataframe on time\n",
    "        df_all=df_all.merge(df_ctsm.set_index('time'), on='time', how='left')\n",
    "\n",
    "        clm_var = 'sim_EFLX_LH_TOT'\n",
    "        # -- Latent Heat Flux:\n",
    "        # -- EFLX_LH_TOT = FCEV + FCTR +FGEV\n",
    "        df_all [clm_var] = df_all['sim_FCEV']+ df_all['sim_FCTR']+ df_all['sim_FGEV']\n",
    "\n",
    "        clm_var = 'sim_Rnet'\n",
    "        # -- Net Radiation:\n",
    "        # -- Rnet = FSA-FIRA\n",
    "        df_all [clm_var] = df_all ['sim_FSA']-df_all['sim_FIRA']\n",
    "\n",
    "        clm_var = 'sim_NEE'\n",
    "        # -- Net Ecosystem Exchange\n",
    "        # -- NEE = GPP- (AR+HR)\n",
    "        # -- It seems like the sign are opposite so we calculated negative NEE\n",
    "        df_all [clm_var] = -(df_all ['sim_GPP']-(df_all['sim_AR']+df_all['sim_HR']))\n",
    "\n",
    "        # convert NEE units from  umolm-2s-1 to gc/m2/s\n",
    "        df_all ['NEE']= df_all ['NEE']*(12.01/1000000)\n",
    "        df_all ['GPP']= df_all ['GPP']*(12.01/1000000)\n",
    "\n",
    "        # -- convert gc/m2/s to gc/m2/day\n",
    "        df_all ['NEE']= df_all['NEE']*60*60*24\n",
    "        df_all ['sim_NEE']= df_all['sim_NEE']*60*60*24\n",
    "\n",
    "        df_all ['GPP']= df_all['GPP']*60*60*24\n",
    "        df_all ['sim_GPP']= df_all['sim_GPP']*60*60*24\n",
    "\n",
    "        #-- extract year, month, day, hour information from time\n",
    "        df_all['year'] = df_all['time'].dt.year\n",
    "        df_all['month'] = df_all['time'].dt.month\n",
    "        df_all['day'] = df_all['time'].dt.day\n",
    "        df_all['hour'] = df_all['time'].dt.hour\n",
    "\n",
    "        tzone_shift = ds_eval.TimeDiffUtcLt\n",
    "\n",
    "        #convert to local time\n",
    "        df_all['local_time']= df_all['time'] + datetime.timedelta(hours=int(tzone_shift))\n",
    "        df_all['local_hour'] = df_all['local_time'].dt.hour\n",
    "\n",
    "\n",
    "        df_all['site']=neon_site\n",
    "\n",
    "        csv_out = join(csv_dir, \"preprocessed_\"+neon_site+\"_\"+year+\".csv\")\n",
    "        df_all.to_csv(csv_out,index=False)\n",
    "        \n",
    "        end_site = time.time()\n",
    "        print (\"Extracting data for \"+neon_site+\" took : \", end_site-start_site, \"s.\")\n",
    "        print (\"Preprocessed file is saved as : \", csv_out)\n",
    "\n",
    "    except Exception as e: \n",
    "        print (e)\n",
    "        print ('THIS SITE FAILED:', neon_site)\n",
    "        failed_sites.append(neon_site)\n",
    "        pass"
   ]
  },
  {
   "cell_type": "code",
   "execution_count": 9,
   "id": "8c0c9553-88fb-435f-8c3f-77a380d41cf3",
   "metadata": {},
   "outputs": [
    {
     "name": "stdout",
     "output_type": "stream",
     "text": [
      "Extracting data for  2 sites failed : \n",
      "NIWO \n",
      "PUUM\n"
     ]
    }
   ],
   "source": [
    "print (\"Extracting data for \", len(failed_sites), \"sites failed : \")\n",
    "print (*failed_sites, sep=\" \\n\")"
   ]
  },
  {
   "cell_type": "code",
   "execution_count": null,
   "id": "5c3e6f4f-2312-47ef-8ffb-b2cd464f8fc4",
   "metadata": {},
   "outputs": [],
   "source": []
  }
 ],
 "metadata": {
  "kernelspec": {
   "display_name": "NPL 2023b",
   "language": "python",
   "name": "npl-2023b"
  },
  "language_info": {
   "codemirror_mode": {
    "name": "ipython",
    "version": 3
   },
   "file_extension": ".py",
   "mimetype": "text/x-python",
   "name": "python",
   "nbconvert_exporter": "python",
   "pygments_lexer": "ipython3",
   "version": "3.10.12"
  }
 },
 "nbformat": 4,
 "nbformat_minor": 5
}
