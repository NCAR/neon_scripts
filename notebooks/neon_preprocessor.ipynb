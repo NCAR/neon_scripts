{
 "cells": [
  {
   "cell_type": "markdown",
   "id": "a1542d31-3794-4108-8544-2becd146ba72",
   "metadata": {},
   "source": [
    "# NEON pre-processor notebook\n",
    "\n",
    "##### Author : Negin Sobhani negins@ucar.edu [@negin513](https://github.com/negin513)\n",
    "\n",
    "##### Last revised: 2022-10-11\n",
    "_______\n",
    "\n",
    "This is a notebook for reading neon simulation and evaluation files and save them as csv files. This would be next used for creating statistics and spatial plots. "
   ]
  },
  {
   "cell_type": "code",
   "execution_count": 1,
   "id": "68ce59c2-2769-431d-b565-880c82cf34f1",
   "metadata": {},
   "outputs": [],
   "source": [
    "import os\n",
    "import time\n",
    "import datetime\n",
    "\n",
    "import numpy as np\n",
    "import pandas as pd\n",
    "import xarray as xr\n",
    "\n",
    "from glob import glob\n",
    "from os.path import join\n",
    "\n",
    "import tqdm\n",
    "import cftime"
   ]
  },
  {
   "cell_type": "code",
   "execution_count": 2,
   "id": "2948f6a8-92c3-462c-9f8b-b36773994f7e",
   "metadata": {},
   "outputs": [
    {
     "name": "stdout",
     "output_type": "stream",
     "text": [
      "xarray 0.20.2\n"
     ]
    }
   ],
   "source": [
    "print('xarray '+xr.__version__) ##-- was working with 0.20.0"
   ]
  },
  {
   "cell_type": "markdown",
   "id": "3ad6569a-a9c8-433e-952a-d4fe66182cb0",
   "metadata": {},
   "source": [
    "## Dask Cluster\n",
    "The following will spin up a dask cluster,  only works on NCAR machines. \n",
    "16 workers worked best for NEON."
   ]
  },
  {
   "cell_type": "code",
   "execution_count": 3,
   "id": "1e4d4aba-4712-48c3-ab45-14e3f3890b9c",
   "metadata": {},
   "outputs": [
    {
     "name": "stderr",
     "output_type": "stream",
     "text": [
      "/glade/u/apps/opt/conda/envs/npl/lib/python3.7/site-packages/dask_jobqueue/core.py:20: FutureWarning: tmpfile is deprecated and will be removed in a future release. Please use dask.utils.tmpfile instead.\n",
      "  from distributed.utils import tmpfile\n"
     ]
    },
    {
     "data": {
      "text/html": [
       "<div>\n",
       "    <div style=\"width: 24px; height: 24px; background-color: #e1e1e1; border: 3px solid #9D9D9D; border-radius: 5px; position: absolute;\"> </div>\n",
       "    <div style=\"margin-left: 48px;\">\n",
       "        <h3 style=\"margin-bottom: 0px;\">Client</h3>\n",
       "        <p style=\"color: #9D9D9D; margin-bottom: 0px;\">Client-3ed51e0c-4d69-11ed-a724-3cecef1acb68</p>\n",
       "        <table style=\"width: 100%; text-align: left;\">\n",
       "\n",
       "        <tr>\n",
       "        \n",
       "            <td style=\"text-align: left;\"><strong>Connection method:</strong> Cluster object</td>\n",
       "            <td style=\"text-align: left;\"><strong>Cluster type:</strong> dask_jobqueue.PBSCluster</td>\n",
       "        \n",
       "        </tr>\n",
       "\n",
       "        \n",
       "            <tr>\n",
       "                <td style=\"text-align: left;\">\n",
       "                    <strong>Dashboard: </strong> <a href=\"https://jupyterhub.hpc.ucar.edu/stable/user/wwieder/niwotest/proxy/8787/status\" target=\"_blank\">https://jupyterhub.hpc.ucar.edu/stable/user/wwieder/niwotest/proxy/8787/status</a>\n",
       "                </td>\n",
       "                <td style=\"text-align: left;\"></td>\n",
       "            </tr>\n",
       "        \n",
       "\n",
       "        </table>\n",
       "\n",
       "        \n",
       "            <details>\n",
       "            <summary style=\"margin-bottom: 20px;\"><h3 style=\"display: inline;\">Cluster Info</h3></summary>\n",
       "            <div class=\"jp-RenderedHTMLCommon jp-RenderedHTML jp-mod-trusted jp-OutputArea-output\">\n",
       "    <div style=\"width: 24px; height: 24px; background-color: #e1e1e1; border: 3px solid #9D9D9D; border-radius: 5px; position: absolute;\">\n",
       "    </div>\n",
       "    <div style=\"margin-left: 48px;\">\n",
       "        <h3 style=\"margin-bottom: 0px; margin-top: 0px;\">PBSCluster</h3>\n",
       "        <p style=\"color: #9D9D9D; margin-bottom: 0px;\">58bbf851</p>\n",
       "        <table style=\"width: 100%; text-align: left;\">\n",
       "            <tr>\n",
       "                <td style=\"text-align: left;\">\n",
       "                    <strong>Dashboard:</strong> <a href=\"https://jupyterhub.hpc.ucar.edu/stable/user/wwieder/niwotest/proxy/8787/status\" target=\"_blank\">https://jupyterhub.hpc.ucar.edu/stable/user/wwieder/niwotest/proxy/8787/status</a>\n",
       "                </td>\n",
       "                <td style=\"text-align: left;\">\n",
       "                    <strong>Workers:</strong> 0\n",
       "                </td>\n",
       "            </tr>\n",
       "            <tr>\n",
       "                <td style=\"text-align: left;\">\n",
       "                    <strong>Total threads:</strong> 0\n",
       "                </td>\n",
       "                <td style=\"text-align: left;\">\n",
       "                    <strong>Total memory:</strong> 0 B\n",
       "                </td>\n",
       "            </tr>\n",
       "            \n",
       "        </table>\n",
       "\n",
       "        <details>\n",
       "            <summary style=\"margin-bottom: 20px;\">\n",
       "                <h3 style=\"display: inline;\">Scheduler Info</h3>\n",
       "            </summary>\n",
       "\n",
       "            <div style=\"\">\n",
       "    <div>\n",
       "        <div style=\"width: 24px; height: 24px; background-color: #FFF7E5; border: 3px solid #FF6132; border-radius: 5px; position: absolute;\"> </div>\n",
       "        <div style=\"margin-left: 48px;\">\n",
       "            <h3 style=\"margin-bottom: 0px;\">Scheduler</h3>\n",
       "            <p style=\"color: #9D9D9D; margin-bottom: 0px;\">Scheduler-a7a73db4-5083-4b89-8a39-27953e87374b</p>\n",
       "            <table style=\"width: 100%; text-align: left;\">\n",
       "                <tr>\n",
       "                    <td style=\"text-align: left;\">\n",
       "                        <strong>Comm:</strong> tcp://10.12.206.46:35123\n",
       "                    </td>\n",
       "                    <td style=\"text-align: left;\">\n",
       "                        <strong>Workers:</strong> 0\n",
       "                    </td>\n",
       "                </tr>\n",
       "                <tr>\n",
       "                    <td style=\"text-align: left;\">\n",
       "                        <strong>Dashboard:</strong> <a href=\"https://jupyterhub.hpc.ucar.edu/stable/user/wwieder/niwotest/proxy/8787/status\" target=\"_blank\">https://jupyterhub.hpc.ucar.edu/stable/user/wwieder/niwotest/proxy/8787/status</a>\n",
       "                    </td>\n",
       "                    <td style=\"text-align: left;\">\n",
       "                        <strong>Total threads:</strong> 0\n",
       "                    </td>\n",
       "                </tr>\n",
       "                <tr>\n",
       "                    <td style=\"text-align: left;\">\n",
       "                        <strong>Started:</strong> Just now\n",
       "                    </td>\n",
       "                    <td style=\"text-align: left;\">\n",
       "                        <strong>Total memory:</strong> 0 B\n",
       "                    </td>\n",
       "                </tr>\n",
       "            </table>\n",
       "        </div>\n",
       "    </div>\n",
       "\n",
       "    <details style=\"margin-left: 48px;\">\n",
       "        <summary style=\"margin-bottom: 20px;\">\n",
       "            <h3 style=\"display: inline;\">Workers</h3>\n",
       "        </summary>\n",
       "\n",
       "        \n",
       "\n",
       "    </details>\n",
       "</div>\n",
       "\n",
       "        </details>\n",
       "    </div>\n",
       "</div>\n",
       "            </details>\n",
       "        \n",
       "\n",
       "    </div>\n",
       "</div>"
      ],
      "text/plain": [
       "<Client: 'tcp://10.12.206.46:35123' processes=0 threads=0, memory=0 B>"
      ]
     },
     "execution_count": 3,
     "metadata": {},
     "output_type": "execute_result"
    }
   ],
   "source": [
    "from distributed import Client\n",
    "from ncar_jobqueue import NCARCluster\n",
    "\n",
    "cluster = NCARCluster()\n",
    "cluster.scale(16)\n",
    "client = Client(cluster)\n",
    "client"
   ]
  },
  {
   "cell_type": "markdown",
   "id": "fbe596ba-3fd7-46f1-b1ca-e3ab79709354",
   "metadata": {},
   "source": [
    "---------------------------"
   ]
  },
  {
   "cell_type": "code",
   "execution_count": 4,
   "id": "f4b724be-d8f9-47a1-960d-728eb57b28dc",
   "metadata": {},
   "outputs": [],
   "source": [
    "# -- read list of sites:\n",
    "#neon_sites_pft = pd.read_csv('/glade/scratch/negins/preprocessed_neon_csv_data/neon_sites_dompft.csv')\n",
    "neon_sites_pft = pd.read_csv('/glade/scratch/wwieder/run_NEON_v2/tools/site_and_regional/neon_sites_dompft.csv')\n",
    "neon_sites = neon_sites_pft['Site'].to_list()\n",
    "\n",
    "failed_sites = [] # -- list for saving failed sites"
   ]
  },
  {
   "cell_type": "markdown",
   "id": "a4479624-ad9f-4610-95ae-8731a3c5725b",
   "metadata": {},
   "source": [
    "### Download evaluation data\n",
    "This is slow and only has to be done once!"
   ]
  },
  {
   "cell_type": "raw",
   "id": "9e0041de-2bbe-4a84-8e83-79b524ffd8c4",
   "metadata": {},
   "source": [
    "eval_dir = '/glade/work/wwieder/neon/eval_files/'\n",
    "\n",
    "if not os.path.exists (eval_dir):\n",
    "    print (\"plot directory does not exist... creating it now!\")\n",
    "    os.mkdir(eval_dir)\n",
    "    \n",
    "for neon_site in neon_sites[1:]:\n",
    "    download_eval_files(neon_site,eval_dir)"
   ]
  },
  {
   "cell_type": "code",
   "execution_count": 5,
   "id": "c913bb51-ab6d-4f78-8a10-2792dd5575aa",
   "metadata": {},
   "outputs": [],
   "source": [
    "# -- read only these variables from the whole netcdf files\n",
    "\n",
    "def preprocess (ds):\n",
    "    '''\n",
    "    reading selected variables from ctsm outputs\n",
    "    '''\n",
    "    variables = ['FCEV', 'FCTR', 'FGEV','FSH','GPP','FSA','FIRA','AR','HR','ELAI']\n",
    "\n",
    "    ds_new= ds[variables]\n",
    "    return ds_new"
   ]
  },
  {
   "cell_type": "code",
   "execution_count": 6,
   "id": "d0e96e82-e2f1-459e-8a09-390f2906c6aa",
   "metadata": {},
   "outputs": [],
   "source": [
    "# -- fix timestamp on CTSM files so they can be matched with eval files\n",
    "\n",
    "def fix_time (ds):\n",
    "    '''\n",
    "    fix time formatting with reading multiple cesm files.\n",
    "    '''\n",
    "    nsteps = len(ds.time)\n",
    "    yr0 = ds['time.year'][0].values\n",
    "    month0 = ds['time.month'][0].values\n",
    "    day0 = ds['time.day'][0].values\n",
    "\n",
    "    date = cftime.datetime(yr0,month0,day0).isoformat() \n",
    "    ds['time'] = xr.cftime_range(date, periods=nsteps, freq='30min')\n",
    "    ds['time']= ds['time'].dt.strftime(\"%Y-%m-%d %H:%M:%S\")\n",
    "    return ds"
   ]
  },
  {
   "cell_type": "code",
   "execution_count": 7,
   "id": "82c6a3d8-d821-4e2a-a304-ec87a329b483",
   "metadata": {},
   "outputs": [],
   "source": [
    "#-- path to save the csv files:\n",
    "csv_dir = \"/glade/scratch/wwieder/preprocessed_neon_v2/\"\n",
    "\n",
    "#create the directory if it does not exist:\n",
    "if not os.path.isdir(csv_dir):\n",
    "    os.mkdir(csv_dir)"
   ]
  },
  {
   "cell_type": "code",
   "execution_count": 8,
   "id": "543a4bc6-9bac-4485-a9bf-063bf93a80b2",
   "metadata": {},
   "outputs": [
    {
     "name": "stdout",
     "output_type": "stream",
     "text": [
      "---------------------------\n",
      "Extracting data for BART\n",
      "All simulation files for all years: [ 1461 files]\n",
      "Reading all simulation files took: 32.7584023475647 s.\n",
      "All evaluation files for all years: [ 48 files]\n",
      "Reading all observation files took: 2.325685501098633 s.\n"
     ]
    },
    {
     "name": "stderr",
     "output_type": "stream",
     "text": [
      "100%|██████████| 10/10 [00:15<00:00,  1.59s/it]\n"
     ]
    },
    {
     "name": "stdout",
     "output_type": "stream",
     "text": [
      "Extracting data for BART took :  53.59183478355408 s.\n",
      "Preprocessed file is saved as :  /glade/scratch/wwieder/preprocessed_neon_v2/preprocessed_BART_2021.csv\n",
      "---------------------------\n",
      "Extracting data for HARV\n",
      "All simulation files for all years: [ 1461 files]\n",
      "Reading all simulation files took: 13.089113473892212 s.\n",
      "All evaluation files for all years: [ 48 files]\n",
      "Reading all observation files took: 1.922457218170166 s.\n"
     ]
    },
    {
     "name": "stderr",
     "output_type": "stream",
     "text": [
      "100%|██████████| 10/10 [00:17<00:00,  1.71s/it]\n"
     ]
    },
    {
     "name": "stdout",
     "output_type": "stream",
     "text": [
      "Extracting data for HARV took :  34.857882499694824 s.\n",
      "Preprocessed file is saved as :  /glade/scratch/wwieder/preprocessed_neon_v2/preprocessed_HARV_2021.csv\n",
      "---------------------------\n",
      "Extracting data for BLAN\n",
      "All simulation files for all years: [ 1461 files]\n",
      "Reading all simulation files took: 12.429267644882202 s.\n",
      "All evaluation files for all years: [ 48 files]\n",
      "Reading all observation files took: 1.9883344173431396 s.\n"
     ]
    },
    {
     "name": "stderr",
     "output_type": "stream",
     "text": [
      "100%|██████████| 10/10 [00:17<00:00,  1.72s/it]\n"
     ]
    },
    {
     "name": "stdout",
     "output_type": "stream",
     "text": [
      "Extracting data for BLAN took :  33.26438808441162 s.\n",
      "Preprocessed file is saved as :  /glade/scratch/wwieder/preprocessed_neon_v2/preprocessed_BLAN_2021.csv\n",
      "---------------------------\n",
      "Extracting data for SCBI\n",
      "All simulation files for all years: [ 1461 files]\n",
      "Reading all simulation files took: 12.516557216644287 s.\n",
      "All evaluation files for all years: [ 48 files]\n",
      "Reading all observation files took: 1.9405183792114258 s.\n"
     ]
    },
    {
     "name": "stderr",
     "output_type": "stream",
     "text": [
      "100%|██████████| 10/10 [00:17<00:00,  1.73s/it]\n"
     ]
    },
    {
     "name": "stdout",
     "output_type": "stream",
     "text": [
      "Extracting data for SCBI took :  33.35490870475769 s.\n",
      "Preprocessed file is saved as :  /glade/scratch/wwieder/preprocessed_neon_v2/preprocessed_SCBI_2021.csv\n",
      "---------------------------\n",
      "Extracting data for SERC\n",
      "All simulation files for all years: [ 1461 files]\n",
      "Reading all simulation files took: 12.742352485656738 s.\n",
      "All evaluation files for all years: [ 48 files]\n",
      "Reading all observation files took: 1.8827295303344727 s.\n"
     ]
    },
    {
     "name": "stderr",
     "output_type": "stream",
     "text": [
      "100%|██████████| 10/10 [00:16<00:00,  1.70s/it]\n"
     ]
    },
    {
     "name": "stdout",
     "output_type": "stream",
     "text": [
      "Extracting data for SERC took :  33.971096992492676 s.\n",
      "Preprocessed file is saved as :  /glade/scratch/wwieder/preprocessed_neon_v2/preprocessed_SERC_2021.csv\n",
      "---------------------------\n",
      "Extracting data for DSNY\n",
      "All simulation files for all years: [ 1461 files]\n",
      "Reading all simulation files took: 13.782218217849731 s.\n",
      "All evaluation files for all years: [ 48 files]\n",
      "Reading all observation files took: 1.8946318626403809 s.\n"
     ]
    },
    {
     "name": "stderr",
     "output_type": "stream",
     "text": [
      "100%|██████████| 10/10 [00:17<00:00,  1.77s/it]\n"
     ]
    },
    {
     "name": "stdout",
     "output_type": "stream",
     "text": [
      "Extracting data for DSNY took :  35.6292245388031 s.\n",
      "Preprocessed file is saved as :  /glade/scratch/wwieder/preprocessed_neon_v2/preprocessed_DSNY_2021.csv\n",
      "---------------------------\n",
      "Extracting data for JERC\n",
      "All simulation files for all years: [ 1461 files]\n",
      "Reading all simulation files took: 12.92462420463562 s.\n",
      "All evaluation files for all years: [ 48 files]\n",
      "Reading all observation files took: 1.9203002452850342 s.\n"
     ]
    },
    {
     "name": "stderr",
     "output_type": "stream",
     "text": [
      "100%|██████████| 10/10 [00:18<00:00,  1.80s/it]\n"
     ]
    },
    {
     "name": "stdout",
     "output_type": "stream",
     "text": [
      "Extracting data for JERC took :  35.594834327697754 s.\n",
      "Preprocessed file is saved as :  /glade/scratch/wwieder/preprocessed_neon_v2/preprocessed_JERC_2021.csv\n",
      "---------------------------\n",
      "Extracting data for OSBS\n",
      "All simulation files for all years: [ 1461 files]\n",
      "Reading all simulation files took: 13.128665208816528 s.\n",
      "All evaluation files for all years: [ 48 files]\n",
      "Reading all observation files took: 1.9458975791931152 s.\n"
     ]
    },
    {
     "name": "stderr",
     "output_type": "stream",
     "text": [
      "100%|██████████| 10/10 [00:17<00:00,  1.74s/it]\n"
     ]
    },
    {
     "name": "stdout",
     "output_type": "stream",
     "text": [
      "Extracting data for OSBS took :  35.10874938964844 s.\n",
      "Preprocessed file is saved as :  /glade/scratch/wwieder/preprocessed_neon_v2/preprocessed_OSBS_2021.csv\n",
      "---------------------------\n",
      "Extracting data for GUAN\n",
      "All simulation files for all years: [ 1096 files]\n",
      "Reading all simulation files took: 8.865683317184448 s.\n",
      "All evaluation files for all years: [ 42 files]\n",
      "Reading all observation files took: 1.6722183227539062 s.\n"
     ]
    },
    {
     "name": "stderr",
     "output_type": "stream",
     "text": [
      "100%|██████████| 10/10 [00:14<00:00,  1.42s/it]\n"
     ]
    },
    {
     "name": "stdout",
     "output_type": "stream",
     "text": [
      "Extracting data for GUAN took :  26.1095712184906 s.\n",
      "Preprocessed file is saved as :  /glade/scratch/wwieder/preprocessed_neon_v2/preprocessed_GUAN_2021.csv\n",
      "---------------------------\n",
      "Extracting data for LAJA\n",
      "All simulation files for all years: [ 1096 files]\n",
      "Reading all simulation files took: 9.300638198852539 s.\n",
      "All evaluation files for all years: [ 44 files]\n",
      "Reading all observation files took: 1.7726764678955078 s.\n"
     ]
    },
    {
     "name": "stderr",
     "output_type": "stream",
     "text": [
      "100%|██████████| 10/10 [00:13<00:00,  1.35s/it]\n"
     ]
    },
    {
     "name": "stdout",
     "output_type": "stream",
     "text": [
      "Extracting data for LAJA took :  26.09468150138855 s.\n",
      "Preprocessed file is saved as :  /glade/scratch/wwieder/preprocessed_neon_v2/preprocessed_LAJA_2021.csv\n",
      "---------------------------\n",
      "Extracting data for STEI\n",
      "All simulation files for all years: [ 1461 files]\n",
      "Reading all simulation files took: 12.801304817199707 s.\n",
      "All evaluation files for all years: [ 48 files]\n",
      "Reading all observation files took: 1.9985883235931396 s.\n"
     ]
    },
    {
     "name": "stderr",
     "output_type": "stream",
     "text": [
      "100%|██████████| 10/10 [00:18<00:00,  1.82s/it]\n"
     ]
    },
    {
     "name": "stdout",
     "output_type": "stream",
     "text": [
      "Extracting data for STEI took :  35.39893937110901 s.\n",
      "Preprocessed file is saved as :  /glade/scratch/wwieder/preprocessed_neon_v2/preprocessed_STEI_2021.csv\n",
      "---------------------------\n",
      "Extracting data for TREE\n",
      "All simulation files for all years: [ 1461 files]\n",
      "Reading all simulation files took: 12.869460821151733 s.\n",
      "All evaluation files for all years: [ 48 files]\n",
      "Reading all observation files took: 1.9867579936981201 s.\n"
     ]
    },
    {
     "name": "stderr",
     "output_type": "stream",
     "text": [
      "100%|██████████| 10/10 [00:17<00:00,  1.72s/it]\n"
     ]
    },
    {
     "name": "stdout",
     "output_type": "stream",
     "text": [
      "Extracting data for TREE took :  34.31326603889465 s.\n",
      "Preprocessed file is saved as :  /glade/scratch/wwieder/preprocessed_neon_v2/preprocessed_TREE_2021.csv\n",
      "---------------------------\n",
      "Extracting data for UNDE\n",
      "All simulation files for all years: [ 1461 files]\n",
      "Reading all simulation files took: 13.082110166549683 s.\n",
      "All evaluation files for all years: [ 48 files]\n",
      "Reading all observation files took: 1.9262075424194336 s.\n"
     ]
    },
    {
     "name": "stderr",
     "output_type": "stream",
     "text": [
      "100%|██████████| 10/10 [00:18<00:00,  1.80s/it]\n"
     ]
    },
    {
     "name": "stdout",
     "output_type": "stream",
     "text": [
      "Extracting data for UNDE took :  35.24848461151123 s.\n",
      "Preprocessed file is saved as :  /glade/scratch/wwieder/preprocessed_neon_v2/preprocessed_UNDE_2021.csv\n",
      "---------------------------\n",
      "Extracting data for KONA\n",
      "All simulation files for all years: [ 1461 files]\n",
      "Reading all simulation files took: 13.133140802383423 s.\n",
      "All evaluation files for all years: [ 48 files]\n",
      "Reading all observation files took: 1.9249274730682373 s.\n"
     ]
    },
    {
     "name": "stderr",
     "output_type": "stream",
     "text": [
      "100%|██████████| 10/10 [00:17<00:00,  1.77s/it]\n"
     ]
    },
    {
     "name": "stdout",
     "output_type": "stream",
     "text": [
      "Extracting data for KONA took :  34.46069931983948 s.\n",
      "Preprocessed file is saved as :  /glade/scratch/wwieder/preprocessed_neon_v2/preprocessed_KONA_2021.csv\n",
      "---------------------------\n",
      "Extracting data for KONZ\n",
      "All simulation files for all years: [ 1461 files]\n",
      "Reading all simulation files took: 13.276569604873657 s.\n",
      "All evaluation files for all years: [ 48 files]\n",
      "Reading all observation files took: 1.9716901779174805 s.\n"
     ]
    },
    {
     "name": "stderr",
     "output_type": "stream",
     "text": [
      "100%|██████████| 10/10 [00:17<00:00,  1.74s/it]\n"
     ]
    },
    {
     "name": "stdout",
     "output_type": "stream",
     "text": [
      "Extracting data for KONZ took :  35.09692573547363 s.\n",
      "Preprocessed file is saved as :  /glade/scratch/wwieder/preprocessed_neon_v2/preprocessed_KONZ_2021.csv\n",
      "---------------------------\n",
      "Extracting data for UKFS\n",
      "All simulation files for all years: [ 1461 files]\n",
      "Reading all simulation files took: 13.028457164764404 s.\n",
      "All evaluation files for all years: [ 48 files]\n",
      "Reading all observation files took: 2.1250064373016357 s.\n"
     ]
    },
    {
     "name": "stderr",
     "output_type": "stream",
     "text": [
      "100%|██████████| 10/10 [00:17<00:00,  1.71s/it]\n"
     ]
    },
    {
     "name": "stdout",
     "output_type": "stream",
     "text": [
      "Extracting data for UKFS took :  34.1353542804718 s.\n",
      "Preprocessed file is saved as :  /glade/scratch/wwieder/preprocessed_neon_v2/preprocessed_UKFS_2021.csv\n",
      "---------------------------\n",
      "Extracting data for GRSM\n",
      "All simulation files for all years: [ 1461 files]\n",
      "Reading all simulation files took: 13.803131341934204 s.\n",
      "All evaluation files for all years: [ 48 files]\n",
      "Reading all observation files took: 2.314790964126587 s.\n"
     ]
    },
    {
     "name": "stderr",
     "output_type": "stream",
     "text": [
      "100%|██████████| 10/10 [00:17<00:00,  1.77s/it]\n"
     ]
    },
    {
     "name": "stdout",
     "output_type": "stream",
     "text": [
      "Extracting data for GRSM took :  36.185030460357666 s.\n",
      "Preprocessed file is saved as :  /glade/scratch/wwieder/preprocessed_neon_v2/preprocessed_GRSM_2021.csv\n",
      "---------------------------\n",
      "Extracting data for MLBS\n",
      "All simulation files for all years: [ 1061 files]\n",
      "Reading all simulation files took: 9.19109296798706 s.\n",
      "All evaluation files for all years: [ 48 files]\n",
      "Reading all observation files took: 2.488206624984741 s.\n"
     ]
    },
    {
     "name": "stderr",
     "output_type": "stream",
     "text": [
      "100%|██████████| 10/10 [00:12<00:00,  1.22s/it]\n"
     ]
    },
    {
     "name": "stdout",
     "output_type": "stream",
     "text": [
      "Extracting data for MLBS took :  25.927058696746826 s.\n",
      "Preprocessed file is saved as :  /glade/scratch/wwieder/preprocessed_neon_v2/preprocessed_MLBS_2021.csv\n",
      "---------------------------\n",
      "Extracting data for ORNL\n",
      "All simulation files for all years: [ 1461 files]\n",
      "Reading all simulation files took: 12.995420694351196 s.\n",
      "All evaluation files for all years: [ 48 files]\n",
      "Reading all observation files took: 2.021406888961792 s.\n"
     ]
    },
    {
     "name": "stderr",
     "output_type": "stream",
     "text": [
      "100%|██████████| 10/10 [00:17<00:00,  1.77s/it]\n"
     ]
    },
    {
     "name": "stdout",
     "output_type": "stream",
     "text": [
      "Extracting data for ORNL took :  34.50169014930725 s.\n",
      "Preprocessed file is saved as :  /glade/scratch/wwieder/preprocessed_neon_v2/preprocessed_ORNL_2021.csv\n",
      "---------------------------\n",
      "Extracting data for DELA\n",
      "All simulation files for all years: [ 1461 files]\n",
      "Reading all simulation files took: 13.65219783782959 s.\n",
      "All evaluation files for all years: [ 48 files]\n",
      "Reading all observation files took: 1.924448013305664 s.\n"
     ]
    },
    {
     "name": "stderr",
     "output_type": "stream",
     "text": [
      "100%|██████████| 10/10 [00:19<00:00,  1.92s/it]\n"
     ]
    },
    {
     "name": "stdout",
     "output_type": "stream",
     "text": [
      "Extracting data for DELA took :  37.49413442611694 s.\n",
      "Preprocessed file is saved as :  /glade/scratch/wwieder/preprocessed_neon_v2/preprocessed_DELA_2021.csv\n",
      "---------------------------\n",
      "Extracting data for LENO\n",
      "All simulation files for all years: [ 365 files]\n",
      "Reading all simulation files took: 3.9506962299346924 s.\n",
      "All evaluation files for all years: [ 48 files]\n",
      "Reading all observation files took: 1.956078052520752 s.\n"
     ]
    },
    {
     "name": "stderr",
     "output_type": "stream",
     "text": [
      "100%|██████████| 10/10 [00:04<00:00,  2.31it/s]\n"
     ]
    },
    {
     "name": "stdout",
     "output_type": "stream",
     "text": [
      "Extracting data for LENO took :  12.393186807632446 s.\n",
      "Preprocessed file is saved as :  /glade/scratch/wwieder/preprocessed_neon_v2/preprocessed_LENO_2021.csv\n",
      "---------------------------\n",
      "Extracting data for TALL\n",
      "All simulation files for all years: [ 1461 files]\n",
      "Reading all simulation files took: 12.56821894645691 s.\n",
      "All evaluation files for all years: [ 48 files]\n",
      "Reading all observation files took: 1.8691744804382324 s.\n"
     ]
    },
    {
     "name": "stderr",
     "output_type": "stream",
     "text": [
      "100%|██████████| 10/10 [00:17<00:00,  1.75s/it]\n"
     ]
    },
    {
     "name": "stdout",
     "output_type": "stream",
     "text": [
      "Extracting data for TALL took :  34.51394295692444 s.\n",
      "Preprocessed file is saved as :  /glade/scratch/wwieder/preprocessed_neon_v2/preprocessed_TALL_2021.csv\n",
      "---------------------------\n",
      "Extracting data for DCFS\n",
      "All simulation files for all years: [ 1461 files]\n",
      "Reading all simulation files took: 14.044934749603271 s.\n",
      "All evaluation files for all years: [ 48 files]\n",
      "Reading all observation files took: 1.9621474742889404 s.\n"
     ]
    },
    {
     "name": "stderr",
     "output_type": "stream",
     "text": [
      "100%|██████████| 10/10 [00:17<00:00,  1.77s/it]\n"
     ]
    },
    {
     "name": "stdout",
     "output_type": "stream",
     "text": [
      "Extracting data for DCFS took :  36.64763140678406 s.\n",
      "Preprocessed file is saved as :  /glade/scratch/wwieder/preprocessed_neon_v2/preprocessed_DCFS_2021.csv\n",
      "---------------------------\n",
      "Extracting data for NOGP\n",
      "All simulation files for all years: [ 1461 files]\n",
      "Reading all simulation files took: 12.35086178779602 s.\n",
      "All evaluation files for all years: [ 48 files]\n",
      "Reading all observation files took: 1.8708360195159912 s.\n"
     ]
    },
    {
     "name": "stderr",
     "output_type": "stream",
     "text": [
      "100%|██████████| 10/10 [00:18<00:00,  1.84s/it]\n"
     ]
    },
    {
     "name": "stdout",
     "output_type": "stream",
     "text": [
      "Extracting data for NOGP took :  35.88758897781372 s.\n",
      "Preprocessed file is saved as :  /glade/scratch/wwieder/preprocessed_neon_v2/preprocessed_NOGP_2021.csv\n",
      "---------------------------\n",
      "Extracting data for WOOD\n",
      "All simulation files for all years: [ 1461 files]\n",
      "Reading all simulation files took: 13.64011025428772 s.\n",
      "All evaluation files for all years: [ 48 files]\n",
      "Reading all observation files took: 1.9280681610107422 s.\n"
     ]
    },
    {
     "name": "stderr",
     "output_type": "stream",
     "text": [
      "100%|██████████| 10/10 [00:17<00:00,  1.79s/it]\n"
     ]
    },
    {
     "name": "stdout",
     "output_type": "stream",
     "text": [
      "Extracting data for WOOD took :  35.29481029510498 s.\n",
      "Preprocessed file is saved as :  /glade/scratch/wwieder/preprocessed_neon_v2/preprocessed_WOOD_2021.csv\n",
      "---------------------------\n",
      "Extracting data for CPER\n",
      "All simulation files for all years: [ 1461 files]\n",
      "Reading all simulation files took: 12.436470746994019 s.\n",
      "All evaluation files for all years: [ 48 files]\n",
      "Reading all observation files took: 2.701063632965088 s.\n"
     ]
    },
    {
     "name": "stderr",
     "output_type": "stream",
     "text": [
      "100%|██████████| 10/10 [00:17<00:00,  1.72s/it]\n"
     ]
    },
    {
     "name": "stdout",
     "output_type": "stream",
     "text": [
      "Extracting data for CPER took :  35.40712928771973 s.\n",
      "Preprocessed file is saved as :  /glade/scratch/wwieder/preprocessed_neon_v2/preprocessed_CPER_2021.csv\n",
      "---------------------------\n",
      "Extracting data for RMNP\n",
      "All simulation files for all years: [ 1461 files]\n",
      "Reading all simulation files took: 14.466070175170898 s.\n",
      "All evaluation files for all years: [ 48 files]\n",
      "Reading all observation files took: 1.9732513427734375 s.\n"
     ]
    },
    {
     "name": "stderr",
     "output_type": "stream",
     "text": [
      "100%|██████████| 10/10 [00:17<00:00,  1.74s/it]\n"
     ]
    },
    {
     "name": "stdout",
     "output_type": "stream",
     "text": [
      "Extracting data for RMNP took :  36.41900062561035 s.\n",
      "Preprocessed file is saved as :  /glade/scratch/wwieder/preprocessed_neon_v2/preprocessed_RMNP_2021.csv\n",
      "---------------------------\n",
      "Extracting data for STER\n",
      "All simulation files for all years: [ 1461 files]\n",
      "Reading all simulation files took: 12.16444993019104 s.\n",
      "All evaluation files for all years: [ 48 files]\n",
      "Reading all observation files took: 2.0741829872131348 s.\n"
     ]
    },
    {
     "name": "stderr",
     "output_type": "stream",
     "text": [
      "100%|██████████| 10/10 [00:17<00:00,  1.70s/it]\n"
     ]
    },
    {
     "name": "stdout",
     "output_type": "stream",
     "text": [
      "Extracting data for STER took :  33.395546674728394 s.\n",
      "Preprocessed file is saved as :  /glade/scratch/wwieder/preprocessed_neon_v2/preprocessed_STER_2021.csv\n",
      "---------------------------\n",
      "Extracting data for CLBJ\n",
      "All simulation files for all years: [ 1461 files]\n",
      "Reading all simulation files took: 15.318549633026123 s.\n",
      "All evaluation files for all years: [ 48 files]\n",
      "Reading all observation files took: 1.86155104637146 s.\n"
     ]
    },
    {
     "name": "stderr",
     "output_type": "stream",
     "text": [
      "100%|██████████| 10/10 [00:19<00:00,  1.94s/it]\n"
     ]
    },
    {
     "name": "stdout",
     "output_type": "stream",
     "text": [
      "Extracting data for CLBJ took :  38.34470868110657 s.\n",
      "Preprocessed file is saved as :  /glade/scratch/wwieder/preprocessed_neon_v2/preprocessed_CLBJ_2021.csv\n",
      "---------------------------\n",
      "Extracting data for OAES\n",
      "All simulation files for all years: [ 1461 files]\n",
      "Reading all simulation files took: 13.362742900848389 s.\n",
      "All evaluation files for all years: [ 48 files]\n",
      "Reading all observation files took: 1.919142723083496 s.\n"
     ]
    },
    {
     "name": "stderr",
     "output_type": "stream",
     "text": [
      "100%|██████████| 10/10 [00:18<00:00,  1.83s/it]\n"
     ]
    },
    {
     "name": "stdout",
     "output_type": "stream",
     "text": [
      "Extracting data for OAES took :  35.592520236968994 s.\n",
      "Preprocessed file is saved as :  /glade/scratch/wwieder/preprocessed_neon_v2/preprocessed_OAES_2021.csv\n",
      "---------------------------\n",
      "Extracting data for YELL\n",
      "All simulation files for all years: [ 1096 files]\n",
      "Reading all simulation files took: 9.549078941345215 s.\n",
      "All evaluation files for all years: [ 41 files]\n",
      "Reading all observation files took: 5.104431629180908 s.\n"
     ]
    },
    {
     "name": "stderr",
     "output_type": "stream",
     "text": [
      "100%|██████████| 10/10 [00:17<00:00,  1.72s/it]\n"
     ]
    },
    {
     "name": "stdout",
     "output_type": "stream",
     "text": [
      "Extracting data for YELL took :  33.214149951934814 s.\n",
      "Preprocessed file is saved as :  /glade/scratch/wwieder/preprocessed_neon_v2/preprocessed_YELL_2021.csv\n",
      "---------------------------\n",
      "Extracting data for MOAB\n",
      "All simulation files for all years: [ 1145 files]\n",
      "Reading all simulation files took: 10.351831674575806 s.\n",
      "All evaluation files for all years: [ 48 files]\n",
      "Reading all observation files took: 1.9000413417816162 s.\n"
     ]
    },
    {
     "name": "stderr",
     "output_type": "stream",
     "text": [
      "100%|██████████| 10/10 [00:13<00:00,  1.38s/it]\n"
     ]
    },
    {
     "name": "stdout",
     "output_type": "stream",
     "text": [
      "Extracting data for MOAB took :  28.516807079315186 s.\n",
      "Preprocessed file is saved as :  /glade/scratch/wwieder/preprocessed_neon_v2/preprocessed_MOAB_2021.csv\n",
      "---------------------------\n",
      "Extracting data for NIWO\n",
      "All simulation files for all years: [ 0 files]\n",
      "no files to open\n",
      "THIS SITE FAILED: NIWO\n",
      "---------------------------\n",
      "Extracting data for JORN\n",
      "All simulation files for all years: [ 1461 files]\n",
      "Reading all simulation files took: 12.179869890213013 s.\n",
      "All evaluation files for all years: [ 48 files]\n",
      "Reading all observation files took: 2.59778094291687 s.\n"
     ]
    },
    {
     "name": "stderr",
     "output_type": "stream",
     "text": [
      "100%|██████████| 10/10 [00:17<00:00,  1.73s/it]\n"
     ]
    },
    {
     "name": "stdout",
     "output_type": "stream",
     "text": [
      "Extracting data for JORN took :  34.35937428474426 s.\n",
      "Preprocessed file is saved as :  /glade/scratch/wwieder/preprocessed_neon_v2/preprocessed_JORN_2021.csv\n",
      "---------------------------\n",
      "Extracting data for SRER\n",
      "All simulation files for all years: [ 1461 files]\n",
      "Reading all simulation files took: 12.960702419281006 s.\n",
      "All evaluation files for all years: [ 48 files]\n",
      "Reading all observation files took: 1.9668757915496826 s.\n"
     ]
    },
    {
     "name": "stderr",
     "output_type": "stream",
     "text": [
      "100%|██████████| 10/10 [00:21<00:00,  2.14s/it]\n"
     ]
    },
    {
     "name": "stdout",
     "output_type": "stream",
     "text": [
      "Extracting data for SRER took :  38.113025188446045 s.\n",
      "Preprocessed file is saved as :  /glade/scratch/wwieder/preprocessed_neon_v2/preprocessed_SRER_2021.csv\n",
      "---------------------------\n",
      "Extracting data for ONAQ\n",
      "All simulation files for all years: [ 997 files]\n",
      "Reading all simulation files took: 8.950510025024414 s.\n",
      "All evaluation files for all years: [ 48 files]\n",
      "Reading all observation files took: 2.1239054203033447 s.\n"
     ]
    },
    {
     "name": "stderr",
     "output_type": "stream",
     "text": [
      "100%|██████████| 10/10 [00:10<00:00,  1.08s/it]\n"
     ]
    },
    {
     "name": "stdout",
     "output_type": "stream",
     "text": [
      "Extracting data for ONAQ took :  23.388774871826172 s.\n",
      "Preprocessed file is saved as :  /glade/scratch/wwieder/preprocessed_neon_v2/preprocessed_ONAQ_2021.csv\n",
      "---------------------------\n",
      "Extracting data for ABBY\n",
      "All simulation files for all years: [ 1461 files]\n",
      "Reading all simulation files took: 14.312564134597778 s.\n",
      "All evaluation files for all years: [ 48 files]\n",
      "Reading all observation files took: 1.9988150596618652 s.\n"
     ]
    },
    {
     "name": "stderr",
     "output_type": "stream",
     "text": [
      "100%|██████████| 10/10 [00:16<00:00,  1.67s/it]\n"
     ]
    },
    {
     "name": "stdout",
     "output_type": "stream",
     "text": [
      "Extracting data for ABBY took :  35.49981927871704 s.\n",
      "Preprocessed file is saved as :  /glade/scratch/wwieder/preprocessed_neon_v2/preprocessed_ABBY_2021.csv\n",
      "---------------------------\n",
      "Extracting data for WREF\n",
      "All simulation files for all years: [ 1096 files]\n",
      "Reading all simulation files took: 9.841473817825317 s.\n",
      "All evaluation files for all years: [ 48 files]\n",
      "Reading all observation files took: 6.063176155090332 s.\n"
     ]
    },
    {
     "name": "stderr",
     "output_type": "stream",
     "text": [
      "100%|██████████| 10/10 [00:13<00:00,  1.38s/it]\n"
     ]
    },
    {
     "name": "stdout",
     "output_type": "stream",
     "text": [
      "Extracting data for WREF took :  31.123565673828125 s.\n",
      "Preprocessed file is saved as :  /glade/scratch/wwieder/preprocessed_neon_v2/preprocessed_WREF_2021.csv\n",
      "---------------------------\n",
      "Extracting data for SJER\n",
      "All simulation files for all years: [ 1218 files]\n",
      "Reading all simulation files took: 10.708858728408813 s.\n",
      "All evaluation files for all years: [ 40 files]\n",
      "Reading all observation files took: 1.5595476627349854 s.\n"
     ]
    },
    {
     "name": "stderr",
     "output_type": "stream",
     "text": [
      "100%|██████████| 10/10 [00:15<00:00,  1.60s/it]\n"
     ]
    },
    {
     "name": "stdout",
     "output_type": "stream",
     "text": [
      "Extracting data for SJER took :  30.328524827957153 s.\n",
      "Preprocessed file is saved as :  /glade/scratch/wwieder/preprocessed_neon_v2/preprocessed_SJER_2021.csv\n",
      "---------------------------\n",
      "Extracting data for SOAP\n",
      "All simulation files for all years: [ 1461 files]\n",
      "Reading all simulation files took: 13.436661958694458 s.\n",
      "All evaluation files for all years: [ 48 files]\n",
      "Reading all observation files took: 2.1659092903137207 s.\n"
     ]
    },
    {
     "name": "stderr",
     "output_type": "stream",
     "text": [
      "100%|██████████| 10/10 [00:18<00:00,  1.80s/it]\n"
     ]
    },
    {
     "name": "stdout",
     "output_type": "stream",
     "text": [
      "Extracting data for SOAP took :  35.51208305358887 s.\n",
      "Preprocessed file is saved as :  /glade/scratch/wwieder/preprocessed_neon_v2/preprocessed_SOAP_2021.csv\n",
      "---------------------------\n",
      "Extracting data for TEAK\n",
      "All simulation files for all years: [ 1096 files]\n",
      "Reading all simulation files took: 11.75840139389038 s.\n",
      "All evaluation files for all years: [ 43 files]\n",
      "Reading all observation files took: 2.3279731273651123 s.\n"
     ]
    },
    {
     "name": "stderr",
     "output_type": "stream",
     "text": [
      "100%|██████████| 10/10 [00:13<00:00,  1.31s/it]\n"
     ]
    },
    {
     "name": "stdout",
     "output_type": "stream",
     "text": [
      "Extracting data for TEAK took :  29.365901470184326 s.\n",
      "Preprocessed file is saved as :  /glade/scratch/wwieder/preprocessed_neon_v2/preprocessed_TEAK_2021.csv\n",
      "---------------------------\n",
      "Extracting data for TOOL\n",
      "All simulation files for all years: [ 730 files]\n",
      "Reading all simulation files took: 8.321341753005981 s.\n",
      "All evaluation files for all years: [ 48 files]\n",
      "Reading all observation files took: 1.8897078037261963 s.\n"
     ]
    },
    {
     "name": "stderr",
     "output_type": "stream",
     "text": [
      "100%|██████████| 10/10 [00:08<00:00,  1.18it/s]\n"
     ]
    },
    {
     "name": "stdout",
     "output_type": "stream",
     "text": [
      "Extracting data for TOOL took :  20.718360424041748 s.\n",
      "Preprocessed file is saved as :  /glade/scratch/wwieder/preprocessed_neon_v2/preprocessed_TOOL_2021.csv\n",
      "---------------------------\n",
      "Extracting data for BARR\n",
      "All simulation files for all years: [ 1096 files]\n",
      "Reading all simulation files took: 10.439579725265503 s.\n",
      "All evaluation files for all years: [ 48 files]\n",
      "Reading all observation files took: 2.0242183208465576 s.\n"
     ]
    },
    {
     "name": "stderr",
     "output_type": "stream",
     "text": [
      "100%|██████████| 10/10 [00:14<00:00,  1.42s/it]\n"
     ]
    },
    {
     "name": "stdout",
     "output_type": "stream",
     "text": [
      "Extracting data for BARR took :  28.301894903182983 s.\n",
      "Preprocessed file is saved as :  /glade/scratch/wwieder/preprocessed_neon_v2/preprocessed_BARR_2021.csv\n",
      "---------------------------\n",
      "Extracting data for BONA\n",
      "All simulation files for all years: [ 1461 files]\n",
      "Reading all simulation files took: 12.35410761833191 s.\n",
      "All evaluation files for all years: [ 48 files]\n",
      "Reading all observation files took: 2.110247850418091 s.\n"
     ]
    },
    {
     "name": "stderr",
     "output_type": "stream",
     "text": [
      "100%|██████████| 10/10 [00:17<00:00,  1.71s/it]\n"
     ]
    },
    {
     "name": "stdout",
     "output_type": "stream",
     "text": [
      "Extracting data for BONA took :  34.11351561546326 s.\n",
      "Preprocessed file is saved as :  /glade/scratch/wwieder/preprocessed_neon_v2/preprocessed_BONA_2021.csv\n",
      "---------------------------\n",
      "Extracting data for DEJU\n",
      "All simulation files for all years: [ 1461 files]\n",
      "Reading all simulation files took: 13.787690162658691 s.\n",
      "All evaluation files for all years: [ 48 files]\n",
      "Reading all observation files took: 1.9994642734527588 s.\n"
     ]
    },
    {
     "name": "stderr",
     "output_type": "stream",
     "text": [
      "100%|██████████| 10/10 [00:17<00:00,  1.79s/it]\n"
     ]
    },
    {
     "name": "stdout",
     "output_type": "stream",
     "text": [
      "Extracting data for DEJU took :  35.997328996658325 s.\n",
      "Preprocessed file is saved as :  /glade/scratch/wwieder/preprocessed_neon_v2/preprocessed_DEJU_2021.csv\n",
      "---------------------------\n",
      "Extracting data for HEAL\n",
      "All simulation files for all years: [ 1461 files]\n",
      "Reading all simulation files took: 14.632742643356323 s.\n",
      "All evaluation files for all years: [ 48 files]\n",
      "Reading all observation files took: 1.9894495010375977 s.\n"
     ]
    },
    {
     "name": "stderr",
     "output_type": "stream",
     "text": [
      "100%|██████████| 10/10 [00:17<00:00,  1.78s/it]\n"
     ]
    },
    {
     "name": "stdout",
     "output_type": "stream",
     "text": [
      "Extracting data for HEAL took :  36.10174584388733 s.\n",
      "Preprocessed file is saved as :  /glade/scratch/wwieder/preprocessed_neon_v2/preprocessed_HEAL_2021.csv\n",
      "---------------------------\n",
      "Extracting data for PUUM\n",
      "All simulation files for all years: [ 0 files]\n",
      "no files to open\n",
      "THIS SITE FAILED: PUUM\n"
     ]
    }
   ],
   "source": [
    "years = [\"2018\",\"2019\",\"2020\",\"2021\"]\n",
    "\n",
    "for neon_site in neon_sites:\n",
    "    try: \n",
    "\n",
    "        start_site = time.time()\n",
    "\n",
    "        print ('---------------------------')\n",
    "        print (\"Extracting data for \"+neon_site)\n",
    "        sim_files =[]\n",
    "        for year in years:\n",
    "            sim_path = \"/glade/scratch/wwieder/run_NEON_v2/tools/site_and_regional/archive/\"+neon_site+\".transient/lnd/hist/\"\n",
    "            #sim_path = \"/glade/scratch/negins/neon_v2/tools/site_and_regional/archive/\"+neon_site+\".transient/lnd/hist/\"\n",
    "            sim_files.extend(sorted(glob(join(sim_path,neon_site+\".transient.clm2.h1.\"+year+\"*.nc\"))))\n",
    "\n",
    "        print(\"All simulation files for all years: [\", len(sim_files), \"files]\")\n",
    "\n",
    "        start = time.time()\n",
    "\n",
    "        ds_ctsm = xr.open_mfdataset(sim_files, decode_times=True, combine='by_coords',parallel=True,preprocess=preprocess)\n",
    "        ds_ctsm = fix_time (ds_ctsm)\n",
    "\n",
    "        end = time.time()\n",
    "        print(\"Reading all simulation files took:\", end-start, \"s.\")\n",
    "\n",
    "        eval_files = []\n",
    "        for year in years:\n",
    "            #eval_dir = \"/glade/work/negins/neon_scripts/notebooks/evaluation_files_2/\"+neon_site\n",
    "            eval_dir = \"/glade/work/wwieder/neon/eval_files/\"+neon_site\n",
    "            eval_files.extend(sorted(glob(join(eval_dir,neon_site+\"_eval_\"+year+\"*.nc\"))))\n",
    "\n",
    "\n",
    "        print (\"All evaluation files for all years: [\", len(eval_files), \"files]\")\n",
    "\n",
    "        start = time.time()\n",
    "\n",
    "        ds_eval = xr.open_mfdataset(eval_files, decode_times=True, combine='by_coords')\n",
    "\n",
    "        end = time.time()\n",
    "        print(\"Reading all observation files took:\", end-start, \"s.\")\n",
    "        \n",
    "        #Convert CTSM data to a Pandas Dataframe for easier handling:\n",
    "        ctsm_vars = ['FCEV', 'FCTR', 'FGEV','FSH','GPP','FSA','FIRA','AR','HR','ELAI']\n",
    "\n",
    "        df_ctsm = pd.DataFrame({'time':ds_ctsm.time})\n",
    "        df_ctsm['time'] = pd.to_datetime(df_ctsm['time'],format= '%Y-%m-%d %H:%M:%S' )\n",
    "\n",
    "        for var in tqdm.tqdm(ctsm_vars):\n",
    "            sim_var_name = \"sim_\"+var\n",
    "            field = np.ravel ( ds_ctsm[var])     \n",
    "            df_ctsm[sim_var_name]=field\n",
    "            #-- shift simulation data by one\n",
    "            df_ctsm[sim_var_name]=df_ctsm[sim_var_name].shift(-1).values\n",
    "\n",
    "\n",
    "        #Convert NEON data to a Pandas Dataframe for easier handling:\n",
    "        eval_vars = ['NEE','FSH','EFLX_LH_TOT','GPP','Rnet']\n",
    "\n",
    "        df_all = pd.DataFrame({'time':ds_eval.time})\n",
    "\n",
    "        for var in eval_vars:\n",
    "            field = np.ravel (ds_eval[var])\n",
    "            df_all[var]=field\n",
    "        \n",
    "        # -- merge two pandas dataframe on time\n",
    "        df_all=df_all.merge(df_ctsm.set_index('time'), on='time', how='left')\n",
    "\n",
    "        clm_var = 'sim_EFLX_LH_TOT'\n",
    "        # -- Latent Heat Flux:\n",
    "        # -- EFLX_LH_TOT = FCEV + FCTR +FGEV\n",
    "        df_all [clm_var] = df_all['sim_FCEV']+ df_all['sim_FCTR']+ df_all['sim_FGEV']\n",
    "\n",
    "        clm_var = 'sim_Rnet'\n",
    "        # -- Net Radiation:\n",
    "        # -- Rnet = FSA-FIRA\n",
    "        df_all [clm_var] = df_all ['sim_FSA']-df_all['sim_FIRA']\n",
    "\n",
    "        clm_var = 'sim_NEE'\n",
    "        # -- Net Ecosystem Exchange\n",
    "        # -- NEE = GPP- (AR+HR)\n",
    "        # -- It seems like the sign are opposite so we calculated negative NEE\n",
    "        df_all [clm_var] = -(df_all ['sim_GPP']-(df_all['sim_AR']+df_all['sim_HR']))\n",
    "\n",
    "        # convert NEE units from  umolm-2s-1 to gc/m2/s\n",
    "        df_all ['NEE']= df_all ['NEE']*(12.01/1000000)\n",
    "        df_all ['GPP']= df_all ['GPP']*(12.01/1000000)\n",
    "\n",
    "        # -- convert gc/m2/s to gc/m2/day\n",
    "        df_all ['NEE']= df_all['NEE']*60*60*24\n",
    "        df_all ['sim_NEE']= df_all['sim_NEE']*60*60*24\n",
    "\n",
    "        df_all ['GPP']= df_all['GPP']*60*60*24\n",
    "        df_all ['sim_GPP']= df_all['sim_GPP']*60*60*24\n",
    "\n",
    "        #-- extract year, month, day, hour information from time\n",
    "        df_all['year'] = df_all['time'].dt.year\n",
    "        df_all['month'] = df_all['time'].dt.month\n",
    "        df_all['day'] = df_all['time'].dt.day\n",
    "        df_all['hour'] = df_all['time'].dt.hour\n",
    "\n",
    "        tzone_shift = ds_eval.TimeDiffUtcLt\n",
    "\n",
    "        #convert to local time\n",
    "        df_all['local_time']= df_all['time'] + datetime.timedelta(hours=int(tzone_shift))\n",
    "        df_all['local_hour'] = df_all['local_time'].dt.hour\n",
    "\n",
    "\n",
    "        df_all['site']=neon_site\n",
    "\n",
    "        csv_out = join(csv_dir, \"preprocessed_\"+neon_site+\"_\"+year+\".csv\")\n",
    "        df_all.to_csv(csv_out,index=False)\n",
    "        \n",
    "        end_site = time.time()\n",
    "        print (\"Extracting data for \"+neon_site+\" took : \", end_site-start_site, \"s.\")\n",
    "        print (\"Preprocessed file is saved as : \", csv_out)\n",
    "\n",
    "    except Exception as e: \n",
    "        print (e)\n",
    "        print ('THIS SITE FAILED:', neon_site)\n",
    "        failed_sites.append(neon_site)\n",
    "        pass"
   ]
  },
  {
   "cell_type": "code",
   "execution_count": 9,
   "id": "8c0c9553-88fb-435f-8c3f-77a380d41cf3",
   "metadata": {},
   "outputs": [
    {
     "name": "stdout",
     "output_type": "stream",
     "text": [
      "Extracting data for  2 sites failed : \n",
      "NIWO \n",
      "PUUM\n"
     ]
    }
   ],
   "source": [
    "print (\"Extracting data for \", len(failed_sites), \"sites failed : \")\n",
    "print (*failed_sites, sep=\" \\n\")"
   ]
  },
  {
   "cell_type": "code",
   "execution_count": null,
   "id": "5c3e6f4f-2312-47ef-8ffb-b2cd464f8fc4",
   "metadata": {},
   "outputs": [],
   "source": []
  }
 ],
 "metadata": {
  "kernelspec": {
   "display_name": "NPL (conda)",
   "language": "python",
   "name": "npl-conda"
  },
  "language_info": {
   "codemirror_mode": {
    "name": "ipython",
    "version": 3
   },
   "file_extension": ".py",
   "mimetype": "text/x-python",
   "name": "python",
   "nbconvert_exporter": "python",
   "pygments_lexer": "ipython3",
   "version": "3.7.12"
  }
 },
 "nbformat": 4,
 "nbformat_minor": 5
}
