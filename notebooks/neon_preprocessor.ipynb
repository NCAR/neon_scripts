{
 "cells": [
  {
   "cell_type": "markdown",
   "id": "a1542d31-3794-4108-8544-2becd146ba72",
   "metadata": {},
   "source": [
    "# NEON pre-processor notebook\n",
    "\n",
    "##### Author : Negin Sobhani negins@ucar.edu [@negin513](https://github.com/negin513)\n",
    "\n",
    "##### Last revised: 2022-10-11\n",
    "_______\n",
    "\n",
    "This is a notebook for reading neon simulation and evaluation files and save them as csv files. This would be next used for creating statistics and spatial plots. "
   ]
  },
  {
   "cell_type": "code",
   "execution_count": 1,
   "id": "68ce59c2-2769-431d-b565-880c82cf34f1",
   "metadata": {},
   "outputs": [],
   "source": [
    "import os\n",
    "import time\n",
    "import datetime\n",
    "\n",
    "import numpy as np\n",
    "import pandas as pd\n",
    "import xarray as xr\n",
    "\n",
    "from glob import glob\n",
    "from os.path import join\n",
    "\n",
    "import tqdm\n",
    "import cftime"
   ]
  },
  {
   "cell_type": "code",
   "execution_count": 2,
   "id": "2948f6a8-92c3-462c-9f8b-b36773994f7e",
   "metadata": {},
   "outputs": [
    {
     "name": "stdout",
     "output_type": "stream",
     "text": [
      "xarray 0.20.2\n"
     ]
    }
   ],
   "source": [
    "print('xarray '+xr.__version__) ##-- was working with 0.20.0"
   ]
  },
  {
   "cell_type": "markdown",
   "id": "3ad6569a-a9c8-433e-952a-d4fe66182cb0",
   "metadata": {},
   "source": [
    "## Dask Cluster\n",
    "The following will spin up a dask cluster,  only works on NCAR machines. \n",
    "16 workers worked best for NEON."
   ]
  },
  {
   "cell_type": "code",
   "execution_count": 4,
   "id": "1e4d4aba-4712-48c3-ab45-14e3f3890b9c",
   "metadata": {},
   "outputs": [
    {
     "name": "stderr",
     "output_type": "stream",
     "text": [
      "/glade/u/apps/opt/conda/envs/npl/lib/python3.7/site-packages/dask_jobqueue/core.py:20: FutureWarning: tmpfile is deprecated and will be removed in a future release. Please use dask.utils.tmpfile instead.\n",
      "  from distributed.utils import tmpfile\n"
     ]
    },
    {
     "data": {
      "text/html": [
       "<div>\n",
       "    <div style=\"width: 24px; height: 24px; background-color: #e1e1e1; border: 3px solid #9D9D9D; border-radius: 5px; position: absolute;\"> </div>\n",
       "    <div style=\"margin-left: 48px;\">\n",
       "        <h3 style=\"margin-bottom: 0px;\">Client</h3>\n",
       "        <p style=\"color: #9D9D9D; margin-bottom: 0px;\">Client-9c829d6e-4aa7-11ed-b336-20001117fe80</p>\n",
       "        <table style=\"width: 100%; text-align: left;\">\n",
       "\n",
       "        <tr>\n",
       "        \n",
       "            <td style=\"text-align: left;\"><strong>Connection method:</strong> Cluster object</td>\n",
       "            <td style=\"text-align: left;\"><strong>Cluster type:</strong> dask_jobqueue.PBSCluster</td>\n",
       "        \n",
       "        </tr>\n",
       "\n",
       "        \n",
       "            <tr>\n",
       "                <td style=\"text-align: left;\">\n",
       "                    <strong>Dashboard: </strong> <a href=\"https://jupyterhub.hpc.ucar.edu/stable/user/negins/proxy/8787/status\" target=\"_blank\">https://jupyterhub.hpc.ucar.edu/stable/user/negins/proxy/8787/status</a>\n",
       "                </td>\n",
       "                <td style=\"text-align: left;\"></td>\n",
       "            </tr>\n",
       "        \n",
       "\n",
       "        </table>\n",
       "\n",
       "        \n",
       "            <details>\n",
       "            <summary style=\"margin-bottom: 20px;\"><h3 style=\"display: inline;\">Cluster Info</h3></summary>\n",
       "            <div class=\"jp-RenderedHTMLCommon jp-RenderedHTML jp-mod-trusted jp-OutputArea-output\">\n",
       "    <div style=\"width: 24px; height: 24px; background-color: #e1e1e1; border: 3px solid #9D9D9D; border-radius: 5px; position: absolute;\">\n",
       "    </div>\n",
       "    <div style=\"margin-left: 48px;\">\n",
       "        <h3 style=\"margin-bottom: 0px; margin-top: 0px;\">PBSCluster</h3>\n",
       "        <p style=\"color: #9D9D9D; margin-bottom: 0px;\">17e2330e</p>\n",
       "        <table style=\"width: 100%; text-align: left;\">\n",
       "            <tr>\n",
       "                <td style=\"text-align: left;\">\n",
       "                    <strong>Dashboard:</strong> <a href=\"https://jupyterhub.hpc.ucar.edu/stable/user/negins/proxy/8787/status\" target=\"_blank\">https://jupyterhub.hpc.ucar.edu/stable/user/negins/proxy/8787/status</a>\n",
       "                </td>\n",
       "                <td style=\"text-align: left;\">\n",
       "                    <strong>Workers:</strong> 0\n",
       "                </td>\n",
       "            </tr>\n",
       "            <tr>\n",
       "                <td style=\"text-align: left;\">\n",
       "                    <strong>Total threads:</strong> 0\n",
       "                </td>\n",
       "                <td style=\"text-align: left;\">\n",
       "                    <strong>Total memory:</strong> 0 B\n",
       "                </td>\n",
       "            </tr>\n",
       "            \n",
       "        </table>\n",
       "\n",
       "        <details>\n",
       "            <summary style=\"margin-bottom: 20px;\">\n",
       "                <h3 style=\"display: inline;\">Scheduler Info</h3>\n",
       "            </summary>\n",
       "\n",
       "            <div style=\"\">\n",
       "    <div>\n",
       "        <div style=\"width: 24px; height: 24px; background-color: #FFF7E5; border: 3px solid #FF6132; border-radius: 5px; position: absolute;\"> </div>\n",
       "        <div style=\"margin-left: 48px;\">\n",
       "            <h3 style=\"margin-bottom: 0px;\">Scheduler</h3>\n",
       "            <p style=\"color: #9D9D9D; margin-bottom: 0px;\">Scheduler-4b95f7a0-a951-4cc8-b9c5-227486e33b5a</p>\n",
       "            <table style=\"width: 100%; text-align: left;\">\n",
       "                <tr>\n",
       "                    <td style=\"text-align: left;\">\n",
       "                        <strong>Comm:</strong> tcp://10.148.10.17:36333\n",
       "                    </td>\n",
       "                    <td style=\"text-align: left;\">\n",
       "                        <strong>Workers:</strong> 0\n",
       "                    </td>\n",
       "                </tr>\n",
       "                <tr>\n",
       "                    <td style=\"text-align: left;\">\n",
       "                        <strong>Dashboard:</strong> <a href=\"https://jupyterhub.hpc.ucar.edu/stable/user/negins/proxy/8787/status\" target=\"_blank\">https://jupyterhub.hpc.ucar.edu/stable/user/negins/proxy/8787/status</a>\n",
       "                    </td>\n",
       "                    <td style=\"text-align: left;\">\n",
       "                        <strong>Total threads:</strong> 0\n",
       "                    </td>\n",
       "                </tr>\n",
       "                <tr>\n",
       "                    <td style=\"text-align: left;\">\n",
       "                        <strong>Started:</strong> Just now\n",
       "                    </td>\n",
       "                    <td style=\"text-align: left;\">\n",
       "                        <strong>Total memory:</strong> 0 B\n",
       "                    </td>\n",
       "                </tr>\n",
       "            </table>\n",
       "        </div>\n",
       "    </div>\n",
       "\n",
       "    <details style=\"margin-left: 48px;\">\n",
       "        <summary style=\"margin-bottom: 20px;\">\n",
       "            <h3 style=\"display: inline;\">Workers</h3>\n",
       "        </summary>\n",
       "\n",
       "        \n",
       "\n",
       "    </details>\n",
       "</div>\n",
       "\n",
       "        </details>\n",
       "    </div>\n",
       "</div>\n",
       "            </details>\n",
       "        \n",
       "\n",
       "    </div>\n",
       "</div>"
      ],
      "text/plain": [
       "<Client: 'tcp://10.148.10.17:36333' processes=0 threads=0, memory=0 B>"
      ]
     },
     "execution_count": 4,
     "metadata": {},
     "output_type": "execute_result"
    }
   ],
   "source": [
    "from distributed import Client\n",
    "from ncar_jobqueue import NCARCluster\n",
    "\n",
    "cluster = NCARCluster()\n",
    "cluster.scale(16)\n",
    "client = Client(cluster)\n",
    "client"
   ]
  },
  {
   "cell_type": "markdown",
   "id": "fbe596ba-3fd7-46f1-b1ca-e3ab79709354",
   "metadata": {},
   "source": [
    "---------------------------"
   ]
  },
  {
   "cell_type": "code",
   "execution_count": 3,
   "id": "f4b724be-d8f9-47a1-960d-728eb57b28dc",
   "metadata": {},
   "outputs": [],
   "source": [
    "# -- read list of sites:\n",
    "neon_sites_pft = pd.read_csv('/glade/scratch/negins/preprocessed_neon_csv_data/neon_sites_dompft.csv')\n",
    "neon_sites = neon_sites_pft['Site'].to_list()\n",
    "\n",
    "failed_sites = [] # -- list for saving failed sites"
   ]
  },
  {
   "cell_type": "code",
   "execution_count": 5,
   "id": "c913bb51-ab6d-4f78-8a10-2792dd5575aa",
   "metadata": {},
   "outputs": [],
   "source": [
    "# -- read only these variables from the whole netcdf files\n",
    "\n",
    "def preprocess (ds):\n",
    "    '''\n",
    "    reading selected variables from ctsm outputs\n",
    "    '''\n",
    "    variables = ['FCEV', 'FCTR', 'FGEV','FSH','GPP','FSA','FIRA','AR','HR','ELAI']\n",
    "\n",
    "    ds_new= ds[variables]\n",
    "    return ds_new"
   ]
  },
  {
   "cell_type": "code",
   "execution_count": 6,
   "id": "d0e96e82-e2f1-459e-8a09-390f2906c6aa",
   "metadata": {},
   "outputs": [],
   "source": [
    "# -- fix timestamp on CTSM files so they can be matched with eval files\n",
    "\n",
    "def fix_time (ds):\n",
    "    '''\n",
    "    fix time formatting with reading multiple cesm files.\n",
    "    '''\n",
    "    nsteps = len(ds.time)\n",
    "    yr0 = ds['time.year'][0].values\n",
    "    month0 = ds['time.month'][0].values\n",
    "    day0 = ds['time.day'][0].values\n",
    "\n",
    "    date = cftime.datetime(yr0,month0,day0).isoformat() \n",
    "    ds['time'] = xr.cftime_range(date, periods=nsteps, freq='30min')\n",
    "    ds['time']= ds['time'].dt.strftime(\"%Y-%m-%d %H:%M:%S\")\n",
    "    return ds"
   ]
  },
  {
   "cell_type": "code",
   "execution_count": 8,
   "id": "82c6a3d8-d821-4e2a-a304-ec87a329b483",
   "metadata": {},
   "outputs": [],
   "source": [
    "#-- path to save the csv files:\n",
    "csv_dir = \"/glade/scratch/negins/preprocessed_neon_v2/\"\n",
    "\n",
    "#create the directory if it does not exist:\n",
    "if not os.path.isdir(csv_dir):\n",
    "    os.mkdir(csv_dir)"
   ]
  },
  {
   "cell_type": "code",
   "execution_count": 9,
   "id": "543a4bc6-9bac-4485-a9bf-063bf93a80b2",
   "metadata": {},
   "outputs": [
    {
     "name": "stdout",
     "output_type": "stream",
     "text": [
      "---------------------------\n",
      "Extracting data for BART\n",
      "All simulation files for all years: [ 1461 files]\n",
      "Reading all simulation files took: 33.96014213562012 s.\n",
      "All evaluation files for all years: [ 48 files]\n",
      "Reading all observation files took: 2.8427250385284424 s.\n"
     ]
    },
    {
     "name": "stderr",
     "output_type": "stream",
     "text": [
      "100%|██████████| 10/10 [00:21<00:00,  2.13s/it]\n"
     ]
    },
    {
     "name": "stdout",
     "output_type": "stream",
     "text": [
      "Extracting data for BART took :  60.48190379142761 s.\n",
      "Preprocessed file is saved as :  /glade/scratch/negins/preprocessed_neon_v2/preprocessed_BART_2021.csv\n",
      "---------------------------\n",
      "Extracting data for HARV\n",
      "All simulation files for all years: [ 1461 files]\n",
      "Reading all simulation files took: 16.280455112457275 s.\n",
      "All evaluation files for all years: [ 48 files]\n",
      "Reading all observation files took: 2.0363283157348633 s.\n"
     ]
    },
    {
     "name": "stderr",
     "output_type": "stream",
     "text": [
      "100%|██████████| 10/10 [00:22<00:00,  2.25s/it]\n"
     ]
    },
    {
     "name": "stdout",
     "output_type": "stream",
     "text": [
      "Extracting data for HARV took :  43.17462873458862 s.\n",
      "Preprocessed file is saved as :  /glade/scratch/negins/preprocessed_neon_v2/preprocessed_HARV_2021.csv\n",
      "---------------------------\n",
      "Extracting data for BLAN\n",
      "All simulation files for all years: [ 1461 files]\n",
      "Reading all simulation files took: 15.440847396850586 s.\n",
      "All evaluation files for all years: [ 48 files]\n",
      "Reading all observation files took: 2.630347728729248 s.\n"
     ]
    },
    {
     "name": "stderr",
     "output_type": "stream",
     "text": [
      "100%|██████████| 10/10 [00:23<00:00,  2.32s/it]\n"
     ]
    },
    {
     "name": "stdout",
     "output_type": "stream",
     "text": [
      "Extracting data for BLAN took :  43.779942750930786 s.\n",
      "Preprocessed file is saved as :  /glade/scratch/negins/preprocessed_neon_v2/preprocessed_BLAN_2021.csv\n",
      "---------------------------\n",
      "Extracting data for SCBI\n",
      "All simulation files for all years: [ 1461 files]\n",
      "Reading all simulation files took: 15.82269024848938 s.\n",
      "All evaluation files for all years: [ 48 files]\n",
      "Reading all observation files took: 2.0030083656311035 s.\n"
     ]
    },
    {
     "name": "stderr",
     "output_type": "stream",
     "text": [
      "100%|██████████| 10/10 [00:22<00:00,  2.22s/it]\n"
     ]
    },
    {
     "name": "stdout",
     "output_type": "stream",
     "text": [
      "Extracting data for SCBI took :  42.24796795845032 s.\n",
      "Preprocessed file is saved as :  /glade/scratch/negins/preprocessed_neon_v2/preprocessed_SCBI_2021.csv\n",
      "---------------------------\n",
      "Extracting data for SERC\n",
      "All simulation files for all years: [ 1461 files]\n",
      "Reading all simulation files took: 16.477389097213745 s.\n",
      "All evaluation files for all years: [ 48 files]\n",
      "Reading all observation files took: 2.452723741531372 s.\n"
     ]
    },
    {
     "name": "stderr",
     "output_type": "stream",
     "text": [
      "100%|██████████| 10/10 [00:21<00:00,  2.13s/it]\n"
     ]
    },
    {
     "name": "stdout",
     "output_type": "stream",
     "text": [
      "Extracting data for SERC took :  42.402504682540894 s.\n",
      "Preprocessed file is saved as :  /glade/scratch/negins/preprocessed_neon_v2/preprocessed_SERC_2021.csv\n",
      "---------------------------\n",
      "Extracting data for DSNY\n",
      "All simulation files for all years: [ 1461 files]\n",
      "Reading all simulation files took: 16.54084348678589 s.\n",
      "All evaluation files for all years: [ 48 files]\n",
      "Reading all observation files took: 1.946929931640625 s.\n"
     ]
    },
    {
     "name": "stderr",
     "output_type": "stream",
     "text": [
      "100%|██████████| 10/10 [00:21<00:00,  2.18s/it]\n"
     ]
    },
    {
     "name": "stdout",
     "output_type": "stream",
     "text": [
      "Extracting data for DSNY took :  43.20681881904602 s.\n",
      "Preprocessed file is saved as :  /glade/scratch/negins/preprocessed_neon_v2/preprocessed_DSNY_2021.csv\n",
      "---------------------------\n",
      "Extracting data for JERC\n",
      "All simulation files for all years: [ 1461 files]\n",
      "Reading all simulation files took: 17.576340436935425 s.\n",
      "All evaluation files for all years: [ 48 files]\n",
      "Reading all observation files took: 1.7972078323364258 s.\n"
     ]
    },
    {
     "name": "stderr",
     "output_type": "stream",
     "text": [
      "100%|██████████| 10/10 [00:24<00:00,  2.42s/it]\n"
     ]
    },
    {
     "name": "stdout",
     "output_type": "stream",
     "text": [
      "Extracting data for JERC took :  46.243969202041626 s.\n",
      "Preprocessed file is saved as :  /glade/scratch/negins/preprocessed_neon_v2/preprocessed_JERC_2021.csv\n",
      "---------------------------\n",
      "Extracting data for OSBS\n",
      "All simulation files for all years: [ 1461 files]\n",
      "Reading all simulation files took: 16.792308568954468 s.\n",
      "All evaluation files for all years: [ 48 files]\n",
      "Reading all observation files took: 2.17436146736145 s.\n"
     ]
    },
    {
     "name": "stderr",
     "output_type": "stream",
     "text": [
      "100%|██████████| 10/10 [00:23<00:00,  2.33s/it]\n"
     ]
    },
    {
     "name": "stdout",
     "output_type": "stream",
     "text": [
      "Extracting data for OSBS took :  44.94421625137329 s.\n",
      "Preprocessed file is saved as :  /glade/scratch/negins/preprocessed_neon_v2/preprocessed_OSBS_2021.csv\n",
      "---------------------------\n",
      "Extracting data for GUAN\n",
      "All simulation files for all years: [ 1280 files]\n",
      "Reading all simulation files took: 13.558752536773682 s.\n",
      "All evaluation files for all years: [ 42 files]\n",
      "Reading all observation files took: 2.0264744758605957 s.\n"
     ]
    },
    {
     "name": "stderr",
     "output_type": "stream",
     "text": [
      "100%|██████████| 10/10 [00:21<00:00,  2.15s/it]\n"
     ]
    },
    {
     "name": "stdout",
     "output_type": "stream",
     "text": [
      "Extracting data for GUAN took :  39.13697695732117 s.\n",
      "Preprocessed file is saved as :  /glade/scratch/negins/preprocessed_neon_v2/preprocessed_GUAN_2021.csv\n",
      "---------------------------\n",
      "Extracting data for LAJA\n",
      "All simulation files for all years: [ 1096 files]\n",
      "Reading all simulation files took: 12.264060258865356 s.\n",
      "All evaluation files for all years: [ 44 files]\n",
      "Reading all observation files took: 2.341595411300659 s.\n"
     ]
    },
    {
     "name": "stderr",
     "output_type": "stream",
     "text": [
      "100%|██████████| 10/10 [00:18<00:00,  1.83s/it]\n"
     ]
    },
    {
     "name": "stdout",
     "output_type": "stream",
     "text": [
      "Extracting data for LAJA took :  34.99107527732849 s.\n",
      "Preprocessed file is saved as :  /glade/scratch/negins/preprocessed_neon_v2/preprocessed_LAJA_2021.csv\n",
      "---------------------------\n",
      "Extracting data for STEI\n",
      "All simulation files for all years: [ 1461 files]\n",
      "Reading all simulation files took: 17.015586853027344 s.\n",
      "All evaluation files for all years: [ 48 files]\n",
      "Reading all observation files took: 2.288825035095215 s.\n"
     ]
    },
    {
     "name": "stderr",
     "output_type": "stream",
     "text": [
      "100%|██████████| 10/10 [00:24<00:00,  2.44s/it]\n"
     ]
    },
    {
     "name": "stdout",
     "output_type": "stream",
     "text": [
      "Extracting data for STEI took :  46.34265398979187 s.\n",
      "Preprocessed file is saved as :  /glade/scratch/negins/preprocessed_neon_v2/preprocessed_STEI_2021.csv\n",
      "---------------------------\n",
      "Extracting data for TREE\n",
      "All simulation files for all years: [ 1461 files]\n",
      "Reading all simulation files took: 16.401257514953613 s.\n",
      "All evaluation files for all years: [ 48 files]\n",
      "Reading all observation files took: 3.3973920345306396 s.\n"
     ]
    },
    {
     "name": "stderr",
     "output_type": "stream",
     "text": [
      "100%|██████████| 10/10 [00:24<00:00,  2.46s/it]\n"
     ]
    },
    {
     "name": "stdout",
     "output_type": "stream",
     "text": [
      "Extracting data for TREE took :  46.59955453872681 s.\n",
      "Preprocessed file is saved as :  /glade/scratch/negins/preprocessed_neon_v2/preprocessed_TREE_2021.csv\n",
      "---------------------------\n",
      "Extracting data for UNDE\n",
      "All simulation files for all years: [ 1461 files]\n",
      "Reading all simulation files took: 16.63319969177246 s.\n",
      "All evaluation files for all years: [ 48 files]\n",
      "Reading all observation files took: 2.9221174716949463 s.\n"
     ]
    },
    {
     "name": "stderr",
     "output_type": "stream",
     "text": [
      "100%|██████████| 10/10 [00:26<00:00,  2.64s/it]\n"
     ]
    },
    {
     "name": "stdout",
     "output_type": "stream",
     "text": [
      "Extracting data for UNDE took :  48.340721130371094 s.\n",
      "Preprocessed file is saved as :  /glade/scratch/negins/preprocessed_neon_v2/preprocessed_UNDE_2021.csv\n",
      "---------------------------\n",
      "Extracting data for KONA\n",
      "All simulation files for all years: [ 1461 files]\n",
      "Reading all simulation files took: 16.590639352798462 s.\n",
      "All evaluation files for all years: [ 48 files]\n",
      "Reading all observation files took: 2.4095935821533203 s.\n"
     ]
    },
    {
     "name": "stderr",
     "output_type": "stream",
     "text": [
      "100%|██████████| 10/10 [00:25<00:00,  2.59s/it]\n"
     ]
    },
    {
     "name": "stdout",
     "output_type": "stream",
     "text": [
      "Extracting data for KONA took :  47.22151803970337 s.\n",
      "Preprocessed file is saved as :  /glade/scratch/negins/preprocessed_neon_v2/preprocessed_KONA_2021.csv\n",
      "---------------------------\n",
      "Extracting data for KONZ\n",
      "All simulation files for all years: [ 1461 files]\n",
      "Reading all simulation files took: 18.5943386554718 s.\n",
      "All evaluation files for all years: [ 48 files]\n",
      "Reading all observation files took: 2.303758144378662 s.\n"
     ]
    },
    {
     "name": "stderr",
     "output_type": "stream",
     "text": [
      "100%|██████████| 10/10 [00:25<00:00,  2.53s/it]\n"
     ]
    },
    {
     "name": "stdout",
     "output_type": "stream",
     "text": [
      "Extracting data for KONZ took :  48.47006392478943 s.\n",
      "Preprocessed file is saved as :  /glade/scratch/negins/preprocessed_neon_v2/preprocessed_KONZ_2021.csv\n",
      "---------------------------\n",
      "Extracting data for UKFS\n",
      "All simulation files for all years: [ 1461 files]\n",
      "Reading all simulation files took: 18.449255228042603 s.\n",
      "All evaluation files for all years: [ 48 files]\n",
      "Reading all observation files took: 2.078019142150879 s.\n"
     ]
    },
    {
     "name": "stderr",
     "output_type": "stream",
     "text": [
      "100%|██████████| 10/10 [00:24<00:00,  2.42s/it]\n"
     ]
    },
    {
     "name": "stdout",
     "output_type": "stream",
     "text": [
      "Extracting data for UKFS took :  47.707632064819336 s.\n",
      "Preprocessed file is saved as :  /glade/scratch/negins/preprocessed_neon_v2/preprocessed_UKFS_2021.csv\n",
      "---------------------------\n",
      "Extracting data for GRSM\n",
      "All simulation files for all years: [ 1461 files]\n",
      "Reading all simulation files took: 18.210230350494385 s.\n",
      "All evaluation files for all years: [ 48 files]\n",
      "Reading all observation files took: 2.209474802017212 s.\n"
     ]
    },
    {
     "name": "stderr",
     "output_type": "stream",
     "text": [
      "100%|██████████| 10/10 [00:24<00:00,  2.43s/it]\n"
     ]
    },
    {
     "name": "stdout",
     "output_type": "stream",
     "text": [
      "Extracting data for GRSM took :  46.98620009422302 s.\n",
      "Preprocessed file is saved as :  /glade/scratch/negins/preprocessed_neon_v2/preprocessed_GRSM_2021.csv\n",
      "---------------------------\n",
      "Extracting data for MLBS\n",
      "All simulation files for all years: [ 1062 files]\n",
      "zero-size array to reduction operation minimum which has no identity\n",
      "THIS SITE FAILED: MLBS\n",
      "---------------------------\n",
      "Extracting data for ORNL\n",
      "All simulation files for all years: [ 1461 files]\n",
      "Reading all simulation files took: 18.265437841415405 s.\n",
      "All evaluation files for all years: [ 48 files]\n",
      "Reading all observation files took: 2.065586566925049 s.\n"
     ]
    },
    {
     "name": "stderr",
     "output_type": "stream",
     "text": [
      "100%|██████████| 10/10 [00:24<00:00,  2.41s/it]\n"
     ]
    },
    {
     "name": "stdout",
     "output_type": "stream",
     "text": [
      "Extracting data for ORNL took :  46.779911518096924 s.\n",
      "Preprocessed file is saved as :  /glade/scratch/negins/preprocessed_neon_v2/preprocessed_ORNL_2021.csv\n",
      "---------------------------\n",
      "Extracting data for DELA\n",
      "All simulation files for all years: [ 1461 files]\n",
      "Reading all simulation files took: 16.653249979019165 s.\n",
      "All evaluation files for all years: [ 48 files]\n",
      "Reading all observation files took: 2.2370288372039795 s.\n"
     ]
    },
    {
     "name": "stderr",
     "output_type": "stream",
     "text": [
      "100%|██████████| 10/10 [00:24<00:00,  2.48s/it]\n"
     ]
    },
    {
     "name": "stdout",
     "output_type": "stream",
     "text": [
      "Extracting data for DELA took :  46.12755036354065 s.\n",
      "Preprocessed file is saved as :  /glade/scratch/negins/preprocessed_neon_v2/preprocessed_DELA_2021.csv\n",
      "---------------------------\n",
      "Extracting data for LENO\n",
      "All simulation files for all years: [ 1138 files]\n",
      "zero-size array to reduction operation minimum which has no identity\n",
      "THIS SITE FAILED: LENO\n",
      "---------------------------\n",
      "Extracting data for TALL\n",
      "All simulation files for all years: [ 1461 files]\n",
      "Reading all simulation files took: 15.210001945495605 s.\n",
      "All evaluation files for all years: [ 48 files]\n",
      "Reading all observation files took: 2.2445833683013916 s.\n"
     ]
    },
    {
     "name": "stderr",
     "output_type": "stream",
     "text": [
      "100%|██████████| 10/10 [00:26<00:00,  2.63s/it]\n"
     ]
    },
    {
     "name": "stdout",
     "output_type": "stream",
     "text": [
      "Extracting data for TALL took :  46.27801442146301 s.\n",
      "Preprocessed file is saved as :  /glade/scratch/negins/preprocessed_neon_v2/preprocessed_TALL_2021.csv\n",
      "---------------------------\n",
      "Extracting data for DCFS\n",
      "All simulation files for all years: [ 1461 files]\n",
      "Reading all simulation files took: 22.25039839744568 s.\n",
      "All evaluation files for all years: [ 48 files]\n",
      "Reading all observation files took: 2.1064343452453613 s.\n"
     ]
    },
    {
     "name": "stderr",
     "output_type": "stream",
     "text": [
      "100%|██████████| 10/10 [00:25<00:00,  2.56s/it]\n"
     ]
    },
    {
     "name": "stdout",
     "output_type": "stream",
     "text": [
      "Extracting data for DCFS took :  52.73906636238098 s.\n",
      "Preprocessed file is saved as :  /glade/scratch/negins/preprocessed_neon_v2/preprocessed_DCFS_2021.csv\n",
      "---------------------------\n",
      "Extracting data for NOGP\n",
      "All simulation files for all years: [ 1461 files]\n",
      "Reading all simulation files took: 17.006805181503296 s.\n",
      "All evaluation files for all years: [ 48 files]\n",
      "Reading all observation files took: 2.308849811553955 s.\n"
     ]
    },
    {
     "name": "stderr",
     "output_type": "stream",
     "text": [
      "100%|██████████| 10/10 [00:25<00:00,  2.59s/it]\n"
     ]
    },
    {
     "name": "stdout",
     "output_type": "stream",
     "text": [
      "Extracting data for NOGP took :  47.55201244354248 s.\n",
      "Preprocessed file is saved as :  /glade/scratch/negins/preprocessed_neon_v2/preprocessed_NOGP_2021.csv\n",
      "---------------------------\n",
      "Extracting data for WOOD\n",
      "All simulation files for all years: [ 1461 files]\n",
      "Reading all simulation files took: 16.006742000579834 s.\n",
      "All evaluation files for all years: [ 48 files]\n",
      "Reading all observation files took: 2.9621012210845947 s.\n"
     ]
    },
    {
     "name": "stderr",
     "output_type": "stream",
     "text": [
      "100%|██████████| 10/10 [00:24<00:00,  2.50s/it]\n"
     ]
    },
    {
     "name": "stdout",
     "output_type": "stream",
     "text": [
      "Extracting data for WOOD took :  46.23887586593628 s.\n",
      "Preprocessed file is saved as :  /glade/scratch/negins/preprocessed_neon_v2/preprocessed_WOOD_2021.csv\n",
      "---------------------------\n",
      "Extracting data for CPER\n",
      "All simulation files for all years: [ 1461 files]\n",
      "Reading all simulation files took: 16.767083168029785 s.\n",
      "All evaluation files for all years: [ 48 files]\n",
      "Reading all observation files took: 2.117799758911133 s.\n"
     ]
    },
    {
     "name": "stderr",
     "output_type": "stream",
     "text": [
      "100%|██████████| 10/10 [00:22<00:00,  2.29s/it]\n"
     ]
    },
    {
     "name": "stdout",
     "output_type": "stream",
     "text": [
      "Extracting data for CPER took :  43.964372396469116 s.\n",
      "Preprocessed file is saved as :  /glade/scratch/negins/preprocessed_neon_v2/preprocessed_CPER_2021.csv\n",
      "---------------------------\n",
      "Extracting data for RMNP\n",
      "All simulation files for all years: [ 1461 files]\n",
      "Reading all simulation files took: 16.96459937095642 s.\n",
      "All evaluation files for all years: [ 48 files]\n",
      "Reading all observation files took: 2.3033344745635986 s.\n"
     ]
    },
    {
     "name": "stderr",
     "output_type": "stream",
     "text": [
      "100%|██████████| 10/10 [00:25<00:00,  2.55s/it]\n"
     ]
    },
    {
     "name": "stdout",
     "output_type": "stream",
     "text": [
      "Extracting data for RMNP took :  47.15045380592346 s.\n",
      "Preprocessed file is saved as :  /glade/scratch/negins/preprocessed_neon_v2/preprocessed_RMNP_2021.csv\n",
      "---------------------------\n",
      "Extracting data for STER\n",
      "All simulation files for all years: [ 1461 files]\n",
      "Reading all simulation files took: 16.145268201828003 s.\n",
      "All evaluation files for all years: [ 48 files]\n",
      "Reading all observation files took: 2.07674503326416 s.\n"
     ]
    },
    {
     "name": "stderr",
     "output_type": "stream",
     "text": [
      "100%|██████████| 10/10 [00:24<00:00,  2.40s/it]\n"
     ]
    },
    {
     "name": "stdout",
     "output_type": "stream",
     "text": [
      "Extracting data for STER took :  44.68001198768616 s.\n",
      "Preprocessed file is saved as :  /glade/scratch/negins/preprocessed_neon_v2/preprocessed_STER_2021.csv\n",
      "---------------------------\n",
      "Extracting data for CLBJ\n",
      "All simulation files for all years: [ 1461 files]\n",
      "Reading all simulation files took: 17.76063585281372 s.\n",
      "All evaluation files for all years: [ 48 files]\n",
      "Reading all observation files took: 2.191044807434082 s.\n"
     ]
    },
    {
     "name": "stderr",
     "output_type": "stream",
     "text": [
      "100%|██████████| 10/10 [00:23<00:00,  2.39s/it]\n"
     ]
    },
    {
     "name": "stdout",
     "output_type": "stream",
     "text": [
      "Extracting data for CLBJ took :  46.10446238517761 s.\n",
      "Preprocessed file is saved as :  /glade/scratch/negins/preprocessed_neon_v2/preprocessed_CLBJ_2021.csv\n",
      "---------------------------\n",
      "Extracting data for OAES\n",
      "All simulation files for all years: [ 1461 files]\n",
      "Reading all simulation files took: 17.11589741706848 s.\n",
      "All evaluation files for all years: [ 48 files]\n",
      "Reading all observation files took: 2.232553005218506 s.\n"
     ]
    },
    {
     "name": "stderr",
     "output_type": "stream",
     "text": [
      "100%|██████████| 10/10 [00:24<00:00,  2.44s/it]\n"
     ]
    },
    {
     "name": "stdout",
     "output_type": "stream",
     "text": [
      "Extracting data for OAES took :  46.12117838859558 s.\n",
      "Preprocessed file is saved as :  /glade/scratch/negins/preprocessed_neon_v2/preprocessed_OAES_2021.csv\n",
      "---------------------------\n",
      "Extracting data for YELL\n",
      "All simulation files for all years: [ 1096 files]\n",
      "Reading all simulation files took: 12.684020280838013 s.\n",
      "All evaluation files for all years: [ 40 files]\n",
      "Reading all observation files took: 1.7000324726104736 s.\n"
     ]
    },
    {
     "name": "stderr",
     "output_type": "stream",
     "text": [
      "100%|██████████| 10/10 [00:21<00:00,  2.11s/it]\n"
     ]
    },
    {
     "name": "stdout",
     "output_type": "stream",
     "text": [
      "Extracting data for YELL took :  37.67989921569824 s.\n",
      "Preprocessed file is saved as :  /glade/scratch/negins/preprocessed_neon_v2/preprocessed_YELL_2021.csv\n",
      "---------------------------\n",
      "Extracting data for MOAB\n",
      "All simulation files for all years: [ 1145 files]\n",
      "Reading all simulation files took: 14.621697664260864 s.\n",
      "All evaluation files for all years: [ 48 files]\n",
      "Reading all observation files took: 2.2083992958068848 s.\n"
     ]
    },
    {
     "name": "stderr",
     "output_type": "stream",
     "text": [
      "100%|██████████| 10/10 [00:21<00:00,  2.16s/it]\n"
     ]
    },
    {
     "name": "stdout",
     "output_type": "stream",
     "text": [
      "Extracting data for MOAB took :  41.43836259841919 s.\n",
      "Preprocessed file is saved as :  /glade/scratch/negins/preprocessed_neon_v2/preprocessed_MOAB_2021.csv\n",
      "---------------------------\n",
      "Extracting data for NIWO\n",
      "All simulation files for all years: [ 0 files]\n",
      "no files to open\n",
      "THIS SITE FAILED: NIWO\n",
      "---------------------------\n",
      "Extracting data for JORN\n",
      "All simulation files for all years: [ 1461 files]\n",
      "Reading all simulation files took: 19.127132177352905 s.\n",
      "All evaluation files for all years: [ 48 files]\n",
      "Reading all observation files took: 2.2958905696868896 s.\n"
     ]
    },
    {
     "name": "stderr",
     "output_type": "stream",
     "text": [
      "100%|██████████| 10/10 [00:27<00:00,  2.76s/it]\n"
     ]
    },
    {
     "name": "stdout",
     "output_type": "stream",
     "text": [
      "Extracting data for JORN took :  51.7028911113739 s.\n",
      "Preprocessed file is saved as :  /glade/scratch/negins/preprocessed_neon_v2/preprocessed_JORN_2021.csv\n",
      "---------------------------\n",
      "Extracting data for SRER\n",
      "All simulation files for all years: [ 1461 files]\n",
      "Reading all simulation files took: 19.2315993309021 s.\n",
      "All evaluation files for all years: [ 48 files]\n",
      "Reading all observation files took: 2.4803714752197266 s.\n"
     ]
    },
    {
     "name": "stderr",
     "output_type": "stream",
     "text": [
      "100%|██████████| 10/10 [00:27<00:00,  2.80s/it]\n"
     ]
    },
    {
     "name": "stdout",
     "output_type": "stream",
     "text": [
      "Extracting data for SRER took :  52.29616189002991 s.\n",
      "Preprocessed file is saved as :  /glade/scratch/negins/preprocessed_neon_v2/preprocessed_SRER_2021.csv\n",
      "---------------------------\n",
      "Extracting data for ONAQ\n",
      "All simulation files for all years: [ 998 files]\n",
      "zero-size array to reduction operation minimum which has no identity\n",
      "THIS SITE FAILED: ONAQ\n",
      "---------------------------\n",
      "Extracting data for ABBY\n",
      "All simulation files for all years: [ 1461 files]\n",
      "Reading all simulation files took: 19.098424673080444 s.\n",
      "All evaluation files for all years: [ 48 files]\n",
      "Reading all observation files took: 2.633861780166626 s.\n"
     ]
    },
    {
     "name": "stderr",
     "output_type": "stream",
     "text": [
      "100%|██████████| 10/10 [00:29<00:00,  2.99s/it]\n"
     ]
    },
    {
     "name": "stdout",
     "output_type": "stream",
     "text": [
      "Extracting data for ABBY took :  54.43138575553894 s.\n",
      "Preprocessed file is saved as :  /glade/scratch/negins/preprocessed_neon_v2/preprocessed_ABBY_2021.csv\n",
      "---------------------------\n",
      "Extracting data for WREF\n",
      "All simulation files for all years: [ 0 files]\n",
      "no files to open\n",
      "THIS SITE FAILED: WREF\n",
      "---------------------------\n",
      "Extracting data for SJER\n",
      "All simulation files for all years: [ 1096 files]\n",
      "Reading all simulation files took: 14.8402738571167 s.\n",
      "All evaluation files for all years: [ 40 files]\n",
      "Reading all observation files took: 2.2400965690612793 s.\n"
     ]
    },
    {
     "name": "stderr",
     "output_type": "stream",
     "text": [
      "100%|██████████| 10/10 [00:20<00:00,  2.04s/it]\n"
     ]
    },
    {
     "name": "stdout",
     "output_type": "stream",
     "text": [
      "Extracting data for SJER took :  39.70791530609131 s.\n",
      "Preprocessed file is saved as :  /glade/scratch/negins/preprocessed_neon_v2/preprocessed_SJER_2021.csv\n",
      "---------------------------\n",
      "Extracting data for SOAP\n",
      "All simulation files for all years: [ 1461 files]\n",
      "Reading all simulation files took: 18.99488067626953 s.\n",
      "All evaluation files for all years: [ 48 files]\n",
      "Reading all observation files took: 2.2771401405334473 s.\n"
     ]
    },
    {
     "name": "stderr",
     "output_type": "stream",
     "text": [
      "100%|██████████| 10/10 [00:29<00:00,  2.94s/it]\n"
     ]
    },
    {
     "name": "stdout",
     "output_type": "stream",
     "text": [
      "Extracting data for SOAP took :  53.2860791683197 s.\n",
      "Preprocessed file is saved as :  /glade/scratch/negins/preprocessed_neon_v2/preprocessed_SOAP_2021.csv\n",
      "---------------------------\n",
      "Extracting data for TEAK\n",
      "All simulation files for all years: [ 1096 files]\n",
      "Reading all simulation files took: 13.71091890335083 s.\n",
      "All evaluation files for all years: [ 43 files]\n",
      "Reading all observation files took: 2.1526994705200195 s.\n"
     ]
    },
    {
     "name": "stderr",
     "output_type": "stream",
     "text": [
      "100%|██████████| 10/10 [00:22<00:00,  2.26s/it]\n"
     ]
    },
    {
     "name": "stdout",
     "output_type": "stream",
     "text": [
      "Extracting data for TEAK took :  40.795371532440186 s.\n",
      "Preprocessed file is saved as :  /glade/scratch/negins/preprocessed_neon_v2/preprocessed_TEAK_2021.csv\n",
      "---------------------------\n",
      "Extracting data for TOOL\n",
      "All simulation files for all years: [ 730 files]\n",
      "Reading all simulation files took: 8.962486982345581 s.\n",
      "All evaluation files for all years: [ 48 files]\n",
      "Reading all observation files took: 2.9245572090148926 s.\n"
     ]
    },
    {
     "name": "stderr",
     "output_type": "stream",
     "text": [
      "100%|██████████| 10/10 [00:12<00:00,  1.24s/it]\n"
     ]
    },
    {
     "name": "stdout",
     "output_type": "stream",
     "text": [
      "Extracting data for TOOL took :  26.514092683792114 s.\n",
      "Preprocessed file is saved as :  /glade/scratch/negins/preprocessed_neon_v2/preprocessed_TOOL_2021.csv\n",
      "---------------------------\n",
      "Extracting data for BARR\n",
      "All simulation files for all years: [ 1149 files]\n",
      "zero-size array to reduction operation minimum which has no identity\n",
      "THIS SITE FAILED: BARR\n",
      "---------------------------\n",
      "Extracting data for BONA\n",
      "All simulation files for all years: [ 1461 files]\n",
      "Reading all simulation files took: 16.86313509941101 s.\n",
      "All evaluation files for all years: [ 48 files]\n",
      "Reading all observation files took: 2.47513484954834 s.\n"
     ]
    },
    {
     "name": "stderr",
     "output_type": "stream",
     "text": [
      "100%|██████████| 10/10 [00:26<00:00,  2.69s/it]\n"
     ]
    },
    {
     "name": "stdout",
     "output_type": "stream",
     "text": [
      "Extracting data for BONA took :  49.012699127197266 s.\n",
      "Preprocessed file is saved as :  /glade/scratch/negins/preprocessed_neon_v2/preprocessed_BONA_2021.csv\n",
      "---------------------------\n",
      "Extracting data for DEJU\n",
      "All simulation files for all years: [ 1461 files]\n",
      "Reading all simulation files took: 17.11166739463806 s.\n",
      "All evaluation files for all years: [ 48 files]\n",
      "Reading all observation files took: 2.1799583435058594 s.\n"
     ]
    },
    {
     "name": "stderr",
     "output_type": "stream",
     "text": [
      "100%|██████████| 10/10 [00:29<00:00,  2.91s/it]\n"
     ]
    },
    {
     "name": "stdout",
     "output_type": "stream",
     "text": [
      "Extracting data for DEJU took :  50.99919891357422 s.\n",
      "Preprocessed file is saved as :  /glade/scratch/negins/preprocessed_neon_v2/preprocessed_DEJU_2021.csv\n",
      "---------------------------\n",
      "Extracting data for HEAL\n",
      "All simulation files for all years: [ 1461 files]\n",
      "Reading all simulation files took: 18.855231285095215 s.\n",
      "All evaluation files for all years: [ 48 files]\n",
      "Reading all observation files took: 2.3789050579071045 s.\n"
     ]
    },
    {
     "name": "stderr",
     "output_type": "stream",
     "text": [
      "100%|██████████| 10/10 [00:29<00:00,  2.92s/it]\n"
     ]
    },
    {
     "name": "stdout",
     "output_type": "stream",
     "text": [
      "Extracting data for HEAL took :  52.892115354537964 s.\n",
      "Preprocessed file is saved as :  /glade/scratch/negins/preprocessed_neon_v2/preprocessed_HEAL_2021.csv\n",
      "---------------------------\n",
      "Extracting data for PUUM\n",
      "All simulation files for all years: [ 0 files]\n",
      "no files to open\n",
      "THIS SITE FAILED: PUUM\n"
     ]
    }
   ],
   "source": [
    "years = [\"2018\",\"2019\",\"2020\",\"2021\"]\n",
    "\n",
    "for neon_site in neon_sites:\n",
    "    try: \n",
    "\n",
    "        start_site = time.time()\n",
    "\n",
    "        print ('---------------------------')\n",
    "        print (\"Extracting data for \"+neon_site)\n",
    "        sim_files =[]\n",
    "        for year in years:\n",
    "            sim_path = \"/glade/scratch/wwieder/run_NEON_v2/tools/site_and_regional/archive/\"+neon_site+\".transient/lnd/hist/\"\n",
    "            #sim_path = \"/glade/scratch/negins/neon_v2/tools/site_and_regional/archive/\"+neon_site+\".transient/lnd/hist/\"\n",
    "            sim_files.extend(sorted(glob(join(sim_path,neon_site+\".transient.clm2.h1.\"+year+\"*.nc\"))))\n",
    "\n",
    "        print(\"All simulation files for all years: [\", len(sim_files), \"files]\")\n",
    "\n",
    "        start = time.time()\n",
    "\n",
    "        ds_ctsm = xr.open_mfdataset(sim_files, decode_times=True, combine='by_coords',parallel=True,preprocess=preprocess)\n",
    "        ds_ctsm = fix_time (ds_ctsm)\n",
    "\n",
    "        end = time.time()\n",
    "        print(\"Reading all simulation files took:\", end-start, \"s.\")\n",
    "\n",
    "        eval_files = []\n",
    "        for year in years:\n",
    "            eval_dir = \"/glade/work/negins/neon_scripts/notebooks/evaluation_files_2/\"+neon_site\n",
    "            eval_files.extend(sorted(glob(join(eval_dir,neon_site+\"_eval_\"+year+\"*.nc\"))))\n",
    "\n",
    "\n",
    "        print (\"All evaluation files for all years: [\", len(eval_files), \"files]\")\n",
    "\n",
    "        start = time.time()\n",
    "\n",
    "        ds_eval = xr.open_mfdataset(eval_files, decode_times=True, combine='by_coords')\n",
    "\n",
    "        end = time.time()\n",
    "        print(\"Reading all observation files took:\", end-start, \"s.\")\n",
    "        \n",
    "        #Convert CTSM data to a Pandas Dataframe for easier handling:\n",
    "        ctsm_vars = ['FCEV', 'FCTR', 'FGEV','FSH','GPP','FSA','FIRA','AR','HR','ELAI']\n",
    "\n",
    "        df_ctsm = pd.DataFrame({'time':ds_ctsm.time})\n",
    "        df_ctsm['time'] = pd.to_datetime(df_ctsm['time'],format= '%Y-%m-%d %H:%M:%S' )\n",
    "\n",
    "        for var in tqdm.tqdm(ctsm_vars):\n",
    "            sim_var_name = \"sim_\"+var\n",
    "            field = np.ravel ( ds_ctsm[var])     \n",
    "            df_ctsm[sim_var_name]=field\n",
    "            #-- shift simulation data by one\n",
    "            df_ctsm[sim_var_name]=df_ctsm[sim_var_name].shift(-1).values\n",
    "\n",
    "\n",
    "        #Convert NEON data to a Pandas Dataframe for easier handling:\n",
    "        eval_vars = ['NEE','FSH','EFLX_LH_TOT','GPP','Rnet']\n",
    "\n",
    "        df_all = pd.DataFrame({'time':ds_eval.time})\n",
    "\n",
    "        for var in eval_vars:\n",
    "            field = np.ravel (ds_eval[var])\n",
    "            df_all[var]=field\n",
    "        \n",
    "        # -- merge two pandas dataframe on time\n",
    "        df_all=df_all.merge(df_ctsm.set_index('time'), on='time', how='left')\n",
    "\n",
    "        clm_var = 'sim_EFLX_LH_TOT'\n",
    "        # -- Latent Heat Flux:\n",
    "        # -- EFLX_LH_TOT = FCEV + FCTR +FGEV\n",
    "        df_all [clm_var] = df_all['sim_FCEV']+ df_all['sim_FCTR']+ df_all['sim_FGEV']\n",
    "\n",
    "        clm_var = 'sim_Rnet'\n",
    "        # -- Net Radiation:\n",
    "        # -- Rnet = FSA-FIRA\n",
    "        df_all [clm_var] = df_all ['sim_FSA']-df_all['sim_FIRA']\n",
    "\n",
    "        clm_var = 'sim_NEE'\n",
    "        # -- Net Ecosystem Exchange\n",
    "        # -- NEE = GPP- (AR+HR)\n",
    "        # -- It seems like the sign are opposite so we calculated negative NEE\n",
    "        df_all [clm_var] = -(df_all ['sim_GPP']-(df_all['sim_AR']+df_all['sim_HR']))\n",
    "\n",
    "        # convert NEE units from  umolm-2s-1 to gc/m2/s\n",
    "        df_all ['NEE']= df_all ['NEE']*(12.01/1000000)\n",
    "        df_all ['GPP']= df_all ['GPP']*(12.01/1000000)\n",
    "\n",
    "        # -- convert gc/m2/s to gc/m2/day\n",
    "        df_all ['NEE']= df_all['NEE']*60*60*24\n",
    "        df_all ['sim_NEE']= df_all['sim_NEE']*60*60*24\n",
    "\n",
    "        df_all ['GPP']= df_all['GPP']*60*60*24\n",
    "        df_all ['sim_GPP']= df_all['sim_GPP']*60*60*24\n",
    "\n",
    "        #-- extract year, month, day, hour information from time\n",
    "        df_all['year'] = df_all['time'].dt.year\n",
    "        df_all['month'] = df_all['time'].dt.month\n",
    "        df_all['day'] = df_all['time'].dt.day\n",
    "        df_all['hour'] = df_all['time'].dt.hour\n",
    "\n",
    "        tzone_shift = ds_eval.TimeDiffUtcLt\n",
    "\n",
    "        #convert to local time\n",
    "        df_all['local_time']= df_all['time'] + datetime.timedelta(hours=int(tzone_shift))\n",
    "        df_all['local_hour'] = df_all['local_time'].dt.hour\n",
    "\n",
    "\n",
    "        df_all['site']=neon_site\n",
    "\n",
    "        csv_out = join(csv_dir, \"preprocessed_\"+neon_site+\"_\"+year+\".csv\")\n",
    "        df_all.to_csv(csv_out,index=False)\n",
    "        \n",
    "        end_site = time.time()\n",
    "        print (\"Extracting data for \"+neon_site+\" took : \", end_site-start_site, \"s.\")\n",
    "        print (\"Preprocessed file is saved as : \", csv_out)\n",
    "\n",
    "    except Exception as e: \n",
    "        print (e)\n",
    "        print ('THIS SITE FAILED:', neon_site)\n",
    "        failed_sites.append(neon_site)\n",
    "        pass"
   ]
  },
  {
   "cell_type": "code",
   "execution_count": null,
   "id": "8c0c9553-88fb-435f-8c3f-77a380d41cf3",
   "metadata": {},
   "outputs": [],
   "source": []
  }
 ],
 "metadata": {
  "kernelspec": {
   "display_name": "NPL (conda)",
   "language": "python",
   "name": "npl-conda"
  },
  "language_info": {
   "codemirror_mode": {
    "name": "ipython",
    "version": 3
   },
   "file_extension": ".py",
   "mimetype": "text/x-python",
   "name": "python",
   "nbconvert_exporter": "python",
   "pygments_lexer": "ipython3",
   "version": "3.7.12"
  }
 },
 "nbformat": 4,
 "nbformat_minor": 5
}
