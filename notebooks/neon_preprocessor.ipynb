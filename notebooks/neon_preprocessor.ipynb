{
 "cells": [
  {
   "cell_type": "markdown",
   "id": "a1542d31-3794-4108-8544-2becd146ba72",
   "metadata": {},
   "source": [
    "# NEON pre-processor notebook\n",
    "\n",
    "##### Author : Negin Sobhani negins@ucar.edu [@negin513](https://github.com/negin513)\n",
    "\n",
    "##### Last revised: 2022-10-11\n",
    "_______\n",
    "\n",
    "This is a notebook for reading neon simulation and evaluation files and save them as csv files. This would be next used for creating statistics and spatial plots. "
   ]
  },
  {
   "cell_type": "code",
   "execution_count": 1,
   "id": "68ce59c2-2769-431d-b565-880c82cf34f1",
   "metadata": {},
   "outputs": [],
   "source": [
    "import os\n",
    "import time\n",
    "import datetime\n",
    "\n",
    "import numpy as np\n",
    "import pandas as pd\n",
    "import xarray as xr\n",
    "\n",
    "from glob import glob\n",
    "from os.path import join\n",
    "\n",
    "import tqdm\n",
    "import cftime"
   ]
  },
  {
   "cell_type": "code",
   "execution_count": 2,
   "id": "2948f6a8-92c3-462c-9f8b-b36773994f7e",
   "metadata": {},
   "outputs": [
    {
     "name": "stdout",
     "output_type": "stream",
     "text": [
      "xarray 2022.6.0\n"
     ]
    }
   ],
   "source": [
    "print('xarray '+xr.__version__) ##-- was working with 0.20.0"
   ]
  },
  {
   "cell_type": "markdown",
   "id": "3ad6569a-a9c8-433e-952a-d4fe66182cb0",
   "metadata": {},
   "source": [
    "## Dask Cluster\n",
    "The following will spin up a dask cluster,  only works on NCAR machines. \n",
    "16 workers worked best for NEON."
   ]
  },
  {
   "cell_type": "code",
   "execution_count": 3,
   "id": "1e4d4aba-4712-48c3-ab45-14e3f3890b9c",
   "metadata": {},
   "outputs": [
    {
     "data": {
      "text/html": [
       "<div>\n",
       "    <div style=\"width: 24px; height: 24px; background-color: #e1e1e1; border: 3px solid #9D9D9D; border-radius: 5px; position: absolute;\"> </div>\n",
       "    <div style=\"margin-left: 48px;\">\n",
       "        <h3 style=\"margin-bottom: 0px;\">Client</h3>\n",
       "        <p style=\"color: #9D9D9D; margin-bottom: 0px;\">Client-675fc094-9291-11ed-95ba-3cecef1b12de</p>\n",
       "        <table style=\"width: 100%; text-align: left;\">\n",
       "\n",
       "        <tr>\n",
       "        \n",
       "            <td style=\"text-align: left;\"><strong>Connection method:</strong> Cluster object</td>\n",
       "            <td style=\"text-align: left;\"><strong>Cluster type:</strong> dask_jobqueue.PBSCluster</td>\n",
       "        \n",
       "        </tr>\n",
       "\n",
       "        \n",
       "            <tr>\n",
       "                <td style=\"text-align: left;\">\n",
       "                    <strong>Dashboard: </strong> <a href=\"https://jupyterhub.hpc.ucar.edu/stable/user/wwieder/proxy/8787/status\" target=\"_blank\">https://jupyterhub.hpc.ucar.edu/stable/user/wwieder/proxy/8787/status</a>\n",
       "                </td>\n",
       "                <td style=\"text-align: left;\"></td>\n",
       "            </tr>\n",
       "        \n",
       "\n",
       "        </table>\n",
       "\n",
       "        \n",
       "            <details>\n",
       "            <summary style=\"margin-bottom: 20px;\"><h3 style=\"display: inline;\">Cluster Info</h3></summary>\n",
       "            <div class=\"jp-RenderedHTMLCommon jp-RenderedHTML jp-mod-trusted jp-OutputArea-output\">\n",
       "    <div style=\"width: 24px; height: 24px; background-color: #e1e1e1; border: 3px solid #9D9D9D; border-radius: 5px; position: absolute;\">\n",
       "    </div>\n",
       "    <div style=\"margin-left: 48px;\">\n",
       "        <h3 style=\"margin-bottom: 0px; margin-top: 0px;\">PBSCluster</h3>\n",
       "        <p style=\"color: #9D9D9D; margin-bottom: 0px;\">ce2c5754</p>\n",
       "        <table style=\"width: 100%; text-align: left;\">\n",
       "            <tr>\n",
       "                <td style=\"text-align: left;\">\n",
       "                    <strong>Dashboard:</strong> <a href=\"https://jupyterhub.hpc.ucar.edu/stable/user/wwieder/proxy/8787/status\" target=\"_blank\">https://jupyterhub.hpc.ucar.edu/stable/user/wwieder/proxy/8787/status</a>\n",
       "                </td>\n",
       "                <td style=\"text-align: left;\">\n",
       "                    <strong>Workers:</strong> 0\n",
       "                </td>\n",
       "            </tr>\n",
       "            <tr>\n",
       "                <td style=\"text-align: left;\">\n",
       "                    <strong>Total threads:</strong> 0\n",
       "                </td>\n",
       "                <td style=\"text-align: left;\">\n",
       "                    <strong>Total memory:</strong> 0 B\n",
       "                </td>\n",
       "            </tr>\n",
       "            \n",
       "        </table>\n",
       "\n",
       "        <details>\n",
       "            <summary style=\"margin-bottom: 20px;\">\n",
       "                <h3 style=\"display: inline;\">Scheduler Info</h3>\n",
       "            </summary>\n",
       "\n",
       "            <div style=\"\">\n",
       "    <div>\n",
       "        <div style=\"width: 24px; height: 24px; background-color: #FFF7E5; border: 3px solid #FF6132; border-radius: 5px; position: absolute;\"> </div>\n",
       "        <div style=\"margin-left: 48px;\">\n",
       "            <h3 style=\"margin-bottom: 0px;\">Scheduler</h3>\n",
       "            <p style=\"color: #9D9D9D; margin-bottom: 0px;\">Scheduler-ba6a4ba2-47bd-4525-b316-43f0cd7e8bcc</p>\n",
       "            <table style=\"width: 100%; text-align: left;\">\n",
       "                <tr>\n",
       "                    <td style=\"text-align: left;\">\n",
       "                        <strong>Comm:</strong> tcp://10.12.206.48:38435\n",
       "                    </td>\n",
       "                    <td style=\"text-align: left;\">\n",
       "                        <strong>Workers:</strong> 0\n",
       "                    </td>\n",
       "                </tr>\n",
       "                <tr>\n",
       "                    <td style=\"text-align: left;\">\n",
       "                        <strong>Dashboard:</strong> <a href=\"https://jupyterhub.hpc.ucar.edu/stable/user/wwieder/proxy/8787/status\" target=\"_blank\">https://jupyterhub.hpc.ucar.edu/stable/user/wwieder/proxy/8787/status</a>\n",
       "                    </td>\n",
       "                    <td style=\"text-align: left;\">\n",
       "                        <strong>Total threads:</strong> 0\n",
       "                    </td>\n",
       "                </tr>\n",
       "                <tr>\n",
       "                    <td style=\"text-align: left;\">\n",
       "                        <strong>Started:</strong> Just now\n",
       "                    </td>\n",
       "                    <td style=\"text-align: left;\">\n",
       "                        <strong>Total memory:</strong> 0 B\n",
       "                    </td>\n",
       "                </tr>\n",
       "            </table>\n",
       "        </div>\n",
       "    </div>\n",
       "\n",
       "    <details style=\"margin-left: 48px;\">\n",
       "        <summary style=\"margin-bottom: 20px;\">\n",
       "            <h3 style=\"display: inline;\">Workers</h3>\n",
       "        </summary>\n",
       "\n",
       "        \n",
       "\n",
       "    </details>\n",
       "</div>\n",
       "\n",
       "        </details>\n",
       "    </div>\n",
       "</div>\n",
       "            </details>\n",
       "        \n",
       "\n",
       "    </div>\n",
       "</div>"
      ],
      "text/plain": [
       "<Client: 'tcp://10.12.206.48:38435' processes=0 threads=0, memory=0 B>"
      ]
     },
     "execution_count": 3,
     "metadata": {},
     "output_type": "execute_result"
    }
   ],
   "source": [
    "from distributed import Client\n",
    "from ncar_jobqueue import NCARCluster\n",
    "\n",
    "cluster = NCARCluster()\n",
    "cluster.scale(16)\n",
    "client = Client(cluster)\n",
    "client"
   ]
  },
  {
   "cell_type": "markdown",
   "id": "fbe596ba-3fd7-46f1-b1ca-e3ab79709354",
   "metadata": {},
   "source": [
    "---------------------------"
   ]
  },
  {
   "cell_type": "code",
   "execution_count": 4,
   "id": "f4b724be-d8f9-47a1-960d-728eb57b28dc",
   "metadata": {},
   "outputs": [],
   "source": [
    "# -- read list of sites:\n",
    "#neon_sites_pft = pd.read_csv('/glade/scratch/negins/preprocessed_neon_csv_data/neon_sites_dompft.csv')\n",
    "neon_sites_pft = pd.read_csv('/glade/scratch/wwieder/run_NEON_v2/tools/site_and_regional/neon_sites_dompft.csv')\n",
    "neon_sites = neon_sites_pft['Site'].to_list()\n",
    "\n",
    "failed_sites = [] # -- list for saving failed sites"
   ]
  },
  {
   "cell_type": "markdown",
   "id": "a4479624-ad9f-4610-95ae-8731a3c5725b",
   "metadata": {},
   "source": [
    "### Download evaluation data\n",
    "This is slow and only has to be done once!"
   ]
  },
  {
   "cell_type": "raw",
   "id": "9e0041de-2bbe-4a84-8e83-79b524ffd8c4",
   "metadata": {},
   "source": [
    "eval_dir = '/glade/work/wwieder/neon/eval_files/'\n",
    "\n",
    "if not os.path.exists (eval_dir):\n",
    "    print (\"plot directory does not exist... creating it now!\")\n",
    "    os.mkdir(eval_dir)\n",
    "    \n",
    "for neon_site in neon_sites[1:]:\n",
    "    download_eval_files(neon_site,eval_dir)"
   ]
  },
  {
   "cell_type": "code",
   "execution_count": 5,
   "id": "c913bb51-ab6d-4f78-8a10-2792dd5575aa",
   "metadata": {},
   "outputs": [],
   "source": [
    "# -- read only these variables from the whole netcdf files\n",
    "\n",
    "def preprocess (ds):\n",
    "    '''\n",
    "    reading selected variables from ctsm outputs\n",
    "    '''\n",
    "    variables = ['FCEV', 'FCTR', 'FGEV','FSH','GPP','FSA','FIRA','AR','HR','ELAI']\n",
    "\n",
    "    ds_new= ds[variables]\n",
    "    return ds_new"
   ]
  },
  {
   "cell_type": "code",
   "execution_count": 6,
   "id": "d0e96e82-e2f1-459e-8a09-390f2906c6aa",
   "metadata": {},
   "outputs": [],
   "source": [
    "# -- fix timestamp on CTSM files so they can be matched with eval files\n",
    "\n",
    "def fix_time (ds):\n",
    "    '''\n",
    "    fix time formatting with reading multiple cesm files.\n",
    "    '''\n",
    "    nsteps = len(ds.time)\n",
    "    yr0 = ds['time.year'][0].values\n",
    "    month0 = ds['time.month'][0].values\n",
    "    day0 = ds['time.day'][0].values\n",
    "\n",
    "    date = cftime.datetime(yr0,month0,day0).isoformat() \n",
    "    ds['time'] = xr.cftime_range(date, periods=nsteps, freq='30min')\n",
    "    ds['time']= ds['time'].dt.strftime(\"%Y-%m-%d %H:%M:%S\")\n",
    "    return ds"
   ]
  },
  {
   "cell_type": "code",
   "execution_count": 7,
   "id": "82c6a3d8-d821-4e2a-a304-ec87a329b483",
   "metadata": {},
   "outputs": [],
   "source": [
    "#-- path to save the csv files:\n",
    "csv_dir = \"/glade/scratch/wwieder/preprocessed_neon_v2/\"\n",
    "\n",
    "#create the directory if it does not exist:\n",
    "if not os.path.isdir(csv_dir):\n",
    "    os.mkdir(csv_dir)"
   ]
  },
  {
   "cell_type": "code",
   "execution_count": 8,
   "id": "543a4bc6-9bac-4485-a9bf-063bf93a80b2",
   "metadata": {},
   "outputs": [
    {
     "name": "stdout",
     "output_type": "stream",
     "text": [
      "---------------------------\n",
      "Extracting data for BART\n",
      "All simulation files for all years: [ 1461 files]\n",
      "Reading all simulation files took: 12.271068811416626 s.\n",
      "All evaluation files for all years: [ 48 files]\n",
      "Reading all observation files took: 1.9915266036987305 s.\n"
     ]
    },
    {
     "name": "stderr",
     "output_type": "stream",
     "text": [
      "100%|██████████| 10/10 [00:17<00:00,  1.74s/it]\n"
     ]
    },
    {
     "name": "stdout",
     "output_type": "stream",
     "text": [
      "Extracting data for BART took :  34.32682728767395 s.\n",
      "Preprocessed file is saved as :  /glade/scratch/wwieder/preprocessed_neon_v2/preprocessed_BART_2021.csv\n",
      "---------------------------\n",
      "Extracting data for HARV\n",
      "All simulation files for all years: [ 1461 files]\n",
      "Reading all simulation files took: 11.738331317901611 s.\n",
      "All evaluation files for all years: [ 48 files]\n",
      "Reading all observation files took: 1.908599615097046 s.\n"
     ]
    },
    {
     "name": "stderr",
     "output_type": "stream",
     "text": [
      "100%|██████████| 10/10 [00:17<00:00,  1.73s/it]\n"
     ]
    },
    {
     "name": "stdout",
     "output_type": "stream",
     "text": [
      "Extracting data for HARV took :  33.542415380477905 s.\n",
      "Preprocessed file is saved as :  /glade/scratch/wwieder/preprocessed_neon_v2/preprocessed_HARV_2021.csv\n",
      "---------------------------\n",
      "Extracting data for BLAN\n",
      "All simulation files for all years: [ 1461 files]\n",
      "Reading all simulation files took: 12.0705087184906 s.\n",
      "All evaluation files for all years: [ 48 files]\n",
      "Reading all observation files took: 1.914154052734375 s.\n"
     ]
    },
    {
     "name": "stderr",
     "output_type": "stream",
     "text": [
      "100%|██████████| 10/10 [00:17<00:00,  1.75s/it]\n"
     ]
    },
    {
     "name": "stdout",
     "output_type": "stream",
     "text": [
      "Extracting data for BLAN took :  34.01885175704956 s.\n",
      "Preprocessed file is saved as :  /glade/scratch/wwieder/preprocessed_neon_v2/preprocessed_BLAN_2021.csv\n",
      "---------------------------\n",
      "Extracting data for SCBI\n",
      "All simulation files for all years: [ 1461 files]\n",
      "Reading all simulation files took: 11.717462062835693 s.\n",
      "All evaluation files for all years: [ 48 files]\n",
      "Reading all observation files took: 1.9678800106048584 s.\n"
     ]
    },
    {
     "name": "stderr",
     "output_type": "stream",
     "text": [
      "100%|██████████| 10/10 [00:17<00:00,  1.73s/it]\n"
     ]
    },
    {
     "name": "stdout",
     "output_type": "stream",
     "text": [
      "Extracting data for SCBI took :  33.635623931884766 s.\n",
      "Preprocessed file is saved as :  /glade/scratch/wwieder/preprocessed_neon_v2/preprocessed_SCBI_2021.csv\n",
      "---------------------------\n",
      "Extracting data for SERC\n",
      "All simulation files for all years: [ 1461 files]\n",
      "Reading all simulation files took: 12.361786842346191 s.\n",
      "All evaluation files for all years: [ 48 files]\n",
      "Reading all observation files took: 1.9617974758148193 s.\n"
     ]
    },
    {
     "name": "stderr",
     "output_type": "stream",
     "text": [
      "100%|██████████| 10/10 [00:17<00:00,  1.74s/it]\n"
     ]
    },
    {
     "name": "stdout",
     "output_type": "stream",
     "text": [
      "Extracting data for SERC took :  34.70775294303894 s.\n",
      "Preprocessed file is saved as :  /glade/scratch/wwieder/preprocessed_neon_v2/preprocessed_SERC_2021.csv\n",
      "---------------------------\n",
      "Extracting data for DSNY\n",
      "All simulation files for all years: [ 1461 files]\n",
      "Reading all simulation files took: 12.829199075698853 s.\n",
      "All evaluation files for all years: [ 48 files]\n",
      "Reading all observation files took: 1.8302147388458252 s.\n"
     ]
    },
    {
     "name": "stderr",
     "output_type": "stream",
     "text": [
      "100%|██████████| 10/10 [00:17<00:00,  1.74s/it]\n"
     ]
    },
    {
     "name": "stdout",
     "output_type": "stream",
     "text": [
      "Extracting data for DSNY took :  34.69373059272766 s.\n",
      "Preprocessed file is saved as :  /glade/scratch/wwieder/preprocessed_neon_v2/preprocessed_DSNY_2021.csv\n",
      "---------------------------\n",
      "Extracting data for JERC\n",
      "All simulation files for all years: [ 1461 files]\n",
      "Reading all simulation files took: 12.418398141860962 s.\n",
      "All evaluation files for all years: [ 48 files]\n",
      "Reading all observation files took: 1.8177871704101562 s.\n"
     ]
    },
    {
     "name": "stderr",
     "output_type": "stream",
     "text": [
      "100%|██████████| 10/10 [00:17<00:00,  1.77s/it]\n"
     ]
    },
    {
     "name": "stdout",
     "output_type": "stream",
     "text": [
      "Extracting data for JERC took :  34.54322028160095 s.\n",
      "Preprocessed file is saved as :  /glade/scratch/wwieder/preprocessed_neon_v2/preprocessed_JERC_2021.csv\n",
      "---------------------------\n",
      "Extracting data for OSBS\n",
      "All simulation files for all years: [ 1461 files]\n",
      "Reading all simulation files took: 12.086029052734375 s.\n",
      "All evaluation files for all years: [ 48 files]\n",
      "Reading all observation files took: 1.9224960803985596 s.\n"
     ]
    },
    {
     "name": "stderr",
     "output_type": "stream",
     "text": [
      "100%|██████████| 10/10 [00:17<00:00,  1.74s/it]\n"
     ]
    },
    {
     "name": "stdout",
     "output_type": "stream",
     "text": [
      "Extracting data for OSBS took :  33.917704582214355 s.\n",
      "Preprocessed file is saved as :  /glade/scratch/wwieder/preprocessed_neon_v2/preprocessed_OSBS_2021.csv\n",
      "---------------------------\n",
      "Extracting data for GUAN\n",
      "All simulation files for all years: [ 1096 files]\n",
      "Reading all simulation files took: 9.560298204421997 s.\n",
      "All evaluation files for all years: [ 42 files]\n",
      "Reading all observation files took: 1.6826729774475098 s.\n"
     ]
    },
    {
     "name": "stderr",
     "output_type": "stream",
     "text": [
      "100%|██████████| 10/10 [00:12<00:00,  1.24s/it]\n"
     ]
    },
    {
     "name": "stdout",
     "output_type": "stream",
     "text": [
      "Extracting data for GUAN took :  25.17892575263977 s.\n",
      "Preprocessed file is saved as :  /glade/scratch/wwieder/preprocessed_neon_v2/preprocessed_GUAN_2021.csv\n",
      "---------------------------\n",
      "Extracting data for LAJA\n",
      "All simulation files for all years: [ 1096 files]\n",
      "Reading all simulation files took: 8.833544969558716 s.\n",
      "All evaluation files for all years: [ 44 files]\n",
      "Reading all observation files took: 1.8575356006622314 s.\n"
     ]
    },
    {
     "name": "stderr",
     "output_type": "stream",
     "text": [
      "100%|██████████| 10/10 [00:13<00:00,  1.35s/it]\n"
     ]
    },
    {
     "name": "stdout",
     "output_type": "stream",
     "text": [
      "Extracting data for LAJA took :  25.994319677352905 s.\n",
      "Preprocessed file is saved as :  /glade/scratch/wwieder/preprocessed_neon_v2/preprocessed_LAJA_2021.csv\n",
      "---------------------------\n",
      "Extracting data for STEI\n",
      "All simulation files for all years: [ 1461 files]\n",
      "Reading all simulation files took: 12.51893162727356 s.\n",
      "All evaluation files for all years: [ 48 files]\n",
      "Reading all observation files took: 1.9542386531829834 s.\n"
     ]
    },
    {
     "name": "stderr",
     "output_type": "stream",
     "text": [
      "100%|██████████| 10/10 [00:18<00:00,  1.81s/it]\n"
     ]
    },
    {
     "name": "stdout",
     "output_type": "stream",
     "text": [
      "Extracting data for STEI took :  34.550108909606934 s.\n",
      "Preprocessed file is saved as :  /glade/scratch/wwieder/preprocessed_neon_v2/preprocessed_STEI_2021.csv\n",
      "---------------------------\n",
      "Extracting data for TREE\n",
      "All simulation files for all years: [ 1461 files]\n",
      "Reading all simulation files took: 11.98848557472229 s.\n",
      "All evaluation files for all years: [ 48 files]\n",
      "Reading all observation files took: 1.91182279586792 s.\n"
     ]
    },
    {
     "name": "stderr",
     "output_type": "stream",
     "text": [
      "100%|██████████| 10/10 [00:17<00:00,  1.75s/it]\n"
     ]
    },
    {
     "name": "stdout",
     "output_type": "stream",
     "text": [
      "Extracting data for TREE took :  33.411627531051636 s.\n",
      "Preprocessed file is saved as :  /glade/scratch/wwieder/preprocessed_neon_v2/preprocessed_TREE_2021.csv\n",
      "---------------------------\n",
      "Extracting data for UNDE\n",
      "All simulation files for all years: [ 1461 files]\n",
      "Reading all simulation files took: 11.730049848556519 s.\n",
      "All evaluation files for all years: [ 48 files]\n",
      "Reading all observation files took: 1.8950071334838867 s.\n"
     ]
    },
    {
     "name": "stderr",
     "output_type": "stream",
     "text": [
      "100%|██████████| 10/10 [00:17<00:00,  1.76s/it]\n"
     ]
    },
    {
     "name": "stdout",
     "output_type": "stream",
     "text": [
      "Extracting data for UNDE took :  34.043148040771484 s.\n",
      "Preprocessed file is saved as :  /glade/scratch/wwieder/preprocessed_neon_v2/preprocessed_UNDE_2021.csv\n",
      "---------------------------\n",
      "Extracting data for KONA\n",
      "All simulation files for all years: [ 1461 files]\n",
      "Reading all simulation files took: 12.68017029762268 s.\n",
      "All evaluation files for all years: [ 48 files]\n",
      "Reading all observation files took: 1.9784612655639648 s.\n"
     ]
    },
    {
     "name": "stderr",
     "output_type": "stream",
     "text": [
      "100%|██████████| 10/10 [00:18<00:00,  1.82s/it]\n"
     ]
    },
    {
     "name": "stdout",
     "output_type": "stream",
     "text": [
      "Extracting data for KONA took :  35.50469946861267 s.\n",
      "Preprocessed file is saved as :  /glade/scratch/wwieder/preprocessed_neon_v2/preprocessed_KONA_2021.csv\n",
      "---------------------------\n",
      "Extracting data for KONZ\n",
      "All simulation files for all years: [ 1461 files]\n",
      "Reading all simulation files took: 12.086864948272705 s.\n",
      "All evaluation files for all years: [ 48 files]\n",
      "Reading all observation files took: 2.8232903480529785 s.\n"
     ]
    },
    {
     "name": "stderr",
     "output_type": "stream",
     "text": [
      "100%|██████████| 10/10 [00:17<00:00,  1.77s/it]\n"
     ]
    },
    {
     "name": "stdout",
     "output_type": "stream",
     "text": [
      "Extracting data for KONZ took :  44.878600120544434 s.\n",
      "Preprocessed file is saved as :  /glade/scratch/wwieder/preprocessed_neon_v2/preprocessed_KONZ_2021.csv\n",
      "---------------------------\n",
      "Extracting data for UKFS\n",
      "All simulation files for all years: [ 1461 files]\n",
      "Reading all simulation files took: 12.520261764526367 s.\n",
      "All evaluation files for all years: [ 48 files]\n",
      "Reading all observation files took: 1.8745553493499756 s.\n"
     ]
    },
    {
     "name": "stderr",
     "output_type": "stream",
     "text": [
      "100%|██████████| 10/10 [00:17<00:00,  1.77s/it]\n"
     ]
    },
    {
     "name": "stdout",
     "output_type": "stream",
     "text": [
      "Extracting data for UKFS took :  34.688559770584106 s.\n",
      "Preprocessed file is saved as :  /glade/scratch/wwieder/preprocessed_neon_v2/preprocessed_UKFS_2021.csv\n",
      "---------------------------\n",
      "Extracting data for GRSM\n",
      "All simulation files for all years: [ 1461 files]\n",
      "Reading all simulation files took: 12.577858686447144 s.\n",
      "All evaluation files for all years: [ 48 files]\n",
      "Reading all observation files took: 1.9289827346801758 s.\n"
     ]
    },
    {
     "name": "stderr",
     "output_type": "stream",
     "text": [
      "100%|██████████| 10/10 [00:18<00:00,  1.88s/it]\n"
     ]
    },
    {
     "name": "stdout",
     "output_type": "stream",
     "text": [
      "Extracting data for GRSM took :  36.41853404045105 s.\n",
      "Preprocessed file is saved as :  /glade/scratch/wwieder/preprocessed_neon_v2/preprocessed_GRSM_2021.csv\n",
      "---------------------------\n",
      "Extracting data for MLBS\n",
      "All simulation files for all years: [ 731 files]\n",
      "Reading all simulation files took: 6.664342403411865 s.\n",
      "All evaluation files for all years: [ 48 files]\n",
      "Reading all observation files took: 1.8797507286071777 s.\n"
     ]
    },
    {
     "name": "stderr",
     "output_type": "stream",
     "text": [
      "100%|██████████| 10/10 [00:08<00:00,  1.20it/s]\n"
     ]
    },
    {
     "name": "stdout",
     "output_type": "stream",
     "text": [
      "Extracting data for MLBS took :  18.965017557144165 s.\n",
      "Preprocessed file is saved as :  /glade/scratch/wwieder/preprocessed_neon_v2/preprocessed_MLBS_2021.csv\n",
      "---------------------------\n",
      "Extracting data for ORNL\n",
      "All simulation files for all years: [ 1461 files]\n",
      "Reading all simulation files took: 11.537903547286987 s.\n",
      "All evaluation files for all years: [ 48 files]\n",
      "Reading all observation files took: 1.9460008144378662 s.\n"
     ]
    },
    {
     "name": "stderr",
     "output_type": "stream",
     "text": [
      "100%|██████████| 10/10 [00:18<00:00,  1.82s/it]\n"
     ]
    },
    {
     "name": "stdout",
     "output_type": "stream",
     "text": [
      "Extracting data for ORNL took :  33.705185890197754 s.\n",
      "Preprocessed file is saved as :  /glade/scratch/wwieder/preprocessed_neon_v2/preprocessed_ORNL_2021.csv\n",
      "---------------------------\n",
      "Extracting data for DELA\n",
      "All simulation files for all years: [ 1461 files]\n",
      "Reading all simulation files took: 12.181811094284058 s.\n",
      "All evaluation files for all years: [ 48 files]\n",
      "Reading all observation files took: 2.02473783493042 s.\n"
     ]
    },
    {
     "name": "stderr",
     "output_type": "stream",
     "text": [
      "100%|██████████| 10/10 [00:17<00:00,  1.75s/it]\n"
     ]
    },
    {
     "name": "stdout",
     "output_type": "stream",
     "text": [
      "Extracting data for DELA took :  34.42622351646423 s.\n",
      "Preprocessed file is saved as :  /glade/scratch/wwieder/preprocessed_neon_v2/preprocessed_DELA_2021.csv\n",
      "---------------------------\n",
      "Extracting data for LENO\n",
      "All simulation files for all years: [ 365 files]\n",
      "Reading all simulation files took: 3.481950044631958 s.\n",
      "All evaluation files for all years: [ 48 files]\n",
      "Reading all observation files took: 1.9571077823638916 s.\n"
     ]
    },
    {
     "name": "stderr",
     "output_type": "stream",
     "text": [
      "100%|██████████| 10/10 [00:03<00:00,  2.56it/s]\n"
     ]
    },
    {
     "name": "stdout",
     "output_type": "stream",
     "text": [
      "Extracting data for LENO took :  10.937381267547607 s.\n",
      "Preprocessed file is saved as :  /glade/scratch/wwieder/preprocessed_neon_v2/preprocessed_LENO_2021.csv\n",
      "---------------------------\n",
      "Extracting data for TALL\n",
      "All simulation files for all years: [ 1461 files]\n",
      "Reading all simulation files took: 12.098657608032227 s.\n",
      "All evaluation files for all years: [ 48 files]\n",
      "Reading all observation files took: 2.0126073360443115 s.\n"
     ]
    },
    {
     "name": "stderr",
     "output_type": "stream",
     "text": [
      "100%|██████████| 10/10 [00:17<00:00,  1.78s/it]\n"
     ]
    },
    {
     "name": "stdout",
     "output_type": "stream",
     "text": [
      "Extracting data for TALL took :  34.02930235862732 s.\n",
      "Preprocessed file is saved as :  /glade/scratch/wwieder/preprocessed_neon_v2/preprocessed_TALL_2021.csv\n",
      "---------------------------\n",
      "Extracting data for DCFS\n",
      "All simulation files for all years: [ 1461 files]\n",
      "Reading all simulation files took: 12.357945680618286 s.\n",
      "All evaluation files for all years: [ 48 files]\n",
      "Reading all observation files took: 1.9787590503692627 s.\n"
     ]
    },
    {
     "name": "stderr",
     "output_type": "stream",
     "text": [
      "100%|██████████| 10/10 [00:17<00:00,  1.76s/it]\n"
     ]
    },
    {
     "name": "stdout",
     "output_type": "stream",
     "text": [
      "Extracting data for DCFS took :  34.792012214660645 s.\n",
      "Preprocessed file is saved as :  /glade/scratch/wwieder/preprocessed_neon_v2/preprocessed_DCFS_2021.csv\n",
      "---------------------------\n",
      "Extracting data for NOGP\n",
      "All simulation files for all years: [ 1461 files]\n",
      "Reading all simulation files took: 12.434639692306519 s.\n",
      "All evaluation files for all years: [ 48 files]\n",
      "Reading all observation files took: 1.8177199363708496 s.\n"
     ]
    },
    {
     "name": "stderr",
     "output_type": "stream",
     "text": [
      "100%|██████████| 10/10 [00:17<00:00,  1.73s/it]\n"
     ]
    },
    {
     "name": "stdout",
     "output_type": "stream",
     "text": [
      "Extracting data for NOGP took :  34.11992812156677 s.\n",
      "Preprocessed file is saved as :  /glade/scratch/wwieder/preprocessed_neon_v2/preprocessed_NOGP_2021.csv\n",
      "---------------------------\n",
      "Extracting data for WOOD\n",
      "All simulation files for all years: [ 1461 files]\n",
      "Reading all simulation files took: 12.382636785507202 s.\n",
      "All evaluation files for all years: [ 48 files]\n",
      "Reading all observation files took: 1.8052759170532227 s.\n"
     ]
    },
    {
     "name": "stderr",
     "output_type": "stream",
     "text": [
      "100%|██████████| 10/10 [00:17<00:00,  1.77s/it]\n"
     ]
    },
    {
     "name": "stdout",
     "output_type": "stream",
     "text": [
      "Extracting data for WOOD took :  34.53506088256836 s.\n",
      "Preprocessed file is saved as :  /glade/scratch/wwieder/preprocessed_neon_v2/preprocessed_WOOD_2021.csv\n",
      "---------------------------\n",
      "Extracting data for CPER\n",
      "All simulation files for all years: [ 1461 files]\n",
      "Reading all simulation files took: 12.663273334503174 s.\n",
      "All evaluation files for all years: [ 48 files]\n",
      "Reading all observation files took: 1.998075008392334 s.\n"
     ]
    },
    {
     "name": "stderr",
     "output_type": "stream",
     "text": [
      "100%|██████████| 10/10 [00:17<00:00,  1.75s/it]\n"
     ]
    },
    {
     "name": "stdout",
     "output_type": "stream",
     "text": [
      "Extracting data for CPER took :  35.028385400772095 s.\n",
      "Preprocessed file is saved as :  /glade/scratch/wwieder/preprocessed_neon_v2/preprocessed_CPER_2021.csv\n",
      "---------------------------\n",
      "Extracting data for RMNP\n",
      "All simulation files for all years: [ 1461 files]\n",
      "Reading all simulation files took: 11.882842063903809 s.\n",
      "All evaluation files for all years: [ 48 files]\n",
      "Reading all observation files took: 1.591090440750122 s.\n"
     ]
    },
    {
     "name": "stderr",
     "output_type": "stream",
     "text": [
      "100%|██████████| 10/10 [00:17<00:00,  1.77s/it]\n"
     ]
    },
    {
     "name": "stdout",
     "output_type": "stream",
     "text": [
      "Extracting data for RMNP took :  34.086185693740845 s.\n",
      "Preprocessed file is saved as :  /glade/scratch/wwieder/preprocessed_neon_v2/preprocessed_RMNP_2021.csv\n",
      "---------------------------\n",
      "Extracting data for STER\n",
      "All simulation files for all years: [ 1461 files]\n",
      "Reading all simulation files took: 11.867741346359253 s.\n",
      "All evaluation files for all years: [ 48 files]\n",
      "Reading all observation files took: 2.5221450328826904 s.\n"
     ]
    },
    {
     "name": "stderr",
     "output_type": "stream",
     "text": [
      "100%|██████████| 10/10 [00:17<00:00,  1.75s/it]\n"
     ]
    },
    {
     "name": "stdout",
     "output_type": "stream",
     "text": [
      "Extracting data for STER took :  34.76781368255615 s.\n",
      "Preprocessed file is saved as :  /glade/scratch/wwieder/preprocessed_neon_v2/preprocessed_STER_2021.csv\n",
      "---------------------------\n",
      "Extracting data for CLBJ\n",
      "All simulation files for all years: [ 1461 files]\n",
      "Reading all simulation files took: 12.035340070724487 s.\n",
      "All evaluation files for all years: [ 48 files]\n",
      "Reading all observation files took: 1.853241205215454 s.\n"
     ]
    },
    {
     "name": "stderr",
     "output_type": "stream",
     "text": [
      "100%|██████████| 10/10 [00:18<00:00,  1.83s/it]\n"
     ]
    },
    {
     "name": "stdout",
     "output_type": "stream",
     "text": [
      "Extracting data for CLBJ took :  35.3072726726532 s.\n",
      "Preprocessed file is saved as :  /glade/scratch/wwieder/preprocessed_neon_v2/preprocessed_CLBJ_2021.csv\n",
      "---------------------------\n",
      "Extracting data for OAES\n",
      "All simulation files for all years: [ 1461 files]\n",
      "Reading all simulation files took: 12.43298888206482 s.\n",
      "All evaluation files for all years: [ 48 files]\n",
      "Reading all observation files took: 1.9274773597717285 s.\n"
     ]
    },
    {
     "name": "stderr",
     "output_type": "stream",
     "text": [
      "100%|██████████| 10/10 [00:18<00:00,  1.81s/it]\n"
     ]
    },
    {
     "name": "stdout",
     "output_type": "stream",
     "text": [
      "Extracting data for OAES took :  34.47064280509949 s.\n",
      "Preprocessed file is saved as :  /glade/scratch/wwieder/preprocessed_neon_v2/preprocessed_OAES_2021.csv\n",
      "---------------------------\n",
      "Extracting data for YELL\n",
      "All simulation files for all years: [ 1096 files]\n",
      "Reading all simulation files took: 9.29020071029663 s.\n",
      "All evaluation files for all years: [ 41 files]\n",
      "Reading all observation files took: 4.756805181503296 s.\n"
     ]
    },
    {
     "name": "stderr",
     "output_type": "stream",
     "text": [
      "100%|██████████| 10/10 [00:13<00:00,  1.31s/it]\n"
     ]
    },
    {
     "name": "stdout",
     "output_type": "stream",
     "text": [
      "Extracting data for YELL took :  28.5360050201416 s.\n",
      "Preprocessed file is saved as :  /glade/scratch/wwieder/preprocessed_neon_v2/preprocessed_YELL_2021.csv\n",
      "---------------------------\n",
      "Extracting data for MOAB\n",
      "All simulation files for all years: [ 1097 files]\n",
      "Reading all simulation files took: 9.039367437362671 s.\n",
      "All evaluation files for all years: [ 48 files]\n",
      "Reading all observation files took: 1.874570369720459 s.\n"
     ]
    },
    {
     "name": "stderr",
     "output_type": "stream",
     "text": [
      "100%|██████████| 10/10 [00:13<00:00,  1.30s/it]\n"
     ]
    },
    {
     "name": "stdout",
     "output_type": "stream",
     "text": [
      "Extracting data for MOAB took :  26.35866355895996 s.\n",
      "Preprocessed file is saved as :  /glade/scratch/wwieder/preprocessed_neon_v2/preprocessed_MOAB_2021.csv\n",
      "---------------------------\n",
      "Extracting data for NIWO\n",
      "All simulation files for all years: [ 0 files]\n",
      "no files to open\n",
      "THIS SITE FAILED: NIWO\n",
      "---------------------------\n",
      "Extracting data for JORN\n",
      "All simulation files for all years: [ 1461 files]\n",
      "Reading all simulation files took: 12.330483675003052 s.\n",
      "All evaluation files for all years: [ 48 files]\n",
      "Reading all observation files took: 1.9059467315673828 s.\n"
     ]
    },
    {
     "name": "stderr",
     "output_type": "stream",
     "text": [
      "100%|██████████| 10/10 [00:17<00:00,  1.80s/it]\n"
     ]
    },
    {
     "name": "stdout",
     "output_type": "stream",
     "text": [
      "Extracting data for JORN took :  35.17302870750427 s.\n",
      "Preprocessed file is saved as :  /glade/scratch/wwieder/preprocessed_neon_v2/preprocessed_JORN_2021.csv\n",
      "---------------------------\n",
      "Extracting data for SRER\n",
      "All simulation files for all years: [ 1461 files]\n",
      "Reading all simulation files took: 12.131939172744751 s.\n",
      "All evaluation files for all years: [ 48 files]\n",
      "Reading all observation files took: 2.01931095123291 s.\n"
     ]
    },
    {
     "name": "stderr",
     "output_type": "stream",
     "text": [
      "100%|██████████| 10/10 [00:18<00:00,  1.83s/it]\n"
     ]
    },
    {
     "name": "stdout",
     "output_type": "stream",
     "text": [
      "Extracting data for SRER took :  35.01306653022766 s.\n",
      "Preprocessed file is saved as :  /glade/scratch/wwieder/preprocessed_neon_v2/preprocessed_SRER_2021.csv\n",
      "---------------------------\n",
      "Extracting data for ONAQ\n",
      "All simulation files for all years: [ 731 files]\n",
      "Reading all simulation files took: 5.958216190338135 s.\n",
      "All evaluation files for all years: [ 48 files]\n",
      "Reading all observation files took: 1.9830796718597412 s.\n"
     ]
    },
    {
     "name": "stderr",
     "output_type": "stream",
     "text": [
      "100%|██████████| 10/10 [00:08<00:00,  1.16it/s]\n"
     ]
    },
    {
     "name": "stdout",
     "output_type": "stream",
     "text": [
      "Extracting data for ONAQ took :  19.040998935699463 s.\n",
      "Preprocessed file is saved as :  /glade/scratch/wwieder/preprocessed_neon_v2/preprocessed_ONAQ_2021.csv\n",
      "---------------------------\n",
      "Extracting data for ABBY\n",
      "All simulation files for all years: [ 1461 files]\n",
      "Reading all simulation files took: 12.09778094291687 s.\n",
      "All evaluation files for all years: [ 48 files]\n",
      "Reading all observation files took: 1.9443895816802979 s.\n"
     ]
    },
    {
     "name": "stderr",
     "output_type": "stream",
     "text": [
      "100%|██████████| 10/10 [00:17<00:00,  1.74s/it]\n"
     ]
    },
    {
     "name": "stdout",
     "output_type": "stream",
     "text": [
      "Extracting data for ABBY took :  33.558797121047974 s.\n",
      "Preprocessed file is saved as :  /glade/scratch/wwieder/preprocessed_neon_v2/preprocessed_ABBY_2021.csv\n",
      "---------------------------\n",
      "Extracting data for WREF\n",
      "All simulation files for all years: [ 1096 files]\n",
      "Reading all simulation files took: 9.254914283752441 s.\n",
      "All evaluation files for all years: [ 48 files]\n",
      "Reading all observation files took: 5.602381706237793 s.\n"
     ]
    },
    {
     "name": "stderr",
     "output_type": "stream",
     "text": [
      "100%|██████████| 10/10 [00:13<00:00,  1.36s/it]\n"
     ]
    },
    {
     "name": "stdout",
     "output_type": "stream",
     "text": [
      "Extracting data for WREF took :  30.056960344314575 s.\n",
      "Preprocessed file is saved as :  /glade/scratch/wwieder/preprocessed_neon_v2/preprocessed_WREF_2021.csv\n",
      "---------------------------\n",
      "Extracting data for SJER\n",
      "All simulation files for all years: [ 1096 files]\n",
      "Reading all simulation files took: 9.000269651412964 s.\n",
      "All evaluation files for all years: [ 40 files]\n",
      "Reading all observation files took: 1.7324824333190918 s.\n"
     ]
    },
    {
     "name": "stderr",
     "output_type": "stream",
     "text": [
      "100%|██████████| 10/10 [00:13<00:00,  1.34s/it]\n"
     ]
    },
    {
     "name": "stdout",
     "output_type": "stream",
     "text": [
      "Extracting data for SJER took :  26.611772060394287 s.\n",
      "Preprocessed file is saved as :  /glade/scratch/wwieder/preprocessed_neon_v2/preprocessed_SJER_2021.csv\n",
      "---------------------------\n",
      "Extracting data for SOAP\n",
      "All simulation files for all years: [ 1461 files]\n",
      "Reading all simulation files took: 13.279943943023682 s.\n",
      "All evaluation files for all years: [ 48 files]\n",
      "Reading all observation files took: 2.017298698425293 s.\n"
     ]
    },
    {
     "name": "stderr",
     "output_type": "stream",
     "text": [
      "100%|██████████| 10/10 [00:17<00:00,  1.78s/it]\n"
     ]
    },
    {
     "name": "stdout",
     "output_type": "stream",
     "text": [
      "Extracting data for SOAP took :  35.389559507369995 s.\n",
      "Preprocessed file is saved as :  /glade/scratch/wwieder/preprocessed_neon_v2/preprocessed_SOAP_2021.csv\n",
      "---------------------------\n",
      "Extracting data for TEAK\n",
      "All simulation files for all years: [ 1096 files]\n",
      "Reading all simulation files took: 8.868721723556519 s.\n",
      "All evaluation files for all years: [ 43 files]\n",
      "Reading all observation files took: 1.7381725311279297 s.\n"
     ]
    },
    {
     "name": "stderr",
     "output_type": "stream",
     "text": [
      "100%|██████████| 10/10 [00:13<00:00,  1.33s/it]\n"
     ]
    },
    {
     "name": "stdout",
     "output_type": "stream",
     "text": [
      "Extracting data for TEAK took :  26.355886459350586 s.\n",
      "Preprocessed file is saved as :  /glade/scratch/wwieder/preprocessed_neon_v2/preprocessed_TEAK_2021.csv\n",
      "---------------------------\n",
      "Extracting data for TOOL\n",
      "All simulation files for all years: [ 731 files]\n",
      "Reading all simulation files took: 6.32340931892395 s.\n",
      "All evaluation files for all years: [ 48 files]\n",
      "Reading all observation files took: 1.9560365676879883 s.\n"
     ]
    },
    {
     "name": "stderr",
     "output_type": "stream",
     "text": [
      "100%|██████████| 10/10 [00:08<00:00,  1.18it/s]\n"
     ]
    },
    {
     "name": "stdout",
     "output_type": "stream",
     "text": [
      "Extracting data for TOOL took :  19.076175689697266 s.\n",
      "Preprocessed file is saved as :  /glade/scratch/wwieder/preprocessed_neon_v2/preprocessed_TOOL_2021.csv\n",
      "---------------------------\n",
      "Extracting data for BARR\n",
      "All simulation files for all years: [ 1096 files]\n",
      "Reading all simulation files took: 8.734345197677612 s.\n",
      "All evaluation files for all years: [ 48 files]\n",
      "Reading all observation files took: 2.112734794616699 s.\n"
     ]
    },
    {
     "name": "stderr",
     "output_type": "stream",
     "text": [
      "100%|██████████| 10/10 [00:13<00:00,  1.35s/it]\n"
     ]
    },
    {
     "name": "stdout",
     "output_type": "stream",
     "text": [
      "Extracting data for BARR took :  26.185906887054443 s.\n",
      "Preprocessed file is saved as :  /glade/scratch/wwieder/preprocessed_neon_v2/preprocessed_BARR_2021.csv\n",
      "---------------------------\n",
      "Extracting data for BONA\n",
      "All simulation files for all years: [ 1461 files]\n",
      "Reading all simulation files took: 12.370397090911865 s.\n",
      "All evaluation files for all years: [ 48 files]\n",
      "Reading all observation files took: 1.9564785957336426 s.\n"
     ]
    },
    {
     "name": "stderr",
     "output_type": "stream",
     "text": [
      "100%|██████████| 10/10 [00:21<00:00,  2.11s/it]\n"
     ]
    },
    {
     "name": "stdout",
     "output_type": "stream",
     "text": [
      "Extracting data for BONA took :  38.35755205154419 s.\n",
      "Preprocessed file is saved as :  /glade/scratch/wwieder/preprocessed_neon_v2/preprocessed_BONA_2021.csv\n",
      "---------------------------\n",
      "Extracting data for DEJU\n",
      "All simulation files for all years: [ 1461 files]\n",
      "Reading all simulation files took: 12.232227087020874 s.\n",
      "All evaluation files for all years: [ 48 files]\n",
      "Reading all observation files took: 1.9295852184295654 s.\n"
     ]
    },
    {
     "name": "stderr",
     "output_type": "stream",
     "text": [
      "100%|██████████| 10/10 [00:17<00:00,  1.79s/it]\n"
     ]
    },
    {
     "name": "stdout",
     "output_type": "stream",
     "text": [
      "Extracting data for DEJU took :  34.143197536468506 s.\n",
      "Preprocessed file is saved as :  /glade/scratch/wwieder/preprocessed_neon_v2/preprocessed_DEJU_2021.csv\n",
      "---------------------------\n",
      "Extracting data for HEAL\n",
      "All simulation files for all years: [ 1461 files]\n",
      "Reading all simulation files took: 12.678137302398682 s.\n",
      "All evaluation files for all years: [ 48 files]\n",
      "Reading all observation files took: 2.099167823791504 s.\n"
     ]
    },
    {
     "name": "stderr",
     "output_type": "stream",
     "text": [
      "100%|██████████| 10/10 [00:18<00:00,  1.88s/it]\n"
     ]
    },
    {
     "name": "stdout",
     "output_type": "stream",
     "text": [
      "Extracting data for HEAL took :  35.600504636764526 s.\n",
      "Preprocessed file is saved as :  /glade/scratch/wwieder/preprocessed_neon_v2/preprocessed_HEAL_2021.csv\n",
      "---------------------------\n",
      "Extracting data for PUUM\n",
      "All simulation files for all years: [ 0 files]\n",
      "no files to open\n",
      "THIS SITE FAILED: PUUM\n"
     ]
    }
   ],
   "source": [
    "years = [\"2018\",\"2019\",\"2020\",\"2021\"]\n",
    "\n",
    "for neon_site in neon_sites:\n",
    "    try: \n",
    "\n",
    "        start_site = time.time()\n",
    "\n",
    "        print ('---------------------------')\n",
    "        print (\"Extracting data for \"+neon_site)\n",
    "        sim_files =[]\n",
    "        for year in years:\n",
    "            sim_path = \"/glade/scratch/wwieder/NEON_testV2/archive/\"+neon_site+\".transient/lnd/hist/\"\n",
    "            #sim_path = \"/glade/scratch/negins/neon_v2/tools/site_and_regional/archive/\"+neon_site+\".transient/lnd/hist/\"\n",
    "            sim_files.extend(sorted(glob(join(sim_path,neon_site+\".transient.clm2.h1.\"+year+\"*.nc\"))))\n",
    "\n",
    "        print(\"All simulation files for all years: [\", len(sim_files), \"files]\")\n",
    "\n",
    "        start = time.time()\n",
    "\n",
    "        ds_ctsm = xr.open_mfdataset(sim_files, decode_times=True, combine='by_coords',parallel=True,preprocess=preprocess)\n",
    "        ds_ctsm = fix_time (ds_ctsm)\n",
    "\n",
    "        end = time.time()\n",
    "        print(\"Reading all simulation files took:\", end-start, \"s.\")\n",
    "\n",
    "        eval_files = []\n",
    "        for year in years:\n",
    "            #eval_dir = \"/glade/work/negins/neon_scripts/notebooks/evaluation_files_2/\"+neon_site\n",
    "            eval_dir = \"/glade/work/wwieder/neon/eval_files/\"+neon_site\n",
    "            eval_files.extend(sorted(glob(join(eval_dir,neon_site+\"_eval_\"+year+\"*.nc\"))))\n",
    "\n",
    "\n",
    "        print (\"All evaluation files for all years: [\", len(eval_files), \"files]\")\n",
    "\n",
    "        start = time.time()\n",
    "\n",
    "        ds_eval = xr.open_mfdataset(eval_files, decode_times=True, combine='by_coords')\n",
    "\n",
    "        end = time.time()\n",
    "        print(\"Reading all observation files took:\", end-start, \"s.\")\n",
    "        \n",
    "        #Convert CTSM data to a Pandas Dataframe for easier handling:\n",
    "        ctsm_vars = ['FCEV', 'FCTR', 'FGEV','FSH','GPP','FSA','FIRA','AR','HR','ELAI']\n",
    "\n",
    "        df_ctsm = pd.DataFrame({'time':ds_ctsm.time})\n",
    "        df_ctsm['time'] = pd.to_datetime(df_ctsm['time'],format= '%Y-%m-%d %H:%M:%S' )\n",
    "\n",
    "        for var in tqdm.tqdm(ctsm_vars):\n",
    "            sim_var_name = \"sim_\"+var\n",
    "            field = np.ravel ( ds_ctsm[var])     \n",
    "            df_ctsm[sim_var_name]=field\n",
    "            #-- shift simulation data by one\n",
    "            df_ctsm[sim_var_name]=df_ctsm[sim_var_name].shift(-1).values\n",
    "\n",
    "\n",
    "        #Convert NEON data to a Pandas Dataframe for easier handling:\n",
    "        eval_vars = ['NEE','FSH','EFLX_LH_TOT','GPP','Rnet']\n",
    "\n",
    "        df_all = pd.DataFrame({'time':ds_eval.time})\n",
    "\n",
    "        for var in eval_vars:\n",
    "            field = np.ravel (ds_eval[var])\n",
    "            df_all[var]=field\n",
    "        \n",
    "        # -- merge two pandas dataframe on time\n",
    "        df_all=df_all.merge(df_ctsm.set_index('time'), on='time', how='left')\n",
    "\n",
    "        clm_var = 'sim_EFLX_LH_TOT'\n",
    "        # -- Latent Heat Flux:\n",
    "        # -- EFLX_LH_TOT = FCEV + FCTR +FGEV\n",
    "        df_all [clm_var] = df_all['sim_FCEV']+ df_all['sim_FCTR']+ df_all['sim_FGEV']\n",
    "\n",
    "        clm_var = 'sim_Rnet'\n",
    "        # -- Net Radiation:\n",
    "        # -- Rnet = FSA-FIRA\n",
    "        df_all [clm_var] = df_all ['sim_FSA']-df_all['sim_FIRA']\n",
    "\n",
    "        clm_var = 'sim_NEE'\n",
    "        # -- Net Ecosystem Exchange\n",
    "        # -- NEE = GPP- (AR+HR)\n",
    "        # -- It seems like the sign are opposite so we calculated negative NEE\n",
    "        df_all [clm_var] = -(df_all ['sim_GPP']-(df_all['sim_AR']+df_all['sim_HR']))\n",
    "\n",
    "        # convert NEE units from  umolm-2s-1 to gc/m2/s\n",
    "        df_all ['NEE']= df_all ['NEE']*(12.01/1000000)\n",
    "        df_all ['GPP']= df_all ['GPP']*(12.01/1000000)\n",
    "\n",
    "        # -- convert gc/m2/s to gc/m2/day\n",
    "        df_all ['NEE']= df_all['NEE']*60*60*24\n",
    "        df_all ['sim_NEE']= df_all['sim_NEE']*60*60*24\n",
    "\n",
    "        df_all ['GPP']= df_all['GPP']*60*60*24\n",
    "        df_all ['sim_GPP']= df_all['sim_GPP']*60*60*24\n",
    "\n",
    "        #-- extract year, month, day, hour information from time\n",
    "        df_all['year'] = df_all['time'].dt.year\n",
    "        df_all['month'] = df_all['time'].dt.month\n",
    "        df_all['day'] = df_all['time'].dt.day\n",
    "        df_all['hour'] = df_all['time'].dt.hour\n",
    "\n",
    "        tzone_shift = ds_eval.TimeDiffUtcLt\n",
    "\n",
    "        #convert to local time\n",
    "        df_all['local_time']= df_all['time'] + datetime.timedelta(hours=int(tzone_shift))\n",
    "        df_all['local_hour'] = df_all['local_time'].dt.hour\n",
    "\n",
    "\n",
    "        df_all['site']=neon_site\n",
    "\n",
    "        csv_out = join(csv_dir, \"preprocessed_\"+neon_site+\"_\"+year+\".csv\")\n",
    "        df_all.to_csv(csv_out,index=False)\n",
    "        \n",
    "        end_site = time.time()\n",
    "        print (\"Extracting data for \"+neon_site+\" took : \", end_site-start_site, \"s.\")\n",
    "        print (\"Preprocessed file is saved as : \", csv_out)\n",
    "\n",
    "    except Exception as e: \n",
    "        print (e)\n",
    "        print ('THIS SITE FAILED:', neon_site)\n",
    "        failed_sites.append(neon_site)\n",
    "        pass"
   ]
  },
  {
   "cell_type": "code",
   "execution_count": 9,
   "id": "8c0c9553-88fb-435f-8c3f-77a380d41cf3",
   "metadata": {},
   "outputs": [
    {
     "name": "stdout",
     "output_type": "stream",
     "text": [
      "Extracting data for  2 sites failed : \n",
      "NIWO \n",
      "PUUM\n"
     ]
    }
   ],
   "source": [
    "print (\"Extracting data for \", len(failed_sites), \"sites failed : \")\n",
    "print (*failed_sites, sep=\" \\n\")"
   ]
  },
  {
   "cell_type": "code",
   "execution_count": null,
   "id": "5c3e6f4f-2312-47ef-8ffb-b2cd464f8fc4",
   "metadata": {},
   "outputs": [],
   "source": []
  }
 ],
 "metadata": {
  "kernelspec": {
   "display_name": "NPL (conda)",
   "language": "python",
   "name": "npl-conda"
  },
  "language_info": {
   "codemirror_mode": {
    "name": "ipython",
    "version": 3
   },
   "file_extension": ".py",
   "mimetype": "text/x-python",
   "name": "python",
   "nbconvert_exporter": "python",
   "pygments_lexer": "ipython3",
   "version": "3.8.13"
  }
 },
 "nbformat": 4,
 "nbformat_minor": 5
}
