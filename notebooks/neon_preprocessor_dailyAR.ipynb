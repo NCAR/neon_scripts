{
 "cells": [
  {
   "cell_type": "markdown",
   "id": "a1542d31-3794-4108-8544-2becd146ba72",
   "metadata": {},
   "source": [
    "# Daily mean pre-processor notebook\n",
    "\n",
    "##### Authors : Will Wieder wwieder@ucar.edu [@wwieder](https://github.com/wwieder), modified from work by Negin Sobhani negins@ucar.edu [@negin513](https://github.com/negin513), \n",
    "\n",
    "##### Last revised: 2023-01-22\n",
    "_______\n",
    "\n",
    "This is a notebook for reading NEON simulation and evaluation files and save them as csv files. "
   ]
  },
  {
   "cell_type": "code",
   "execution_count": 5,
   "id": "68ce59c2-2769-431d-b565-880c82cf34f1",
   "metadata": {},
   "outputs": [],
   "source": [
    "import os\n",
    "import time\n",
    "import datetime\n",
    "\n",
    "import numpy as np\n",
    "import pandas as pd\n",
    "import matplotlib\n",
    "import matplotlib.pyplot as plt\n",
    "\n",
    "import xarray as xr\n",
    "\n",
    "from glob import glob\n",
    "from os.path import join\n",
    "\n",
    "import tqdm\n",
    "import cftime"
   ]
  },
  {
   "cell_type": "code",
   "execution_count": 6,
   "id": "2948f6a8-92c3-462c-9f8b-b36773994f7e",
   "metadata": {},
   "outputs": [
    {
     "name": "stdout",
     "output_type": "stream",
     "text": [
      "xarray 2022.6.0\n"
     ]
    }
   ],
   "source": [
    "print('xarray '+xr.__version__) ##-- was working with 0.20.0"
   ]
  },
  {
   "cell_type": "markdown",
   "id": "3ad6569a-a9c8-433e-952a-d4fe66182cb0",
   "metadata": {},
   "source": [
    "## Dask Cluster\n",
    "The following will spin up a dask cluster,  only works on NCAR machines. \n",
    "16 workers worked best for NEON."
   ]
  },
  {
   "cell_type": "code",
   "execution_count": 7,
   "id": "1e4d4aba-4712-48c3-ab45-14e3f3890b9c",
   "metadata": {},
   "outputs": [
    {
     "name": "stderr",
     "output_type": "stream",
     "text": [
      "/glade/u/apps/opt/conda/envs/npl-2022b/lib/python3.8/site-packages/distributed/node.py:179: UserWarning: Port 8787 is already in use.\n",
      "Perhaps you already have a cluster running?\n",
      "Hosting the HTTP server on port 38127 instead\n",
      "  warnings.warn(\n"
     ]
    },
    {
     "data": {
      "text/html": [
       "<div>\n",
       "    <div style=\"width: 24px; height: 24px; background-color: #e1e1e1; border: 3px solid #9D9D9D; border-radius: 5px; position: absolute;\"> </div>\n",
       "    <div style=\"margin-left: 48px;\">\n",
       "        <h3 style=\"margin-bottom: 0px;\">Client</h3>\n",
       "        <p style=\"color: #9D9D9D; margin-bottom: 0px;\">Client-b8724842-9a60-11ed-8df5-3cecef1acb68</p>\n",
       "        <table style=\"width: 100%; text-align: left;\">\n",
       "\n",
       "        <tr>\n",
       "        \n",
       "            <td style=\"text-align: left;\"><strong>Connection method:</strong> Cluster object</td>\n",
       "            <td style=\"text-align: left;\"><strong>Cluster type:</strong> dask_jobqueue.PBSCluster</td>\n",
       "        \n",
       "        </tr>\n",
       "\n",
       "        \n",
       "            <tr>\n",
       "                <td style=\"text-align: left;\">\n",
       "                    <strong>Dashboard: </strong> <a href=\"https://jupyterhub.hpc.ucar.edu/stable/user/wwieder/proxy/38127/status\" target=\"_blank\">https://jupyterhub.hpc.ucar.edu/stable/user/wwieder/proxy/38127/status</a>\n",
       "                </td>\n",
       "                <td style=\"text-align: left;\"></td>\n",
       "            </tr>\n",
       "        \n",
       "\n",
       "        </table>\n",
       "\n",
       "        \n",
       "            <details>\n",
       "            <summary style=\"margin-bottom: 20px;\"><h3 style=\"display: inline;\">Cluster Info</h3></summary>\n",
       "            <div class=\"jp-RenderedHTMLCommon jp-RenderedHTML jp-mod-trusted jp-OutputArea-output\">\n",
       "    <div style=\"width: 24px; height: 24px; background-color: #e1e1e1; border: 3px solid #9D9D9D; border-radius: 5px; position: absolute;\">\n",
       "    </div>\n",
       "    <div style=\"margin-left: 48px;\">\n",
       "        <h3 style=\"margin-bottom: 0px; margin-top: 0px;\">PBSCluster</h3>\n",
       "        <p style=\"color: #9D9D9D; margin-bottom: 0px;\">55ffb4c5</p>\n",
       "        <table style=\"width: 100%; text-align: left;\">\n",
       "            <tr>\n",
       "                <td style=\"text-align: left;\">\n",
       "                    <strong>Dashboard:</strong> <a href=\"https://jupyterhub.hpc.ucar.edu/stable/user/wwieder/proxy/38127/status\" target=\"_blank\">https://jupyterhub.hpc.ucar.edu/stable/user/wwieder/proxy/38127/status</a>\n",
       "                </td>\n",
       "                <td style=\"text-align: left;\">\n",
       "                    <strong>Workers:</strong> 0\n",
       "                </td>\n",
       "            </tr>\n",
       "            <tr>\n",
       "                <td style=\"text-align: left;\">\n",
       "                    <strong>Total threads:</strong> 0\n",
       "                </td>\n",
       "                <td style=\"text-align: left;\">\n",
       "                    <strong>Total memory:</strong> 0 B\n",
       "                </td>\n",
       "            </tr>\n",
       "            \n",
       "        </table>\n",
       "\n",
       "        <details>\n",
       "            <summary style=\"margin-bottom: 20px;\">\n",
       "                <h3 style=\"display: inline;\">Scheduler Info</h3>\n",
       "            </summary>\n",
       "\n",
       "            <div style=\"\">\n",
       "    <div>\n",
       "        <div style=\"width: 24px; height: 24px; background-color: #FFF7E5; border: 3px solid #FF6132; border-radius: 5px; position: absolute;\"> </div>\n",
       "        <div style=\"margin-left: 48px;\">\n",
       "            <h3 style=\"margin-bottom: 0px;\">Scheduler</h3>\n",
       "            <p style=\"color: #9D9D9D; margin-bottom: 0px;\">Scheduler-859b461d-3c64-4d01-882f-cf8ea28a55ac</p>\n",
       "            <table style=\"width: 100%; text-align: left;\">\n",
       "                <tr>\n",
       "                    <td style=\"text-align: left;\">\n",
       "                        <strong>Comm:</strong> tcp://10.12.206.46:39602\n",
       "                    </td>\n",
       "                    <td style=\"text-align: left;\">\n",
       "                        <strong>Workers:</strong> 0\n",
       "                    </td>\n",
       "                </tr>\n",
       "                <tr>\n",
       "                    <td style=\"text-align: left;\">\n",
       "                        <strong>Dashboard:</strong> <a href=\"https://jupyterhub.hpc.ucar.edu/stable/user/wwieder/proxy/38127/status\" target=\"_blank\">https://jupyterhub.hpc.ucar.edu/stable/user/wwieder/proxy/38127/status</a>\n",
       "                    </td>\n",
       "                    <td style=\"text-align: left;\">\n",
       "                        <strong>Total threads:</strong> 0\n",
       "                    </td>\n",
       "                </tr>\n",
       "                <tr>\n",
       "                    <td style=\"text-align: left;\">\n",
       "                        <strong>Started:</strong> Just now\n",
       "                    </td>\n",
       "                    <td style=\"text-align: left;\">\n",
       "                        <strong>Total memory:</strong> 0 B\n",
       "                    </td>\n",
       "                </tr>\n",
       "            </table>\n",
       "        </div>\n",
       "    </div>\n",
       "\n",
       "    <details style=\"margin-left: 48px;\">\n",
       "        <summary style=\"margin-bottom: 20px;\">\n",
       "            <h3 style=\"display: inline;\">Workers</h3>\n",
       "        </summary>\n",
       "\n",
       "        \n",
       "\n",
       "    </details>\n",
       "</div>\n",
       "\n",
       "        </details>\n",
       "    </div>\n",
       "</div>\n",
       "            </details>\n",
       "        \n",
       "\n",
       "    </div>\n",
       "</div>"
      ],
      "text/plain": [
       "<Client: 'tcp://10.12.206.46:39602' processes=0 threads=0, memory=0 B>"
      ]
     },
     "execution_count": 7,
     "metadata": {},
     "output_type": "execute_result"
    }
   ],
   "source": [
    "from distributed import Client\n",
    "from ncar_jobqueue import NCARCluster\n",
    "\n",
    "cluster = NCARCluster()\n",
    "cluster.scale(16)\n",
    "client = Client(cluster)\n",
    "client"
   ]
  },
  {
   "cell_type": "markdown",
   "id": "fbe596ba-3fd7-46f1-b1ca-e3ab79709354",
   "metadata": {},
   "source": [
    "---------------------------"
   ]
  },
  {
   "cell_type": "code",
   "execution_count": 4,
   "id": "f4b724be-d8f9-47a1-960d-728eb57b28dc",
   "metadata": {},
   "outputs": [],
   "source": [
    "# -- read list of sites:\n",
    "#neon_sites_pft = pd.read_csv('/glade/scratch/negins/preprocessed_neon_csv_data/neon_sites_dompft.csv')\n",
    "neon_sites_pft = pd.read_csv('/glade/scratch/wwieder/run_NEON_v2/tools/site_and_regional/neon_sites_dompft.csv')\n",
    "neon_sites = neon_sites_pft['Site'].to_list()\n",
    "\n",
    "# Short list for testing:\n",
    "neon_sites = ['KONZ']\n",
    "\n",
    "failed_sites = [] # -- list for saving failed sites"
   ]
  },
  {
   "cell_type": "markdown",
   "id": "a4479624-ad9f-4610-95ae-8731a3c5725b",
   "metadata": {},
   "source": [
    "### Download evaluation data\n",
    "This is slow and only has to be done once!"
   ]
  },
  {
   "cell_type": "raw",
   "id": "9e0041de-2bbe-4a84-8e83-79b524ffd8c4",
   "metadata": {},
   "source": [
    "eval_dir = '/glade/work/wwieder/neon/eval_files/'\n",
    "\n",
    "if not os.path.exists (eval_dir):\n",
    "    print (\"plot directory does not exist... creating it now!\")\n",
    "    os.mkdir(eval_dir)\n",
    "    \n",
    "for neon_site in neon_sites[1:]:\n",
    "    download_eval_files(neon_site,eval_dir)"
   ]
  },
  {
   "cell_type": "code",
   "execution_count": 5,
   "id": "c913bb51-ab6d-4f78-8a10-2792dd5575aa",
   "metadata": {},
   "outputs": [],
   "source": [
    "# -- read only these variables from the whole netcdf files\n",
    "\n",
    "def preprocess (ds):\n",
    "    '''\n",
    "    reading ALL variables from ctsm outputs\n",
    "    '''\n",
    "    variables = ['AR','ELAI','FCEV','FCTR','FGEV','FIRA','FSA',\n",
    "                 'FSDSNDLN','FSDSNI','FSDSVDLN','FSDSVI','FSH',\n",
    "                 'FSRNDLN','FSRNI','FSRVDLN','FSRVI','GPP','H2OSOI',\n",
    "                 'HR','RAIN','SNOW','SNOW_DEPTH','SOILPSI','TBOT','TSOI']\n",
    "\n",
    "    ds_new= ds[variables]\n",
    "    # select 3rd soil layer (for now)\n",
    "    ds_new['TSOI'] = ds_new['TSOI'].isel(levgrnd=2)\n",
    "    ds_new['SOILPSI'] = ds_new['SOILPSI'].isel(levgrnd=2)\n",
    "    ds_new['H2OSOI'] = ds_new['H2OSOI'].isel(levsoi=2)\n",
    "    return ds_new"
   ]
  },
  {
   "cell_type": "code",
   "execution_count": 6,
   "id": "a3e000b0-6d19-4598-bbe6-ac427d94fdc8",
   "metadata": {},
   "outputs": [
    {
     "ename": "NameError",
     "evalue": "name 'ds_ctsm' is not defined",
     "output_type": "error",
     "traceback": [
      "\u001b[0;31m---------------------------------------------------------------------------\u001b[0m",
      "\u001b[0;31mNameError\u001b[0m                                 Traceback (most recent call last)",
      "Input \u001b[0;32mIn [6]\u001b[0m, in \u001b[0;36m<cell line: 1>\u001b[0;34m()\u001b[0m\n\u001b[0;32m----> 1\u001b[0m \u001b[43mds_ctsm\u001b[49m\n",
      "\u001b[0;31mNameError\u001b[0m: name 'ds_ctsm' is not defined"
     ]
    }
   ],
   "source": [
    "ds_ctsm"
   ]
  },
  {
   "cell_type": "code",
   "execution_count": 7,
   "id": "d0e96e82-e2f1-459e-8a09-390f2906c6aa",
   "metadata": {},
   "outputs": [],
   "source": [
    "# -- fix timestamp on CTSM files so they can be matched with eval files\n",
    "\n",
    "def fix_time (ds):\n",
    "    '''\n",
    "    fix time formatting with reading multiple cesm files.\n",
    "    '''\n",
    "    nsteps = len(ds.time)\n",
    "    yr0 = ds['time.year'][0].values\n",
    "    month0 = ds['time.month'][0].values\n",
    "    day0 = ds['time.day'][0].values\n",
    "\n",
    "    date = cftime.datetime(yr0,month0,day0).isoformat() \n",
    "    ds['time'] = xr.cftime_range(date, periods=nsteps, freq='30min')\n",
    "    ds['time']= ds['time'].dt.strftime(\"%Y-%m-%d %H:%M:%S\")\n",
    "    return ds"
   ]
  },
  {
   "cell_type": "code",
   "execution_count": 8,
   "id": "82c6a3d8-d821-4e2a-a304-ec87a329b483",
   "metadata": {},
   "outputs": [],
   "source": [
    "#-- path to save the csv files:\n",
    "csv_dir = \"/glade/scratch/wwieder/preprocessed_neon_v2_dailyAR/\"\n",
    "\n",
    "#create the directory if it does not exist:\n",
    "if not os.path.isdir(csv_dir):\n",
    "    os.mkdir(csv_dir)"
   ]
  },
  {
   "cell_type": "code",
   "execution_count": 9,
   "id": "543a4bc6-9bac-4485-a9bf-063bf93a80b2",
   "metadata": {},
   "outputs": [
    {
     "name": "stdout",
     "output_type": "stream",
     "text": [
      "---------------------------\n",
      "Extracting data for KONZ\n",
      "All simulation files for all years: [ 1461 files]\n",
      "Reading all simulation files took: 105.97584986686707 s.\n",
      "All evaluation files for all years: [ 48 files]\n",
      "Reading all observation files took: 4.1518449783325195 s.\n"
     ]
    },
    {
     "name": "stderr",
     "output_type": "stream",
     "text": [
      "100%|██████████| 25/25 [00:00<00:00, 1533.61it/s]"
     ]
    },
    {
     "name": "stdout",
     "output_type": "stream",
     "text": [
      "Extracting data for KONZ took :  110.38595151901245 s.\n",
      "Preprocessed file is saved as :  /glade/scratch/wwieder/preprocessed_neon_v2_dailyAR/mean_daily_KONZ.csv\n"
     ]
    },
    {
     "name": "stderr",
     "output_type": "stream",
     "text": [
      "\n"
     ]
    }
   ],
   "source": [
    "years = [\"2018\",\"2019\",\"2020\",\"2021\"]\n",
    "\n",
    "for neon_site in neon_sites:\n",
    "    try: \n",
    "\n",
    "        start_site = time.time()\n",
    "\n",
    "        print ('---------------------------')\n",
    "        print (\"Extracting data for \"+neon_site)\n",
    "        sim_files =[]\n",
    "        for year in years:\n",
    "            sim_path = \"/glade/scratch/wwieder/run_NEON_v2/tools/site_and_regional/archive/\"+neon_site+\".transient/lnd/hist/\"\n",
    "            sim_files.extend(sorted(glob(join(sim_path,neon_site+\".transient.clm2.h1.\"+year+\"*.nc\"))))\n",
    "\n",
    "        print(\"All simulation files for all years: [\", len(sim_files), \"files]\")\n",
    "\n",
    "        start = time.time()\n",
    "\n",
    "        ds_ctsm = xr.open_mfdataset(sim_files, decode_times=True, \n",
    "                                    combine='by_coords',parallel=True,\n",
    "                                    preprocess=preprocess).load()\n",
    "        ds_ctsm = fix_time (ds_ctsm)\n",
    "\n",
    "        end = time.time()\n",
    "        print(\"Reading all simulation files took:\", end-start, \"s.\")\n",
    "\n",
    "        eval_files = []\n",
    "        for year in years:\n",
    "            eval_dir = \"/glade/work/wwieder/neon/eval_files/\"+neon_site\n",
    "            eval_files.extend(sorted(glob(join(eval_dir,neon_site+\"_eval_\"+year+\"*.nc\"))))\n",
    "\n",
    "\n",
    "        print (\"All evaluation files for all years: [\", len(eval_files), \"files]\")\n",
    "\n",
    "        start = time.time()\n",
    "\n",
    "        ds_eval = xr.open_mfdataset(eval_files, decode_times=True, combine='by_coords').load()\n",
    "\n",
    "        end = time.time()\n",
    "        print(\"Reading all observation files took:\", end-start, \"s.\")\n",
    "        \n",
    "        #Convert CTSM data to a Pandas Dataframe for easier handling:\n",
    "        #ctsm_vars = ['FCEV', 'FCTR', 'FGEV','FSH','GPP','FSA','FIRA','AR','HR','ELAI','RAIN','SNOW']\n",
    "        ctsm_vars = list(ds_ctsm.var())\n",
    "\n",
    "        df_ctsm = pd.DataFrame({'time':ds_ctsm.time})\n",
    "        df_ctsm['time'] = pd.to_datetime(df_ctsm['time'],format= '%Y-%m-%d %H:%M:%S' )\n",
    "\n",
    "        for var in tqdm.tqdm(ctsm_vars):\n",
    "            sim_var_name = \"sim_\"+var\n",
    "            field = np.ravel ( ds_ctsm[var])     \n",
    "            df_ctsm[sim_var_name]=field\n",
    "            #-- shift simulation data by one time step\n",
    "            df_ctsm[sim_var_name]=df_ctsm[sim_var_name].shift(-1).values\n",
    "\n",
    "\n",
    "        #Convert NEON data to a Pandas Dataframe for easier handling:\n",
    "        eval_vars = ['NEE','FSH','EFLX_LH_TOT','GPP','Rnet']\n",
    "\n",
    "        df_all = pd.DataFrame({'time':ds_eval.time})\n",
    "\n",
    "        for var in eval_vars:\n",
    "            field = np.ravel (ds_eval[var])\n",
    "            df_all[var]=field\n",
    "        \n",
    "        # -- merge two pandas dataframe on time\n",
    "        df_all=df_all.merge(df_ctsm.set_index('time'), on='time', how='left')\n",
    "\n",
    "        clm_var = 'sim_EFLX_LH_TOT'\n",
    "        # -- Latent Heat Flux:\n",
    "        # -- EFLX_LH_TOT = FCEV + FCTR +FGEV\n",
    "        df_all [clm_var] = df_all['sim_FCEV']+ df_all['sim_FCTR']+ df_all['sim_FGEV']\n",
    "\n",
    "        clm_var = 'sim_Rnet'\n",
    "        # -- Net Radiation:\n",
    "        # -- Rnet = FSA-FIRA\n",
    "        df_all [clm_var] = df_all ['sim_FSA']-df_all['sim_FIRA']\n",
    "\n",
    "        clm_var = 'sim_NEE'\n",
    "        # -- Net Ecosystem Exchange\n",
    "        # -- NEE = GPP- (AR+HR)\n",
    "        # -- It seems like the sign are opposite so we calculated negative NEE\n",
    "        df_all [clm_var] = -(df_all ['sim_GPP']-(df_all['sim_AR']+df_all['sim_HR']))\n",
    "\n",
    "        # convert NEE units from  umolm-2s-1 to gc/m2/s\n",
    "        df_all ['NEE']= df_all ['NEE']*(12.01/1000000)\n",
    "        df_all ['GPP']= df_all ['GPP']*(12.01/1000000)\n",
    "\n",
    "        # -- convert gc/m2/s to gc/m2/day\n",
    "        df_all ['NEE']= df_all['NEE']*60*60*24\n",
    "        df_all ['sim_NEE']= df_all['sim_NEE']*60*60*24\n",
    "\n",
    "        df_all ['GPP']= df_all['GPP']*60*60*24\n",
    "        df_all ['sim_GPP']= df_all['sim_GPP']*60*60*24\n",
    "\n",
    "        #-- extract year, month, day, hour information from time\n",
    "        df_all['year'] = df_all['time'].dt.year\n",
    "        df_all['month'] = df_all['time'].dt.month\n",
    "        df_all['day'] = df_all['time'].dt.day\n",
    "        df_all['hour'] = df_all['time'].dt.hour\n",
    "\n",
    "        tzone_shift = ds_eval.TimeDiffUtcLt\n",
    "\n",
    "        #convert to local time\n",
    "        df_all['local_time']= df_all['time'] + datetime.timedelta(hours=int(tzone_shift))\n",
    "        df_all['local_hour'] = df_all['local_time'].dt.hour\n",
    "        df_all['site']=neon_site\n",
    "\n",
    "        # Write out 30 minute data\n",
    "        #csv_out = join(csv_dir, \"preprocessed_\"+neon_site+\".csv\")\n",
    "        #df_all.to_csv(csv_out,index=False)\n",
    "\n",
    "        #calculate daily means\n",
    "        df_all['local_date'] = df_all['local_time'].astype('M8[D]')\n",
    "        df_day = df_all.groupby(df_all['local_date']).mean()\n",
    "        #mask out days with missing values\n",
    "        df_count = df_all.groupby(df_all['local_date']).count()\n",
    "        df_day = df_day.where(df_count==48)\n",
    "        \n",
    "        # Write out daily minute data\n",
    "        csv_out = join(csv_dir, \"mean_daily_\"+neon_site+\".csv\")\n",
    "        df_day.to_csv(csv_out,index=True)\n",
    "\n",
    "        \n",
    "        end_site = time.time()\n",
    "        print (\"Extracting data for \"+neon_site+\" took : \", end_site-start_site, \"s.\")\n",
    "        print (\"Preprocessed file is saved as : \", csv_out)\n",
    "\n",
    "    except Exception as e: \n",
    "        print (e)\n",
    "        print ('THIS SITE FAILED:', neon_site)\n",
    "        failed_sites.append(neon_site)\n",
    "        pass"
   ]
  },
  {
   "cell_type": "code",
   "execution_count": 10,
   "id": "8c0c9553-88fb-435f-8c3f-77a380d41cf3",
   "metadata": {},
   "outputs": [
    {
     "name": "stdout",
     "output_type": "stream",
     "text": [
      "Extracting data for  0 sites failed : \n",
      "\n"
     ]
    }
   ],
   "source": [
    "print (\"Extracting data for \", len(failed_sites), \"sites failed : \")\n",
    "print (*failed_sites, sep=\" \\n\")"
   ]
  },
  {
   "cell_type": "code",
   "execution_count": 11,
   "id": "181e38b2-10cd-4731-82d7-39a3b3b93165",
   "metadata": {},
   "outputs": [
    {
     "data": {
      "text/plain": [
       "['AR',\n",
       " 'ELAI',\n",
       " 'FCEV',\n",
       " 'FCTR',\n",
       " 'FGEV',\n",
       " 'FIRA',\n",
       " 'FSA',\n",
       " 'FSDSNDLN',\n",
       " 'FSDSNI',\n",
       " 'FSDSVDLN',\n",
       " 'FSDSVI',\n",
       " 'FSH',\n",
       " 'FSRNDLN',\n",
       " 'FSRNI',\n",
       " 'FSRVDLN',\n",
       " 'FSRVI',\n",
       " 'GPP',\n",
       " 'H2OSOI',\n",
       " 'HR',\n",
       " 'RAIN',\n",
       " 'SNOW',\n",
       " 'SNOW_DEPTH',\n",
       " 'SOILPSI',\n",
       " 'TBOT',\n",
       " 'TSOI']"
      ]
     },
     "execution_count": 11,
     "metadata": {},
     "output_type": "execute_result"
    }
   ],
   "source": [
    "list(ds_ctsm.var())"
   ]
  },
  {
   "cell_type": "code",
   "execution_count": 37,
   "id": "5c3e6f4f-2312-47ef-8ffb-b2cd464f8fc4",
   "metadata": {},
   "outputs": [
    {
     "data": {
      "image/png": "[encoded data removed]",
      "text/plain": [
       "<Figure size 432x288 with 1 Axes>"
      ]
     },
     "metadata": {
      "needs_background": "light"
     },
     "output_type": "display_data"
    }
   ],
   "source": [
    "df_day.EFLX_LH_TOT.plot()\n",
    "df_day.sim_EFLX_LH_TOT.plot() ;\n",
    "plt.ylabel('ET');\n"
   ]
  },
  {
   "cell_type": "code",
   "execution_count": 42,
   "id": "b896bdaf-b66a-4c09-960e-6828ec0f6d17",
   "metadata": {},
   "outputs": [
    {
     "data": {
      "text/plain": [
       "<AxesSubplot:xlabel='local_date', ylabel='LAI & Matric Potential'>"
      ]
     },
     "execution_count": 42,
     "metadata": {},
     "output_type": "execute_result"
    },
    {
     "data": {
      "image/png": "[encoded data removed]",
      "text/plain": [
       "<Figure size 432x288 with 1 Axes>"
      ]
     },
     "metadata": {
      "needs_background": "light"
     },
     "output_type": "display_data"
    }
   ],
   "source": [
    "df_day.sim_ELAI.plot(color='tab:orange')\n",
    "plt.ylabel('LAI & Matric Potential');\n",
    "df_day.sim_SOILPSI.plot(color='tab:blue')\n"
   ]
  },
  {
   "cell_type": "code",
   "execution_count": 40,
   "id": "5364d908-ff38-4aba-8e76-eccf9efca8c2",
   "metadata": {},
   "outputs": [
    {
     "data": {
      "text/plain": [
       "NEE                3.316937e+00\n",
       "FSH                5.521310e+02\n",
       "EFLX_LH_TOT        1.713359e+03\n",
       "GPP                1.182677e+01\n",
       "Rnet               4.270678e+03\n",
       "sim_AR             6.661103e-10\n",
       "sim_ELAI           2.454198e+00\n",
       "sim_FCEV           1.313907e+02\n",
       "sim_FCTR           9.366448e+02\n",
       "sim_FGEV           1.362618e+02\n",
       "sim_FIRA           1.010489e+03\n",
       "sim_FSA            6.908995e+03\n",
       "sim_FSDSNDLN                NaN\n",
       "sim_FSDSNI         2.101265e+01\n",
       "sim_FSDSVDLN                NaN\n",
       "sim_FSDSVI         8.885757e+01\n",
       "sim_FSH            1.002185e+03\n",
       "sim_FSRNDLN                 NaN\n",
       "sim_FSRNI          2.592855e+00\n",
       "sim_FSRVDLN                 NaN\n",
       "sim_FSRVI          2.805838e+00\n",
       "sim_GPP            1.708462e+01\n",
       "sim_H2OSOI         4.270080e-03\n",
       "sim_HR             6.206097e-11\n",
       "sim_RAIN           2.037639e-09\n",
       "sim_SNOW           5.000726e-11\n",
       "sim_SNOW_DEPTH     2.361955e-03\n",
       "sim_SOILPSI        2.871145e+00\n",
       "sim_TBOT           1.187499e+02\n",
       "sim_TSOI           1.122380e+02\n",
       "sim_EFLX_LH_TOT    1.757466e+03\n",
       "sim_Rnet           4.528467e+03\n",
       "sim_NEE            4.263154e+00\n",
       "year               1.249100e+00\n",
       "month              1.183690e+01\n",
       "day                7.197518e+01\n",
       "hour               0.000000e+00\n",
       "local_hour         0.000000e+00\n",
       "dtype: float64"
      ]
     },
     "execution_count": 40,
     "metadata": {},
     "output_type": "execute_result"
    }
   ],
   "source": [
    "df_day.var()"
   ]
  },
  {
   "cell_type": "code",
   "execution_count": 28,
   "id": "80f3c83e-b66d-47d2-8331-fc233e215dd0",
   "metadata": {},
   "outputs": [
    {
     "data": {
      "image/png": "[encoded data removed]",
      "text/plain": [
       "<Figure size 432x288 with 1 Axes>"
      ]
     },
     "metadata": {
      "needs_background": "light"
     },
     "output_type": "display_data"
    }
   ],
   "source": [
    "df_day.GPP.plot();\n",
    "df_day.sim_GPP.plot();"
   ]
  },
  {
   "cell_type": "code",
   "execution_count": 30,
   "id": "efb553be-f8fc-4b23-b6fd-c9e665f82130",
   "metadata": {},
   "outputs": [
    {
     "data": {
      "text/plain": [
       "[<matplotlib.lines.Line2D at 0x2ae923103670>]"
      ]
     },
     "execution_count": 30,
     "metadata": {},
     "output_type": "execute_result"
    },
    {
     "data": {
      "image/png": "[encoded data removed]",
      "text/plain": [
       "<Figure size 432x288 with 1 Axes>"
      ]
     },
     "metadata": {
      "needs_background": "light"
     },
     "output_type": "display_data"
    }
   ],
   "source": [
    "#ds_ctsm.FSDSNDLN.isel(lndgrid=0).plot() ;\n",
    "plt.plot(ds_ctsm.time, ds_ctsm.GPP.isel(lndgrid=0)) ;"
   ]
  },
  {
   "cell_type": "code",
   "execution_count": null,
   "id": "1a37482d-771f-44de-b4a0-5b16bd071239",
   "metadata": {},
   "outputs": [],
   "source": []
  }
 ],
 "metadata": {
  "kernelspec": {
   "display_name": "NPL 2022b",
   "language": "python",
   "name": "npl-2022b"
  },
  "language_info": {
   "codemirror_mode": {
    "name": "ipython",
    "version": 3
   },
   "file_extension": ".py",
   "mimetype": "text/x-python",
   "name": "python",
   "nbconvert_exporter": "python",
   "pygments_lexer": "ipython3",
   "version": "3.8.13"
  }
 },
 "nbformat": 4,
 "nbformat_minor": 5
}
